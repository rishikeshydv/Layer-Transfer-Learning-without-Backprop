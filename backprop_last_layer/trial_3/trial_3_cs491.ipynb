{
  "cells": [
    {
      "cell_type": "code",
      "execution_count": 1,
      "metadata": {
        "id": "Bpv8NlNRv1LQ"
      },
      "outputs": [],
      "source": [
        "#defining imports\n",
        "import tensorflow as tf\n",
        "import numpy as np\n",
        "import matplotlib.pyplot as plt\n",
        "import time\n",
        "from tensorflow.keras import datasets\n",
        "from keras.layers import Dense\n",
        "\n"
      ]
    },
    {
      "cell_type": "code",
      "execution_count": 2,
      "metadata": {},
      "outputs": [],
      "source": [
        "import ssl\n",
        "ssl._create_default_https_context = ssl._create_unverified_context"
      ]
    },
    {
      "cell_type": "code",
      "execution_count": 3,
      "metadata": {
        "id": "RcYcRLeCwMoL"
      },
      "outputs": [],
      "source": [
        "#defining training and testing datasets\n",
        "(x_train, y_train), (x_test,y_test) = datasets.mnist.load_data()"
      ]
    },
    {
      "cell_type": "code",
      "execution_count": 4,
      "metadata": {
        "id": "nbL7oSz3z3zG"
      },
      "outputs": [],
      "source": [
        "#adding 4th dimension as 1 to declare as grayscale image\n",
        "#normalizing the images\n",
        "x_train = x_train.reshape((60000, 28, 28, 1))\n",
        "x_train = x_train / 255.0\n",
        "x_test = x_test.reshape((10000, 28, 28, 1))\n",
        "x_test = x_test / 255.0"
      ]
    },
    {
      "cell_type": "code",
      "execution_count": 25,
      "metadata": {},
      "outputs": [
        {
          "data": {
            "text/plain": [
              "{0, 1, 2, 3, 4, 5, 6, 7, 8, 9}"
            ]
          },
          "execution_count": 25,
          "metadata": {},
          "output_type": "execute_result"
        }
      ],
      "source": [
        "set(y_test)"
      ]
    },
    {
      "cell_type": "code",
      "execution_count": 39,
      "metadata": {
        "colab": {
          "base_uri": "https://localhost:8080/"
        },
        "id": "J78U-7yCugfV",
        "outputId": "87867366-108d-4688-9c7d-86e6bd3acb14"
      },
      "outputs": [],
      "source": [
        "# Define the CNN model\n",
        "model = tf.keras.models.Sequential([\n",
        "    tf.keras.layers.Conv2D(32, (3, 3), activation='relu', input_shape=(28, 28, 1), name='conv2d_1'),\n",
        "    tf.keras.layers.Conv2D(32, (3, 3), activation='relu', name='conv2d_2'),\n",
        "    tf.keras.layers.Conv2D(32, (3, 3), activation='relu', name='conv2d_3'),\n",
        "    tf.keras.layers.Flatten(name='flatten'),\n",
        "    # tf.keras.layers.Dense(128, activation='relu', name='dense_1'),\n",
        "    tf.keras.layers.Dense(10, activation='softmax', name='output')\n",
        "])\n"
      ]
    },
    {
      "cell_type": "code",
      "execution_count": 53,
      "metadata": {
        "id": "jNGdMMua4aCI"
      },
      "outputs": [],
      "source": [
        "# compile the model\n",
        "opt = tf.keras.optimizers.legacy.Adam(learning_rate=0.001)\n",
        "model.compile(optimizer=opt,\n",
        "              loss='sparse_categorical_crossentropy',\n",
        "              metrics=['accuracy'])"
      ]
    },
    {
      "cell_type": "code",
      "execution_count": 7,
      "metadata": {
        "colab": {
          "base_uri": "https://localhost:8080/"
        },
        "id": "yyfUltwE4k2l",
        "outputId": "e26ad04c-79d3-4050-cf91-fbec0df8c7e4"
      },
      "outputs": [
        {
          "name": "stderr",
          "output_type": "stream",
          "text": [
            "2023-03-28 12:06:34.136459: W tensorflow/tsl/platform/profile_utils/cpu_utils.cc:128] Failed to get CPU frequency: 0 Hz\n"
          ]
        },
        {
          "name": "stdout",
          "output_type": "stream",
          "text": [
            "1875/1875 [==============================] - 31s 16ms/step - loss: 0.1229 - accuracy: 0.9631 - val_loss: 0.0475 - val_accuracy: 0.9856\n"
          ]
        }
      ],
      "source": [
        "# Train the model and display the activations after each epoch\n",
        "start_time = time.time()\n",
        "history = model.fit(x_train, y_train, epochs=1, validation_data=(x_test, y_test))\n",
        "end_time = time.time()"
      ]
    },
    {
      "cell_type": "code",
      "execution_count": 8,
      "metadata": {
        "colab": {
          "base_uri": "https://localhost:8080/"
        },
        "id": "om8u3MA76GbJ",
        "outputId": "f8b865fd-440b-423e-c6f9-c53835ba21db"
      },
      "outputs": [
        {
          "name": "stdout",
          "output_type": "stream",
          "text": [
            "313/313 - 1s - loss: 0.0475 - accuracy: 0.9856 - 1s/epoch - 5ms/step\n",
            "Test accuracy: 0.9855999946594238\n",
            "Time elapsed:  31.3660569190979\n"
          ]
        }
      ],
      "source": [
        "test_loss, test_acc = model.evaluate(x_test, y_test, verbose=2)\n",
        "print('Test accuracy:', test_acc)\n",
        "print('Time elapsed: ', end_time - start_time)"
      ]
    },
    {
      "cell_type": "code",
      "execution_count": 9,
      "metadata": {
        "id": "1WQCF39FCybs"
      },
      "outputs": [],
      "source": [
        "#saving the model\n",
        "model.save('initial_model.h5')\n",
        "\n",
        "# You can later load this saved model using the load_model function from Keras:\n",
        "\n",
        "# from keras.models import load_model\n",
        "# model = load_model('my_model.h5')\n"
      ]
    },
    {
      "cell_type": "markdown",
      "metadata": {
        "id": "1mp-JZQ0ADEI"
      },
      "source": [
        "### **lets do predictions by manually inputting any random images**"
      ]
    },
    {
      "cell_type": "code",
      "execution_count": 10,
      "metadata": {
        "colab": {
          "base_uri": "https://localhost:8080/",
          "height": 173
        },
        "id": "Ghhe4xk5-a66",
        "outputId": "018d4a3c-0e93-4651-cab8-5880e4d5bc82"
      },
      "outputs": [
        {
          "data": {
            "image/png": "[encoded data removed]",
            "text/plain": [
              "<Figure size 1500x200 with 1 Axes>"
            ]
          },
          "metadata": {},
          "output_type": "display_data"
        }
      ],
      "source": [
        "classes = ['zero','one','two','three','four','five','six','seven','eight','nine']\n",
        "\n",
        "def plot_sample(X, y, index):\n",
        "    plt.figure(figsize = (15,2))\n",
        "    plt.imshow(X[index])\n",
        "    #plt.xlabel(classes[y[index]])\n",
        "\n",
        "plot_sample(x_train, y_train, 0)"
      ]
    },
    {
      "cell_type": "code",
      "execution_count": 20,
      "metadata": {
        "colab": {
          "base_uri": "https://localhost:8080/"
        },
        "id": "QJHh2n5SAp0x",
        "outputId": "10e41e69-1d35-4661-c32d-70183b703672"
      },
      "outputs": [
        {
          "name": "stdout",
          "output_type": "stream",
          "text": [
            "313/313 [==============================] - 1s 5ms/step\n"
          ]
        },
        {
          "data": {
            "text/plain": [
              "array([[7.8748627e-08, 1.4109665e-07, 2.9053090e-06, 1.4274611e-05,\n",
              "        7.7229139e-09, 5.0298985e-07, 8.5502664e-12, 9.9997628e-01,\n",
              "        3.5628634e-07, 5.5117303e-06],\n",
              "       [2.1454414e-04, 5.1579005e-05, 9.9714369e-01, 1.7595183e-06,\n",
              "        5.5630278e-09, 1.3896116e-07, 2.5295224e-03, 2.0554154e-09,\n",
              "        5.8702124e-05, 3.1027647e-09],\n",
              "       [9.1059310e-06, 9.9656880e-01, 2.5633635e-04, 1.1577804e-05,\n",
              "        1.5844750e-03, 3.5106241e-05, 2.3621376e-05, 3.7787101e-04,\n",
              "        1.1284115e-03, 4.5667662e-06],\n",
              "       [9.9982446e-01, 1.7892258e-08, 6.2368192e-05, 1.9826250e-07,\n",
              "        2.9581550e-08, 1.0001057e-06, 2.0036383e-05, 3.7694147e-07,\n",
              "        7.5323580e-05, 1.6240416e-05],\n",
              "       [1.7639816e-06, 4.1234230e-07, 1.9173294e-06, 6.8180356e-07,\n",
              "        9.9918038e-01, 1.1276387e-06, 3.9015649e-06, 3.1501995e-06,\n",
              "        7.4849842e-05, 7.3181005e-04]], dtype=float32)"
            ]
          },
          "execution_count": 20,
          "metadata": {},
          "output_type": "execute_result"
        }
      ],
      "source": [
        "y_pred = model.predict(x_test)\n",
        "y_pred[:5]"
      ]
    },
    {
      "cell_type": "code",
      "execution_count": 12,
      "metadata": {
        "colab": {
          "base_uri": "https://localhost:8080/"
        },
        "id": "cfIIYHNAA2pB",
        "outputId": "6b7c2337-64e1-4dc6-a357-005631b4ab88"
      },
      "outputs": [
        {
          "data": {
            "text/plain": [
              "[7, 2, 1, 0, 4]"
            ]
          },
          "execution_count": 12,
          "metadata": {},
          "output_type": "execute_result"
        }
      ],
      "source": [
        "y_classes = [np.argmax(element) for element in y_pred]\n",
        "y_classes[:5]"
      ]
    },
    {
      "cell_type": "code",
      "execution_count": 21,
      "metadata": {
        "colab": {
          "base_uri": "https://localhost:8080/",
          "height": 173
        },
        "id": "5Ck6JhvUA_XJ",
        "outputId": "88206f94-942f-4415-fa4e-9713b8cafaea"
      },
      "outputs": [
        {
          "data": {
            "image/png": "[encoded data removed]",
            "text/plain": [
              "<Figure size 1500x200 with 1 Axes>"
            ]
          },
          "metadata": {},
          "output_type": "display_data"
        }
      ],
      "source": [
        "#plotting the dataset in that index of testing data\n",
        "plot_sample(x_test, y_test,3)"
      ]
    },
    {
      "cell_type": "code",
      "execution_count": 14,
      "metadata": {
        "colab": {
          "base_uri": "https://localhost:8080/",
          "height": 187
        },
        "id": "vSQO-5PaBU53",
        "outputId": "c8056f8f-02cd-4774-ee84-9d347fa052aa"
      },
      "outputs": [
        {
          "data": {
            "text/plain": [
              "'zero'"
            ]
          },
          "execution_count": 14,
          "metadata": {},
          "output_type": "execute_result"
        }
      ],
      "source": [
        "#predicting class of the image\n",
        "classes[y_classes[3]]"
      ]
    },
    {
      "cell_type": "markdown",
      "metadata": {
        "id": "3N-8U1ES6hVY"
      },
      "source": [
        "### **Now, we are going to make a new model where only DENSE layer is trainable. The remaining layers would be used as trained in the earlier model**"
      ]
    },
    {
      "cell_type": "code",
      "execution_count": 40,
      "metadata": {
        "colab": {
          "base_uri": "https://localhost:8080/"
        },
        "id": "7CUHfDh665RT",
        "outputId": "c1d6b68f-f39f-4132-d537-96549896f821"
      },
      "outputs": [
        {
          "name": "stdout",
          "output_type": "stream",
          "text": [
            "Model: \"sequential_1\"\n",
            "_________________________________________________________________\n",
            " Layer (type)                Output Shape              Param #   \n",
            "=================================================================\n",
            " conv2d_1 (Conv2D)           (None, 26, 26, 32)        320       \n",
            "                                                                 \n",
            " conv2d_2 (Conv2D)           (None, 24, 24, 32)        9248      \n",
            "                                                                 \n",
            " conv2d_3 (Conv2D)           (None, 22, 22, 32)        9248      \n",
            "                                                                 \n",
            " flatten (Flatten)           (None, 15488)             0         \n",
            "                                                                 \n",
            "=================================================================\n",
            "Total params: 18,816\n",
            "Trainable params: 0\n",
            "Non-trainable params: 18,816\n",
            "_________________________________________________________________\n",
            "Model: \"sequential_1\"\n",
            "_________________________________________________________________\n",
            " Layer (type)                Output Shape              Param #   \n",
            "=================================================================\n",
            " conv2d_1 (Conv2D)           (None, 26, 26, 32)        320       \n",
            "                                                                 \n",
            " conv2d_2 (Conv2D)           (None, 24, 24, 32)        9248      \n",
            "                                                                 \n",
            " conv2d_3 (Conv2D)           (None, 22, 22, 32)        9248      \n",
            "                                                                 \n",
            " flatten (Flatten)           (None, 15488)             0         \n",
            "                                                                 \n",
            " dense_2 (Dense)             (None, 26)                402714    \n",
            "                                                                 \n",
            "=================================================================\n",
            "Total params: 421,530\n",
            "Trainable params: 0\n",
            "Non-trainable params: 421,530\n",
            "_________________________________________________________________\n"
          ]
        }
      ],
      "source": [
        "#deleting the last(DENSE) layer of the previously trained model\n",
        "model.pop()\n",
        "\n",
        "#turning off training in the remaining layers of the model\n",
        "model.trainable = False\n",
        "model.summary()\n",
        "\n",
        "#adding a new DENSE layer\n",
        "model.add(Dense(units = 26, activation = 'softmax', trainable = True))\n",
        "model.summary()"
      ]
    },
    {
      "cell_type": "code",
      "execution_count": 16,
      "metadata": {},
      "outputs": [],
      "source": [
        "# %pip install emnist\n",
        "import emnist\n",
        "from emnist import extract_training_samples\n",
        "from emnist import extract_test_samples\n",
        "\n"
      ]
    },
    {
      "cell_type": "code",
      "execution_count": 17,
      "metadata": {},
      "outputs": [
        {
          "data": {
            "text/plain": [
              "['balanced', 'byclass', 'bymerge', 'digits', 'letters', 'mnist']"
            ]
          },
          "execution_count": 17,
          "metadata": {},
          "output_type": "execute_result"
        }
      ],
      "source": [
        "emnist.list_datasets()"
      ]
    },
    {
      "cell_type": "code",
      "execution_count": 27,
      "metadata": {
        "colab": {
          "base_uri": "https://localhost:8080/",
          "height": 187
        },
        "id": "8Zvm4BF67uVy",
        "outputId": "deb5dbf9-9c5f-437f-a4cd-d3753222dc67"
      },
      "outputs": [],
      "source": [
        "#using EMNIST (Extended MNIST) dataset\n",
        "train_img,train_labels = extract_training_samples('letters')\n",
        "test_img,test_labels = extract_test_samples('letters')\n",
        "\n",
        "train_labels=train_labels-1\n",
        "test_labels=test_labels-1"
      ]
    },
    {
      "cell_type": "code",
      "execution_count": 28,
      "metadata": {},
      "outputs": [
        {
          "data": {
            "text/plain": [
              "{0,\n",
              " 1,\n",
              " 2,\n",
              " 3,\n",
              " 4,\n",
              " 5,\n",
              " 6,\n",
              " 7,\n",
              " 8,\n",
              " 9,\n",
              " 10,\n",
              " 11,\n",
              " 12,\n",
              " 13,\n",
              " 14,\n",
              " 15,\n",
              " 16,\n",
              " 17,\n",
              " 18,\n",
              " 19,\n",
              " 20,\n",
              " 21,\n",
              " 22,\n",
              " 23,\n",
              " 24,\n",
              " 25}"
            ]
          },
          "execution_count": 28,
          "metadata": {},
          "output_type": "execute_result"
        }
      ],
      "source": [
        "set(test_labels)"
      ]
    },
    {
      "cell_type": "code",
      "execution_count": 32,
      "metadata": {},
      "outputs": [
        {
          "data": {
            "image/png": "[encoded data removed]",
            "text/plain": [
              "<Figure size 1500x200 with 1 Axes>"
            ]
          },
          "metadata": {},
          "output_type": "display_data"
        }
      ],
      "source": [
        "def plot_sample(X, y, index):\n",
        "    plt.figure(figsize = (15,2))\n",
        "    plt.imshow(X[index])\n",
        "    plt.xlabel('abcdefghijklmnopqrstuvwxyz'[y[index]])\n",
        "\n",
        "\n",
        "plot_sample(train_img,train_labels,10)"
      ]
    },
    {
      "cell_type": "code",
      "execution_count": 54,
      "metadata": {},
      "outputs": [
        {
          "name": "stdout",
          "output_type": "stream",
          "text": [
            "Epoch 1/10\n",
            "3900/3900 [==============================] - 61s 16ms/step - loss: 0.5159 - accuracy: 0.8526 - val_loss: 0.3287 - val_accuracy: 0.8986\n",
            "Epoch 2/10\n",
            "3900/3900 [==============================] - 61s 16ms/step - loss: 0.2770 - accuracy: 0.9104 - val_loss: 0.3104 - val_accuracy: 0.9028\n",
            "Epoch 3/10\n",
            "3900/3900 [==============================] - 59s 15ms/step - loss: 0.2042 - accuracy: 0.9314 - val_loss: 0.3052 - val_accuracy: 0.9071\n",
            "Epoch 4/10\n",
            "3900/3900 [==============================] - 59s 15ms/step - loss: 0.1538 - accuracy: 0.9455 - val_loss: 0.3414 - val_accuracy: 0.9072\n",
            "Epoch 5/10\n",
            "3900/3900 [==============================] - 59s 15ms/step - loss: 0.1218 - accuracy: 0.9552 - val_loss: 0.3823 - val_accuracy: 0.9037\n",
            "Epoch 6/10\n",
            "3900/3900 [==============================] - 59s 15ms/step - loss: 0.1010 - accuracy: 0.9621 - val_loss: 0.4487 - val_accuracy: 0.9001\n",
            "Epoch 7/10\n",
            "3900/3900 [==============================] - 60s 15ms/step - loss: 0.0867 - accuracy: 0.9661 - val_loss: 0.4902 - val_accuracy: 0.8989\n",
            "Epoch 8/10\n",
            "3900/3900 [==============================] - 60s 15ms/step - loss: 0.0785 - accuracy: 0.9700 - val_loss: 0.5731 - val_accuracy: 0.9005\n",
            "Epoch 9/10\n",
            "3900/3900 [==============================] - 60s 15ms/step - loss: 0.0705 - accuracy: 0.9729 - val_loss: 0.6038 - val_accuracy: 0.8931\n",
            "Epoch 10/10\n",
            "3900/3900 [==============================] - 60s 15ms/step - loss: 0.0667 - accuracy: 0.9745 - val_loss: 0.6929 - val_accuracy: 0.8968\n"
          ]
        }
      ],
      "source": [
        "# Train the model and display the activations after each epoch\n",
        "start_time = time.time()\n",
        "history = model.fit(train_img, train_labels, epochs=10, validation_data=(test_img, test_labels))\n",
        "end_time = time.time()"
      ]
    },
    {
      "cell_type": "code",
      "execution_count": 51,
      "metadata": {},
      "outputs": [],
      "source": [
        "model.trainable=True\n",
        "for layer in model.layers:\n",
        "    layer.trainable=True"
      ]
    }
  ],
  "metadata": {
    "colab": {
      "provenance": []
    },
    "kernelspec": {
      "display_name": "Python 3.10.7 64-bit",
      "language": "python",
      "name": "python3"
    },
    "language_info": {
      "codemirror_mode": {
        "name": "ipython",
        "version": 3
      },
      "file_extension": ".py",
      "mimetype": "text/x-python",
      "name": "python",
      "nbconvert_exporter": "python",
      "pygments_lexer": "ipython3",
      "version": "3.10.7"
    },
    "vscode": {
      "interpreter": {
        "hash": "aee8b7b246df8f9039afb4144a1f6fd8d2ca17a180786b69acc140d282b71a49"
      }
    }
  },
  "nbformat": 4,
  "nbformat_minor": 0
}
