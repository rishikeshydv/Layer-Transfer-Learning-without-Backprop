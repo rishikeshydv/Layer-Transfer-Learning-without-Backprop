{
  "cells": [
    {
      "cell_type": "markdown",
      "metadata": {},
      "source": [
        "In this project, we are training the model with [trainable = True] for 0-9.\n",
        "We then turn off the training except for the final dense layer as we train\n",
        "for A-Z (10-35). We then test the test_dataset by combining 0-9 and A-Z."
      ]
    },
    {
      "cell_type": "code",
      "execution_count": 240,
      "metadata": {
        "id": "Bpv8NlNRv1LQ"
      },
      "outputs": [],
      "source": [
        "#defining imports\n",
        "import tensorflow as tf\n",
        "import numpy as np\n",
        "import matplotlib.pyplot as plt\n",
        "import time\n",
        "from tensorflow.keras import datasets\n",
        "from keras.layers import Dense\n",
        "import pandas as pd\n",
        "\n"
      ]
    },
    {
      "cell_type": "markdown",
      "metadata": {},
      "source": [
        "Defining a function to plot the datasets"
      ]
    },
    {
      "cell_type": "code",
      "execution_count": 241,
      "metadata": {},
      "outputs": [],
      "source": [
        "def plot_sample(x, y, index):\n",
        "    plt.figure(figsize = (1,25))\n",
        "    plt.imshow(x[index])\n",
        "    #plt.xlabel(classes[y[index]])"
      ]
    },
    {
      "cell_type": "code",
      "execution_count": 242,
      "metadata": {},
      "outputs": [],
      "source": [
        "import ssl\n",
        "ssl._create_default_https_context = ssl._create_unverified_context"
      ]
    },
    {
      "cell_type": "code",
      "execution_count": 243,
      "metadata": {
        "id": "RcYcRLeCwMoL"
      },
      "outputs": [],
      "source": [
        "#defining training and testing datasets\n",
        "(x_train, y_train), (x_test,y_test) = datasets.mnist.load_data()"
      ]
    },
    {
      "cell_type": "code",
      "execution_count": 244,
      "metadata": {
        "id": "nbL7oSz3z3zG"
      },
      "outputs": [],
      "source": [
        "#adding 4th dimension as 1 to declare as grayscale image\n",
        "#normalizing the images\n",
        "x_train = x_train.reshape((60000, 28, 28, 1))\n",
        "x_train = x_train / 255.0\n",
        "x_test = x_test.reshape((10000, 28, 28, 1))\n",
        "x_test = x_test / 255.0"
      ]
    },
    {
      "cell_type": "code",
      "execution_count": 245,
      "metadata": {
        "colab": {
          "base_uri": "https://localhost:8080/"
        },
        "id": "J78U-7yCugfV",
        "outputId": "87867366-108d-4688-9c7d-86e6bd3acb14"
      },
      "outputs": [],
      "source": [
        "# Define the CNN model\n",
        "model = tf.keras.models.Sequential([\n",
        "    tf.keras.layers.Conv2D(32, (3, 3), activation='relu', input_shape=(28, 28, 1), name='conv2d_1'),\n",
        "    tf.keras.layers.Conv2D(32, (3, 3), activation='relu', name='conv2d_2'),\n",
        "    tf.keras.layers.Conv2D(32, (3, 3), activation='relu', name='conv2d_3'),\n",
        "    tf.keras.layers.Flatten(name='flatten'),\n",
        "    # tf.keras.layers.Dense(128, activation='relu', name='dense_1'),\n",
        "    tf.keras.layers.Dense(10, activation='softmax', name='output')\n",
        "])\n"
      ]
    },
    {
      "cell_type": "code",
      "execution_count": 246,
      "metadata": {
        "id": "jNGdMMua4aCI"
      },
      "outputs": [],
      "source": [
        "# compile the model\n",
        "opt = tf.keras.optimizers.legacy.Adam(learning_rate=0.001)\n",
        "model.compile(optimizer=opt,\n",
        "              loss='sparse_categorical_crossentropy',\n",
        "              metrics=['accuracy'])"
      ]
    },
    {
      "cell_type": "code",
      "execution_count": 247,
      "metadata": {
        "colab": {
          "base_uri": "https://localhost:8080/"
        },
        "id": "yyfUltwE4k2l",
        "outputId": "e26ad04c-79d3-4050-cf91-fbec0df8c7e4"
      },
      "outputs": [
        {
          "name": "stdout",
          "output_type": "stream",
          "text": [
            "Epoch 1/10\n",
            "1875/1875 [==============================] - 30s 16ms/step - loss: 0.1226 - accuracy: 0.9631 - val_loss: 0.0484 - val_accuracy: 0.9854\n",
            "Epoch 2/10\n",
            "1875/1875 [==============================] - 29s 15ms/step - loss: 0.0439 - accuracy: 0.9864 - val_loss: 0.0491 - val_accuracy: 0.9840\n",
            "Epoch 3/10\n",
            "1875/1875 [==============================] - 29s 15ms/step - loss: 0.0295 - accuracy: 0.9905 - val_loss: 0.0403 - val_accuracy: 0.9869\n",
            "Epoch 4/10\n",
            "1875/1875 [==============================] - 29s 16ms/step - loss: 0.0201 - accuracy: 0.9933 - val_loss: 0.0422 - val_accuracy: 0.9874\n",
            "Epoch 5/10\n",
            "1875/1875 [==============================] - 28s 15ms/step - loss: 0.0151 - accuracy: 0.9949 - val_loss: 0.0423 - val_accuracy: 0.9876\n",
            "Epoch 6/10\n",
            "1875/1875 [==============================] - 28s 15ms/step - loss: 0.0113 - accuracy: 0.9960 - val_loss: 0.0444 - val_accuracy: 0.9880\n",
            "Epoch 7/10\n",
            "1875/1875 [==============================] - 28s 15ms/step - loss: 0.0088 - accuracy: 0.9970 - val_loss: 0.0775 - val_accuracy: 0.9841\n",
            "Epoch 8/10\n",
            "1875/1875 [==============================] - 29s 15ms/step - loss: 0.0077 - accuracy: 0.9974 - val_loss: 0.0662 - val_accuracy: 0.9853\n",
            "Epoch 9/10\n",
            "1875/1875 [==============================] - 29s 15ms/step - loss: 0.0057 - accuracy: 0.9982 - val_loss: 0.0646 - val_accuracy: 0.9886\n",
            "Epoch 10/10\n",
            "1875/1875 [==============================] - 28s 15ms/step - loss: 0.0054 - accuracy: 0.9981 - val_loss: 0.0739 - val_accuracy: 0.9869\n"
          ]
        }
      ],
      "source": [
        "# Train the model and display the activations after each epoch\n",
        "start_time = time.time()\n",
        "history = model.fit(x_train, y_train, epochs=10, validation_data=(x_test, y_test))\n",
        "end_time = time.time()"
      ]
    },
    {
      "cell_type": "code",
      "execution_count": 248,
      "metadata": {
        "colab": {
          "base_uri": "https://localhost:8080/"
        },
        "id": "om8u3MA76GbJ",
        "outputId": "f8b865fd-440b-423e-c6f9-c53835ba21db"
      },
      "outputs": [
        {
          "name": "stdout",
          "output_type": "stream",
          "text": [
            "313/313 - 1s - loss: 0.0739 - accuracy: 0.9869 - 1s/epoch - 4ms/step\n",
            "Test accuracy: 0.9868999719619751\n",
            "Time elapsed:  286.6729018688202\n"
          ]
        }
      ],
      "source": [
        "test_loss, test_acc = model.evaluate(x_test, y_test, verbose=2)\n",
        "print('Test accuracy:', test_acc)\n",
        "print('Time elapsed: ', end_time - start_time)"
      ]
    },
    {
      "cell_type": "code",
      "execution_count": 249,
      "metadata": {
        "id": "1WQCF39FCybs"
      },
      "outputs": [],
      "source": [
        "#saving the model\n",
        "model.save('initial_model.h5')\n",
        "\n",
        "# You can later load this saved model using the load_model function from Keras:\n",
        "\n",
        "# from keras.models import load_model\n",
        "# model = load_model('my_model.h5')\n"
      ]
    },
    {
      "cell_type": "markdown",
      "metadata": {
        "id": "3N-8U1ES6hVY"
      },
      "source": [
        "### **Now, we are going to make a new model where only DENSE layer is trainable. The remaining layers would be used as trained in the earlier model**"
      ]
    },
    {
      "cell_type": "code",
      "execution_count": 250,
      "metadata": {
        "colab": {
          "base_uri": "https://localhost:8080/"
        },
        "id": "7CUHfDh665RT",
        "outputId": "c1d6b68f-f39f-4132-d537-96549896f821"
      },
      "outputs": [
        {
          "name": "stdout",
          "output_type": "stream",
          "text": [
            "Model: \"sequential_6\"\n",
            "_________________________________________________________________\n",
            " Layer (type)                Output Shape              Param #   \n",
            "=================================================================\n",
            " conv2d_1 (Conv2D)           (None, 26, 26, 32)        320       \n",
            "                                                                 \n",
            " conv2d_2 (Conv2D)           (None, 24, 24, 32)        9248      \n",
            "                                                                 \n",
            " conv2d_3 (Conv2D)           (None, 22, 22, 32)        9248      \n",
            "                                                                 \n",
            " flatten (Flatten)           (None, 15488)             0         \n",
            "                                                                 \n",
            "=================================================================\n",
            "Total params: 18,816\n",
            "Trainable params: 0\n",
            "Non-trainable params: 18,816\n",
            "_________________________________________________________________\n",
            "Model: \"sequential_6\"\n",
            "_________________________________________________________________\n",
            " Layer (type)                Output Shape              Param #   \n",
            "=================================================================\n",
            " conv2d_1 (Conv2D)           (None, 26, 26, 32)        320       \n",
            "                                                                 \n",
            " conv2d_2 (Conv2D)           (None, 24, 24, 32)        9248      \n",
            "                                                                 \n",
            " conv2d_3 (Conv2D)           (None, 22, 22, 32)        9248      \n",
            "                                                                 \n",
            " flatten (Flatten)           (None, 15488)             0         \n",
            "                                                                 \n",
            " dense_12 (Dense)            (None, 47)                727983    \n",
            "                                                                 \n",
            "=================================================================\n",
            "Total params: 746,799\n",
            "Trainable params: 727,983\n",
            "Non-trainable params: 18,816\n",
            "_________________________________________________________________\n"
          ]
        }
      ],
      "source": [
        "#deleting the last(DENSE) layer of the previously trained model\n",
        "model.pop()\n",
        "\n",
        "#turning off training in the remaining layers of the model\n",
        "#model.trainable = False\n",
        "for layer in model.layers:\n",
        "    layer.trainable=False\n",
        "model.summary()\n",
        "\n",
        "#adding a new DENSE layer\n",
        "model.add(Dense(units = 47, activation = 'softmax', trainable = True))\n",
        "model.summary()"
      ]
    },
    {
      "cell_type": "code",
      "execution_count": 251,
      "metadata": {},
      "outputs": [],
      "source": [
        "# compile the model\n",
        "opt = tf.keras.optimizers.legacy.Adam(learning_rate=0.001)\n",
        "model.compile(optimizer=opt,\n",
        "              loss='sparse_categorical_crossentropy',\n",
        "              metrics=['accuracy'])"
      ]
    },
    {
      "cell_type": "code",
      "execution_count": 252,
      "metadata": {},
      "outputs": [],
      "source": [
        "# %pip install emnist\n",
        "import emnist\n",
        "from emnist import extract_training_samples\n",
        "from emnist import extract_test_samples\n",
        "\n"
      ]
    },
    {
      "cell_type": "code",
      "execution_count": 253,
      "metadata": {},
      "outputs": [
        {
          "data": {
            "text/plain": [
              "['balanced', 'byclass', 'bymerge', 'digits', 'letters', 'mnist']"
            ]
          },
          "execution_count": 253,
          "metadata": {},
          "output_type": "execute_result"
        }
      ],
      "source": [
        "emnist.list_datasets()"
      ]
    },
    {
      "cell_type": "markdown",
      "metadata": {},
      "source": [
        "Plotting Datasets"
      ]
    },
    {
      "cell_type": "code",
      "execution_count": 254,
      "metadata": {},
      "outputs": [
        {
          "data": {
            "image/png": "[encoded data removed]",
            "text/plain": [
              "<Figure size 100x2500 with 1 Axes>"
            ]
          },
          "metadata": {},
          "output_type": "display_data"
        }
      ],
      "source": [
        "plot_sample(train_img, train_labels,0)"
      ]
    },
    {
      "cell_type": "code",
      "execution_count": 255,
      "metadata": {
        "colab": {
          "base_uri": "https://localhost:8080/",
          "height": 187
        },
        "id": "8Zvm4BF67uVy",
        "outputId": "deb5dbf9-9c5f-437f-a4cd-d3753222dc67"
      },
      "outputs": [],
      "source": [
        "#using EMNIST (Extended MNIST) dataset\n",
        "train_img,train_labels = extract_training_samples('letters')\n",
        "test_img,test_labels = extract_test_samples('letters')\n",
        "\n",
        "#setting A = 10 and Z  = 35, and A-Z = 10-35\n",
        "train_labels=train_labels+9\n",
        "test_labels=test_labels+9"
      ]
    },
    {
      "cell_type": "code",
      "execution_count": 256,
      "metadata": {},
      "outputs": [
        {
          "data": {
            "text/plain": [
              "{10,\n",
              " 11,\n",
              " 12,\n",
              " 13,\n",
              " 14,\n",
              " 15,\n",
              " 16,\n",
              " 17,\n",
              " 18,\n",
              " 19,\n",
              " 20,\n",
              " 21,\n",
              " 22,\n",
              " 23,\n",
              " 24,\n",
              " 25,\n",
              " 26,\n",
              " 27,\n",
              " 28,\n",
              " 29,\n",
              " 30,\n",
              " 31,\n",
              " 32,\n",
              " 33,\n",
              " 34,\n",
              " 35}"
            ]
          },
          "execution_count": 256,
          "metadata": {},
          "output_type": "execute_result"
        }
      ],
      "source": [
        "set(test_labels)"
      ]
    },
    {
      "cell_type": "markdown",
      "metadata": {},
      "source": [
        "Training on A-Z"
      ]
    },
    {
      "cell_type": "code",
      "execution_count": 257,
      "metadata": {},
      "outputs": [
        {
          "name": "stdout",
          "output_type": "stream",
          "text": [
            "Epoch 1/10\n",
            "3900/3900 [==============================] - 25s 6ms/step - loss: 69.8693 - accuracy: 0.8301 - val_loss: 75.4266 - val_accuracy: 0.8666\n",
            "Epoch 2/10\n",
            "3900/3900 [==============================] - 23s 6ms/step - loss: 54.3840 - accuracy: 0.8934 - val_loss: 90.4443 - val_accuracy: 0.8715\n",
            "Epoch 3/10\n",
            "3900/3900 [==============================] - 25s 6ms/step - loss: 45.2097 - accuracy: 0.9136 - val_loss: 94.6574 - val_accuracy: 0.8817\n",
            "Epoch 4/10\n",
            "3900/3900 [==============================] - 24s 6ms/step - loss: 38.3860 - accuracy: 0.9251 - val_loss: 103.2325 - val_accuracy: 0.8831\n",
            "Epoch 5/10\n",
            "3900/3900 [==============================] - 25s 6ms/step - loss: 33.0826 - accuracy: 0.9340 - val_loss: 106.2751 - val_accuracy: 0.8910\n",
            "Epoch 6/10\n",
            "3900/3900 [==============================] - 25s 6ms/step - loss: 29.7798 - accuracy: 0.9394 - val_loss: 117.2772 - val_accuracy: 0.8852\n",
            "Epoch 7/10\n",
            "3900/3900 [==============================] - 25s 6ms/step - loss: 25.6963 - accuracy: 0.9453 - val_loss: 124.4947 - val_accuracy: 0.8915\n",
            "Epoch 8/10\n",
            "3900/3900 [==============================] - 24s 6ms/step - loss: 23.1774 - accuracy: 0.9500 - val_loss: 128.5716 - val_accuracy: 0.8936\n",
            "Epoch 9/10\n",
            "3900/3900 [==============================] - 24s 6ms/step - loss: 21.4564 - accuracy: 0.9531 - val_loss: 137.9966 - val_accuracy: 0.8877\n",
            "Epoch 10/10\n",
            "3900/3900 [==============================] - 25s 6ms/step - loss: 19.3883 - accuracy: 0.9564 - val_loss: 138.9389 - val_accuracy: 0.8927\n"
          ]
        }
      ],
      "source": [
        "# Train the model and display the activations after each epoch\n",
        "start_time = time.time()\n",
        "history = model.fit(train_img, train_labels, epochs=10, validation_data=(test_img, test_labels))\n",
        "end_time = time.time()"
      ]
    },
    {
      "cell_type": "code",
      "execution_count": 258,
      "metadata": {},
      "outputs": [
        {
          "name": "stdout",
          "output_type": "stream",
          "text": [
            "650/650 - 3s - loss: 138.9389 - accuracy: 0.8927 - 3s/epoch - 5ms/step\n",
            "Test accuracy: 0.8927403688430786\n",
            "Time elapsed:  246.2365369796753\n"
          ]
        }
      ],
      "source": [
        "test_loss, test_acc = model.evaluate(test_img, test_labels, verbose=2)\n",
        "print('Test accuracy:', test_acc)\n",
        "print('Time elapsed: ', end_time - start_time)"
      ]
    },
    {
      "cell_type": "markdown",
      "metadata": {},
      "source": [
        "Datasets with both numbers and alphabets"
      ]
    },
    {
      "cell_type": "code",
      "execution_count": 259,
      "metadata": {},
      "outputs": [],
      "source": [
        "#using EMNIST (Extended MNIST) dataset\n",
        "final_train_img,final_train_labels = extract_training_samples('balanced')\n",
        "final_test_img,final_test_labels = extract_test_samples('balanced')"
      ]
    },
    {
      "cell_type": "code",
      "execution_count": 260,
      "metadata": {},
      "outputs": [
        {
          "data": {
            "text/plain": [
              "{0,\n",
              " 1,\n",
              " 2,\n",
              " 3,\n",
              " 4,\n",
              " 5,\n",
              " 6,\n",
              " 7,\n",
              " 8,\n",
              " 9,\n",
              " 10,\n",
              " 11,\n",
              " 12,\n",
              " 13,\n",
              " 14,\n",
              " 15,\n",
              " 16,\n",
              " 17,\n",
              " 18,\n",
              " 19,\n",
              " 20,\n",
              " 21,\n",
              " 22,\n",
              " 23,\n",
              " 24,\n",
              " 25,\n",
              " 26,\n",
              " 27,\n",
              " 28,\n",
              " 29,\n",
              " 30,\n",
              " 31,\n",
              " 32,\n",
              " 33,\n",
              " 34,\n",
              " 35,\n",
              " 36,\n",
              " 37,\n",
              " 38,\n",
              " 39,\n",
              " 40,\n",
              " 41,\n",
              " 42,\n",
              " 43,\n",
              " 44,\n",
              " 45,\n",
              " 46}"
            ]
          },
          "execution_count": 260,
          "metadata": {},
          "output_type": "execute_result"
        }
      ],
      "source": [
        "set(final_train_labels)"
      ]
    },
    {
      "cell_type": "code",
      "execution_count": 261,
      "metadata": {},
      "outputs": [
        {
          "data": {
            "image/png": "[encoded data removed]",
            "text/plain": [
              "<Figure size 100x2500 with 1 Axes>"
            ]
          },
          "metadata": {},
          "output_type": "display_data"
        }
      ],
      "source": [
        "plot_sample(final_train_img, final_train_labels,0)"
      ]
    },
    {
      "cell_type": "code",
      "execution_count": 262,
      "metadata": {},
      "outputs": [
        {
          "data": {
            "image/png": "[encoded data removed]",
            "text/plain": [
              "<Figure size 100x2500 with 1 Axes>"
            ]
          },
          "metadata": {},
          "output_type": "display_data"
        }
      ],
      "source": [
        "plot_sample(final_train_img, final_train_labels,4)"
      ]
    },
    {
      "cell_type": "markdown",
      "metadata": {},
      "source": [
        "Here, we will not be fitting our model for this dataset"
      ]
    },
    {
      "cell_type": "code",
      "execution_count": 263,
      "metadata": {},
      "outputs": [],
      "source": [
        "# Train the model and display the activations after each epoch\n",
        "#start_time = time.time()\n",
        "#history = model.fit(final_train_img, final_train_labels, epochs=10, validation_data=(test_img, test_labels))\n",
        "#end_time = time.time()"
      ]
    },
    {
      "cell_type": "code",
      "execution_count": 264,
      "metadata": {},
      "outputs": [
        {
          "name": "stdout",
          "output_type": "stream",
          "text": [
            "588/588 - 3s - loss: 2513.6768 - accuracy: 0.5103 - 3s/epoch - 5ms/step\n",
            "Test accuracy: 0.5102659463882446\n",
            "Time elapsed:  246.2365369796753\n"
          ]
        }
      ],
      "source": [
        "test_loss, test_acc = model.evaluate(final_test_img, final_test_labels, verbose=2)\n",
        "print('Test accuracy:', test_acc)\n",
        "print('Time elapsed: ', end_time - start_time)"
      ]
    }
  ],
  "metadata": {
    "colab": {
      "provenance": []
    },
    "kernelspec": {
      "display_name": "Python 3.10.7 64-bit",
      "language": "python",
      "name": "python3"
    },
    "language_info": {
      "codemirror_mode": {
        "name": "ipython",
        "version": 3
      },
      "file_extension": ".py",
      "mimetype": "text/x-python",
      "name": "python",
      "nbconvert_exporter": "python",
      "pygments_lexer": "ipython3",
      "version": "3.10.7"
    },
    "vscode": {
      "interpreter": {
        "hash": "aee8b7b246df8f9039afb4144a1f6fd8d2ca17a180786b69acc140d282b71a49"
      }
    }
  },
  "nbformat": 4,
  "nbformat_minor": 0
}
