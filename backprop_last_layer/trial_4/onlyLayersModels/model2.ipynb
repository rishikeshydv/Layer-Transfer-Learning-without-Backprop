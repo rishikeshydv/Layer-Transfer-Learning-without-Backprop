{
  "cells": [
    {
      "cell_type": "markdown",
      "metadata": {},
      "source": [
        "C_T, C_T, C_T, D_T => Dont Copy Model => New Model ( C_F, C_F, C_F, D_T )"
      ]
    },
    {
      "cell_type": "code",
      "execution_count": 25,
      "metadata": {
        "id": "Bpv8NlNRv1LQ"
      },
      "outputs": [],
      "source": [
        "#defining imports\n",
        "import tensorflow as tf\n",
        "import numpy as np\n",
        "import matplotlib.pyplot as plt\n",
        "import time\n",
        "from tensorflow.keras import datasets\n",
        "from keras.layers import Dense\n",
        "\n"
      ]
    },
    {
      "cell_type": "code",
      "execution_count": 26,
      "metadata": {},
      "outputs": [],
      "source": [
        "import ssl\n",
        "ssl._create_default_https_context = ssl._create_unverified_context"
      ]
    },
    {
      "cell_type": "code",
      "execution_count": 27,
      "metadata": {
        "id": "RcYcRLeCwMoL"
      },
      "outputs": [],
      "source": [
        "#defining training and testing datasets\n",
        "(x_train, y_train), (x_test,y_test) = datasets.mnist.load_data()"
      ]
    },
    {
      "cell_type": "code",
      "execution_count": 28,
      "metadata": {
        "id": "nbL7oSz3z3zG"
      },
      "outputs": [],
      "source": [
        "#adding 4th dimension as 1 to declare as grayscale image\n",
        "#normalizing the images\n",
        "x_train = x_train.reshape((60000, 28, 28, 1))\n",
        "x_train = x_train / 255.0\n",
        "x_test = x_test.reshape((10000, 28, 28, 1))\n",
        "x_test = x_test / 255.0"
      ]
    },
    {
      "cell_type": "code",
      "execution_count": 29,
      "metadata": {
        "colab": {
          "base_uri": "https://localhost:8080/"
        },
        "id": "J78U-7yCugfV",
        "outputId": "87867366-108d-4688-9c7d-86e6bd3acb14"
      },
      "outputs": [],
      "source": [
        "# Define the CNN model\n",
        "model = tf.keras.models.Sequential([\n",
        "    tf.keras.layers.Conv2D(32, (3, 3), activation='relu', input_shape=(28, 28, 1), name='conv2d_1'),\n",
        "    tf.keras.layers.Conv2D(32, (3, 3), activation='relu', name='conv2d_2'),\n",
        "    tf.keras.layers.Conv2D(32, (3, 3), activation='relu', name='conv2d_3'),\n",
        "    tf.keras.layers.Flatten(name='flatten'),\n",
        "    # tf.keras.layers.Dense(128, activation='relu', name='dense_1'),\n",
        "    tf.keras.layers.Dense(10, activation='softmax', name='output')\n",
        "])\n"
      ]
    },
    {
      "cell_type": "code",
      "execution_count": 30,
      "metadata": {
        "id": "jNGdMMua4aCI"
      },
      "outputs": [],
      "source": [
        "# compile the model\n",
        "opt = tf.keras.optimizers.legacy.Adam(learning_rate=0.001)\n",
        "model.compile(optimizer=opt,\n",
        "              loss='sparse_categorical_crossentropy',\n",
        "              metrics=['accuracy'])"
      ]
    },
    {
      "cell_type": "code",
      "execution_count": 31,
      "metadata": {
        "colab": {
          "base_uri": "https://localhost:8080/"
        },
        "id": "yyfUltwE4k2l",
        "outputId": "e26ad04c-79d3-4050-cf91-fbec0df8c7e4"
      },
      "outputs": [
        {
          "name": "stdout",
          "output_type": "stream",
          "text": [
            "Epoch 1/10\n",
            "1875/1875 [==============================] - 42s 22ms/step - loss: 0.1119 - accuracy: 0.9671 - val_loss: 0.0401 - val_accuracy: 0.9859\n",
            "Epoch 2/10\n",
            "1875/1875 [==============================] - 42s 23ms/step - loss: 0.0413 - accuracy: 0.9873 - val_loss: 0.0351 - val_accuracy: 0.9892\n",
            "Epoch 3/10\n",
            "1875/1875 [==============================] - 41s 22ms/step - loss: 0.0266 - accuracy: 0.9915 - val_loss: 0.0449 - val_accuracy: 0.9860\n",
            "Epoch 4/10\n",
            "1875/1875 [==============================] - 41s 22ms/step - loss: 0.0203 - accuracy: 0.9931 - val_loss: 0.0347 - val_accuracy: 0.9893\n",
            "Epoch 5/10\n",
            "1875/1875 [==============================] - 41s 22ms/step - loss: 0.0143 - accuracy: 0.9951 - val_loss: 0.0433 - val_accuracy: 0.9881\n",
            "Epoch 6/10\n",
            "1875/1875 [==============================] - 41s 22ms/step - loss: 0.0104 - accuracy: 0.9962 - val_loss: 0.0485 - val_accuracy: 0.9882\n",
            "Epoch 7/10\n",
            "1875/1875 [==============================] - 41s 22ms/step - loss: 0.0079 - accuracy: 0.9974 - val_loss: 0.0568 - val_accuracy: 0.9888\n",
            "Epoch 8/10\n",
            "1875/1875 [==============================] - 41s 22ms/step - loss: 0.0069 - accuracy: 0.9976 - val_loss: 0.0575 - val_accuracy: 0.9864\n",
            "Epoch 9/10\n",
            "1875/1875 [==============================] - 40s 22ms/step - loss: 0.0054 - accuracy: 0.9982 - val_loss: 0.0551 - val_accuracy: 0.9889\n",
            "Epoch 10/10\n",
            "1875/1875 [==============================] - 41s 22ms/step - loss: 0.0049 - accuracy: 0.9982 - val_loss: 0.0752 - val_accuracy: 0.9862\n"
          ]
        }
      ],
      "source": [
        "# Train the model and display the activations after each epoch\n",
        "start_time = time.time()\n",
        "history = model.fit(x_train, y_train, epochs=10, validation_data=(x_test, y_test))\n",
        "end_time = time.time()"
      ]
    },
    {
      "cell_type": "code",
      "execution_count": 32,
      "metadata": {
        "colab": {
          "base_uri": "https://localhost:8080/"
        },
        "id": "om8u3MA76GbJ",
        "outputId": "f8b865fd-440b-423e-c6f9-c53835ba21db"
      },
      "outputs": [
        {
          "name": "stdout",
          "output_type": "stream",
          "text": [
            "313/313 - 2s - loss: 0.0752 - accuracy: 0.9862 - 2s/epoch - 6ms/step\n",
            "Test accuracy: 0.9861999750137329\n",
            "Time elapsed:  410.8696370124817\n"
          ]
        }
      ],
      "source": [
        "test_loss, test_acc = model.evaluate(x_test, y_test, verbose=2)\n",
        "print('Test accuracy:', test_acc)\n",
        "print('Time elapsed: ', end_time - start_time)"
      ]
    },
    {
      "cell_type": "code",
      "execution_count": 33,
      "metadata": {
        "id": "1WQCF39FCybs"
      },
      "outputs": [],
      "source": [
        "#saving the model\n",
        "model.save('initial_model.h5')\n",
        "\n",
        "# You can later load this saved model using the load_model function from Keras:\n",
        "\n",
        "# from keras.models import load_model\n",
        "# model = load_model('my_model.h5')\n"
      ]
    },
    {
      "cell_type": "markdown",
      "metadata": {
        "id": "3N-8U1ES6hVY"
      },
      "source": [
        "Making new model with C_F, C_F, C_F, D_T"
      ]
    },
    {
      "cell_type": "code",
      "execution_count": 34,
      "metadata": {
        "colab": {
          "base_uri": "https://localhost:8080/"
        },
        "id": "7CUHfDh665RT",
        "outputId": "c1d6b68f-f39f-4132-d537-96549896f821"
      },
      "outputs": [],
      "source": [
        "# Define the CNN model\n",
        "new_model = tf.keras.models.Sequential([\n",
        "    tf.keras.layers.Conv2D(32, (3, 3), activation='relu', input_shape=(28, 28, 1), name='conv2d_1', trainable = False),\n",
        "    tf.keras.layers.Conv2D(32, (3, 3), activation='relu', name='conv2d_2', trainable = False),\n",
        "    tf.keras.layers.Conv2D(32, (3, 3), activation='relu', name='conv2d_3', trainable = False),\n",
        "    tf.keras.layers.Flatten(name='flatten', trainable = False),\n",
        "    # tf.keras.layers.Dense(128, activation='relu', name='dense_1'),\n",
        "    tf.keras.layers.Dense(10, activation='softmax', name='output')\n",
        "])\n"
      ]
    },
    {
      "cell_type": "code",
      "execution_count": 35,
      "metadata": {},
      "outputs": [],
      "source": [
        "# compile the model\n",
        "opt = tf.keras.optimizers.legacy.Adam(learning_rate=0.001)\n",
        "new_model.compile(optimizer=opt,\n",
        "              loss='sparse_categorical_crossentropy',\n",
        "              metrics=['accuracy'])"
      ]
    },
    {
      "cell_type": "code",
      "execution_count": 36,
      "metadata": {},
      "outputs": [
        {
          "name": "stdout",
          "output_type": "stream",
          "text": [
            "Epoch 1/10\n",
            "1875/1875 [==============================] - 16s 8ms/step - loss: 0.3236 - accuracy: 0.9164 - val_loss: 0.1833 - val_accuracy: 0.9504\n",
            "Epoch 2/10\n",
            "1875/1875 [==============================] - 16s 9ms/step - loss: 0.1648 - accuracy: 0.9554 - val_loss: 0.1385 - val_accuracy: 0.9627\n",
            "Epoch 3/10\n",
            "1875/1875 [==============================] - 16s 8ms/step - loss: 0.1267 - accuracy: 0.9664 - val_loss: 0.1188 - val_accuracy: 0.9674\n",
            "Epoch 4/10\n",
            "1875/1875 [==============================] - 16s 9ms/step - loss: 0.1031 - accuracy: 0.9725 - val_loss: 0.1046 - val_accuracy: 0.9710\n",
            "Epoch 5/10\n",
            "1875/1875 [==============================] - 16s 9ms/step - loss: 0.0883 - accuracy: 0.9765 - val_loss: 0.0920 - val_accuracy: 0.9732\n",
            "Epoch 6/10\n",
            "1875/1875 [==============================] - 11s 6ms/step - loss: 0.0766 - accuracy: 0.9804 - val_loss: 0.0920 - val_accuracy: 0.9730\n",
            "Epoch 7/10\n",
            "1875/1875 [==============================] - 9s 5ms/step - loss: 0.0675 - accuracy: 0.9824 - val_loss: 0.0807 - val_accuracy: 0.9763\n",
            "Epoch 8/10\n",
            "1875/1875 [==============================] - 9s 5ms/step - loss: 0.0598 - accuracy: 0.9854 - val_loss: 0.0826 - val_accuracy: 0.9753\n",
            "Epoch 9/10\n",
            "1875/1875 [==============================] - 9s 5ms/step - loss: 0.0542 - accuracy: 0.9864 - val_loss: 0.0767 - val_accuracy: 0.9767\n",
            "Epoch 10/10\n",
            "1875/1875 [==============================] - 9s 5ms/step - loss: 0.0490 - accuracy: 0.9882 - val_loss: 0.0726 - val_accuracy: 0.9786\n"
          ]
        }
      ],
      "source": [
        "# Train the model and display the activations after each epoch\n",
        "start_time = time.time()\n",
        "history = new_model.fit(x_train, y_train, epochs=10, validation_data=(x_test, y_test))\n",
        "end_time = time.time()"
      ]
    },
    {
      "cell_type": "code",
      "execution_count": 37,
      "metadata": {},
      "outputs": [
        {
          "name": "stdout",
          "output_type": "stream",
          "text": [
            "313/313 - 1s - loss: 0.0726 - accuracy: 0.9786 - 1s/epoch - 3ms/step\n",
            "Test accuracy: 0.978600025177002\n",
            "Time elapsed:  125.59391617774963\n"
          ]
        }
      ],
      "source": [
        "test_loss, test_acc = new_model.evaluate(x_test, y_test, verbose=2)\n",
        "print('Test accuracy:', test_acc)\n",
        "print('Time elapsed: ', end_time - start_time)"
      ]
    }
  ],
  "metadata": {
    "colab": {
      "provenance": []
    },
    "kernelspec": {
      "display_name": "Python 3.10.7 64-bit",
      "language": "python",
      "name": "python3"
    },
    "language_info": {
      "codemirror_mode": {
        "name": "ipython",
        "version": 3
      },
      "file_extension": ".py",
      "mimetype": "text/x-python",
      "name": "python",
      "nbconvert_exporter": "python",
      "pygments_lexer": "ipython3",
      "version": "3.10.7"
    },
    "vscode": {
      "interpreter": {
        "hash": "aee8b7b246df8f9039afb4144a1f6fd8d2ca17a180786b69acc140d282b71a49"
      }
    }
  },
  "nbformat": 4,
  "nbformat_minor": 0
}
