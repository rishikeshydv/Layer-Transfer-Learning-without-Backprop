{
  "cells": [
    {
      "cell_type": "markdown",
      "metadata": {},
      "source": [
        "C_T, C_T, C_T, D_T => Copy Model => C_F, C_F, C_F, D_T"
      ]
    },
    {
      "cell_type": "code",
      "execution_count": 29,
      "metadata": {
        "id": "Bpv8NlNRv1LQ"
      },
      "outputs": [],
      "source": [
        "#defining imports\n",
        "import tensorflow as tf\n",
        "import numpy as np\n",
        "import matplotlib.pyplot as plt\n",
        "import time\n",
        "from tensorflow.keras import datasets\n",
        "from keras.layers import Dense\n",
        "\n"
      ]
    },
    {
      "cell_type": "code",
      "execution_count": 30,
      "metadata": {},
      "outputs": [],
      "source": [
        "import ssl\n",
        "ssl._create_default_https_context = ssl._create_unverified_context"
      ]
    },
    {
      "cell_type": "code",
      "execution_count": 31,
      "metadata": {
        "id": "RcYcRLeCwMoL"
      },
      "outputs": [],
      "source": [
        "#defining training and testing datasets\n",
        "(x_train, y_train), (x_test,y_test) = datasets.mnist.load_data()"
      ]
    },
    {
      "cell_type": "code",
      "execution_count": 32,
      "metadata": {
        "id": "nbL7oSz3z3zG"
      },
      "outputs": [],
      "source": [
        "#adding 4th dimension as 1 to declare as grayscale image\n",
        "#normalizing the images\n",
        "x_train = x_train.reshape((60000, 28, 28, 1))\n",
        "x_train = x_train / 255.0\n",
        "x_test = x_test.reshape((10000, 28, 28, 1))\n",
        "x_test = x_test / 255.0"
      ]
    },
    {
      "cell_type": "code",
      "execution_count": 33,
      "metadata": {
        "colab": {
          "base_uri": "https://localhost:8080/"
        },
        "id": "J78U-7yCugfV",
        "outputId": "87867366-108d-4688-9c7d-86e6bd3acb14"
      },
      "outputs": [],
      "source": [
        "# Define the CNN model\n",
        "model = tf.keras.models.Sequential([\n",
        "    tf.keras.layers.Conv2D(32, (3, 3), activation='relu', input_shape=(28, 28, 1), name='conv2d_1'),\n",
        "    tf.keras.layers.Conv2D(32, (3, 3), activation='relu', name='conv2d_2'),\n",
        "    tf.keras.layers.Conv2D(32, (3, 3), activation='relu', name='conv2d_3'),\n",
        "    tf.keras.layers.Flatten(name='flatten'),\n",
        "    # tf.keras.layers.Dense(128, activation='relu', name='dense_1'),\n",
        "    tf.keras.layers.Dense(10, activation='softmax', name='output')\n",
        "])\n"
      ]
    },
    {
      "cell_type": "code",
      "execution_count": 34,
      "metadata": {
        "id": "jNGdMMua4aCI"
      },
      "outputs": [],
      "source": [
        "# compile the model\n",
        "opt = tf.keras.optimizers.legacy.Adam(learning_rate=0.001)\n",
        "model.compile(optimizer=opt,\n",
        "              loss='sparse_categorical_crossentropy',\n",
        "              metrics=['accuracy'])"
      ]
    },
    {
      "cell_type": "code",
      "execution_count": 35,
      "metadata": {
        "colab": {
          "base_uri": "https://localhost:8080/"
        },
        "id": "yyfUltwE4k2l",
        "outputId": "e26ad04c-79d3-4050-cf91-fbec0df8c7e4"
      },
      "outputs": [
        {
          "name": "stdout",
          "output_type": "stream",
          "text": [
            "Epoch 1/10\n",
            "1875/1875 [==============================] - 27s 14ms/step - loss: 0.1217 - accuracy: 0.9642 - val_loss: 0.0441 - val_accuracy: 0.9855\n",
            "Epoch 2/10\n",
            "1875/1875 [==============================] - 26s 14ms/step - loss: 0.0445 - accuracy: 0.9865 - val_loss: 0.0435 - val_accuracy: 0.9869\n",
            "Epoch 3/10\n",
            "1875/1875 [==============================] - 26s 14ms/step - loss: 0.0300 - accuracy: 0.9905 - val_loss: 0.0359 - val_accuracy: 0.9883\n",
            "Epoch 4/10\n",
            "1875/1875 [==============================] - 26s 14ms/step - loss: 0.0206 - accuracy: 0.9931 - val_loss: 0.0440 - val_accuracy: 0.9871\n",
            "Epoch 5/10\n",
            "1875/1875 [==============================] - 27s 14ms/step - loss: 0.0146 - accuracy: 0.9954 - val_loss: 0.0428 - val_accuracy: 0.9882\n",
            "Epoch 6/10\n",
            "1875/1875 [==============================] - 31s 17ms/step - loss: 0.0103 - accuracy: 0.9965 - val_loss: 0.0514 - val_accuracy: 0.9872\n",
            "Epoch 7/10\n",
            "1875/1875 [==============================] - 27s 14ms/step - loss: 0.0088 - accuracy: 0.9970 - val_loss: 0.0489 - val_accuracy: 0.9886\n",
            "Epoch 8/10\n",
            "1875/1875 [==============================] - 35s 19ms/step - loss: 0.0068 - accuracy: 0.9979 - val_loss: 0.0698 - val_accuracy: 0.9875\n",
            "Epoch 9/10\n",
            "1875/1875 [==============================] - 41s 22ms/step - loss: 0.0056 - accuracy: 0.9981 - val_loss: 0.0638 - val_accuracy: 0.9879\n",
            "Epoch 10/10\n",
            "1875/1875 [==============================] - 41s 22ms/step - loss: 0.0052 - accuracy: 0.9986 - val_loss: 0.0716 - val_accuracy: 0.9857\n"
          ]
        }
      ],
      "source": [
        "# Train the model and display the activations after each epoch\n",
        "start_time = time.time()\n",
        "history = model.fit(x_train, y_train, epochs=10, validation_data=(x_test, y_test))\n",
        "end_time = time.time()"
      ]
    },
    {
      "cell_type": "code",
      "execution_count": 36,
      "metadata": {
        "colab": {
          "base_uri": "https://localhost:8080/"
        },
        "id": "om8u3MA76GbJ",
        "outputId": "f8b865fd-440b-423e-c6f9-c53835ba21db"
      },
      "outputs": [
        {
          "name": "stdout",
          "output_type": "stream",
          "text": [
            "313/313 - 2s - loss: 0.0716 - accuracy: 0.9857 - 2s/epoch - 6ms/step\n",
            "Test accuracy: 0.9857000112533569\n",
            "Time elapsed:  308.3111319541931\n"
          ]
        }
      ],
      "source": [
        "test_loss, test_acc = model.evaluate(x_test, y_test, verbose=2)\n",
        "print('Test accuracy:', test_acc)\n",
        "print('Time elapsed: ', end_time - start_time)"
      ]
    },
    {
      "cell_type": "code",
      "execution_count": 37,
      "metadata": {
        "id": "1WQCF39FCybs"
      },
      "outputs": [],
      "source": [
        "#saving the model\n",
        "model.save('initial_model.h5')\n",
        "\n",
        "# You can later load this saved model using the load_model function from Keras:\n",
        "\n",
        "# from keras.models import load_model\n",
        "# model = load_model('my_model.h5')\n"
      ]
    },
    {
      "cell_type": "markdown",
      "metadata": {
        "id": "3N-8U1ES6hVY"
      },
      "source": [
        "### **Now, we are going to make a new model where only DENSE layer is trainable. The remaining layers would be used as trained in the earlier model**"
      ]
    },
    {
      "cell_type": "code",
      "execution_count": 38,
      "metadata": {
        "colab": {
          "base_uri": "https://localhost:8080/"
        },
        "id": "7CUHfDh665RT",
        "outputId": "c1d6b68f-f39f-4132-d537-96549896f821"
      },
      "outputs": [
        {
          "name": "stdout",
          "output_type": "stream",
          "text": [
            "Model: \"sequential_2\"\n",
            "_________________________________________________________________\n",
            " Layer (type)                Output Shape              Param #   \n",
            "=================================================================\n",
            " conv2d_1 (Conv2D)           (None, 26, 26, 32)        320       \n",
            "                                                                 \n",
            " conv2d_2 (Conv2D)           (None, 24, 24, 32)        9248      \n",
            "                                                                 \n",
            " conv2d_3 (Conv2D)           (None, 22, 22, 32)        9248      \n",
            "                                                                 \n",
            " flatten (Flatten)           (None, 15488)             0         \n",
            "                                                                 \n",
            "=================================================================\n",
            "Total params: 18,816\n",
            "Trainable params: 0\n",
            "Non-trainable params: 18,816\n",
            "_________________________________________________________________\n",
            "Model: \"sequential_2\"\n",
            "_________________________________________________________________\n",
            " Layer (type)                Output Shape              Param #   \n",
            "=================================================================\n",
            " conv2d_1 (Conv2D)           (None, 26, 26, 32)        320       \n",
            "                                                                 \n",
            " conv2d_2 (Conv2D)           (None, 24, 24, 32)        9248      \n",
            "                                                                 \n",
            " conv2d_3 (Conv2D)           (None, 22, 22, 32)        9248      \n",
            "                                                                 \n",
            " flatten (Flatten)           (None, 15488)             0         \n",
            "                                                                 \n",
            " dense_3 (Dense)             (None, 10)                154890    \n",
            "                                                                 \n",
            "=================================================================\n",
            "Total params: 173,706\n",
            "Trainable params: 154,890\n",
            "Non-trainable params: 18,816\n",
            "_________________________________________________________________\n"
          ]
        }
      ],
      "source": [
        "#deleting the last(DENSE) layer of the previously trained model\n",
        "model.pop()\n",
        "\n",
        "#turning off training in the remaining layers of the model\n",
        "#model.trainable = False\n",
        "for layer in model.layers:\n",
        "    layer.trainable=False\n",
        "model.summary()\n",
        "\n",
        "#adding a new DENSE layer\n",
        "model.add(Dense(units = 10, activation = 'softmax', trainable = True))\n",
        "model.summary()"
      ]
    },
    {
      "cell_type": "code",
      "execution_count": 39,
      "metadata": {},
      "outputs": [
        {
          "name": "stdout",
          "output_type": "stream",
          "text": [
            "Epoch 1/10\n",
            "1875/1875 [==============================] - 40s 21ms/step - loss: 0.0049 - accuracy: 0.9984 - val_loss: 0.0552 - val_accuracy: 0.9876\n",
            "Epoch 2/10\n",
            "1875/1875 [==============================] - 40s 21ms/step - loss: 0.0037 - accuracy: 0.9987 - val_loss: 0.0827 - val_accuracy: 0.9873\n",
            "Epoch 3/10\n",
            "1875/1875 [==============================] - 40s 21ms/step - loss: 0.0042 - accuracy: 0.9986 - val_loss: 0.0748 - val_accuracy: 0.9865\n",
            "Epoch 4/10\n",
            "1875/1875 [==============================] - 40s 21ms/step - loss: 0.0036 - accuracy: 0.9989 - val_loss: 0.0815 - val_accuracy: 0.9860\n",
            "Epoch 5/10\n",
            "1875/1875 [==============================] - 40s 21ms/step - loss: 0.0032 - accuracy: 0.9991 - val_loss: 0.0735 - val_accuracy: 0.9882\n",
            "Epoch 6/10\n",
            "1875/1875 [==============================] - 40s 21ms/step - loss: 0.0028 - accuracy: 0.9991 - val_loss: 0.1006 - val_accuracy: 0.9858\n",
            "Epoch 7/10\n",
            "1875/1875 [==============================] - 40s 21ms/step - loss: 0.0037 - accuracy: 0.9988 - val_loss: 0.0859 - val_accuracy: 0.9870\n",
            "Epoch 8/10\n",
            "1875/1875 [==============================] - 38s 20ms/step - loss: 0.0026 - accuracy: 0.9993 - val_loss: 0.1301 - val_accuracy: 0.9826\n",
            "Epoch 9/10\n",
            "1875/1875 [==============================] - 36s 19ms/step - loss: 0.0038 - accuracy: 0.9990 - val_loss: 0.1167 - val_accuracy: 0.9852\n",
            "Epoch 10/10\n",
            "1875/1875 [==============================] - 36s 19ms/step - loss: 0.0023 - accuracy: 0.9994 - val_loss: 0.1025 - val_accuracy: 0.9875\n"
          ]
        }
      ],
      "source": [
        "# Train the model and display the activations after each epoch\n",
        "start_time = time.time()\n",
        "history = model.fit(x_train, y_train, epochs=10, validation_data=(x_test, y_test))\n",
        "end_time = time.time()"
      ]
    },
    {
      "cell_type": "code",
      "execution_count": 40,
      "metadata": {},
      "outputs": [
        {
          "name": "stdout",
          "output_type": "stream",
          "text": [
            "313/313 - 2s - loss: 0.1025 - accuracy: 0.9875 - 2s/epoch - 6ms/step\n",
            "Test accuracy: 0.987500011920929\n",
            "Time elapsed:  390.14605808258057\n"
          ]
        }
      ],
      "source": [
        "test_loss, test_acc = model.evaluate(x_test, y_test, verbose=2)\n",
        "print('Test accuracy:', test_acc)\n",
        "print('Time elapsed: ', end_time - start_time)"
      ]
    }
  ],
  "metadata": {
    "colab": {
      "provenance": []
    },
    "kernelspec": {
      "display_name": "Python 3.10.7 64-bit",
      "language": "python",
      "name": "python3"
    },
    "language_info": {
      "codemirror_mode": {
        "name": "ipython",
        "version": 3
      },
      "file_extension": ".py",
      "mimetype": "text/x-python",
      "name": "python",
      "nbconvert_exporter": "python",
      "pygments_lexer": "ipython3",
      "version": "3.10.7"
    },
    "vscode": {
      "interpreter": {
        "hash": "aee8b7b246df8f9039afb4144a1f6fd8d2ca17a180786b69acc140d282b71a49"
      }
    }
  },
  "nbformat": 4,
  "nbformat_minor": 0
}
