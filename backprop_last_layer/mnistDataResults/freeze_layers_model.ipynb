{
 "cells": [
  {
   "cell_type": "code",
   "execution_count": null,
   "metadata": {},
   "outputs": [],
   "source": [
    "!pip install tensorflow\n",
    "!pip install numpy\n",
    "!pip install matplotlib"
   ]
  },
  {
   "cell_type": "code",
   "execution_count": 3,
   "metadata": {},
   "outputs": [],
   "source": [
    "import tensorflow as tf\n",
    "import numpy as np\n",
    "import matplotlib.pyplot as plt\n",
    "import time\n",
    "\n",
    "mnist = tf.keras.datasets.mnist"
   ]
  },
  {
   "cell_type": "code",
   "execution_count": 8,
   "metadata": {},
   "outputs": [
    {
     "name": "stdout",
     "output_type": "stream",
     "text": [
      "Epoch 1/5\n",
      "1875/1875 [==============================] - 55s 29ms/step - loss: 0.1197 - accuracy: 0.9637 - val_loss: 0.0509 - val_accuracy: 0.9842\n",
      "Epoch 2/5\n",
      "1875/1875 [==============================] - 54s 29ms/step - loss: 0.0448 - accuracy: 0.9862 - val_loss: 0.0399 - val_accuracy: 0.9861\n",
      "Epoch 3/5\n",
      "1875/1875 [==============================] - 54s 29ms/step - loss: 0.0313 - accuracy: 0.9902 - val_loss: 0.0331 - val_accuracy: 0.9896\n",
      "Epoch 4/5\n",
      "1875/1875 [==============================] - 54s 29ms/step - loss: 0.0213 - accuracy: 0.9928 - val_loss: 0.0368 - val_accuracy: 0.9884\n",
      "Epoch 5/5\n",
      "1875/1875 [==============================] - 54s 29ms/step - loss: 0.0153 - accuracy: 0.9948 - val_loss: 0.0419 - val_accuracy: 0.9884\n",
      "313/313 - 2s - loss: 0.0419 - accuracy: 0.9884 - 2s/epoch - 7ms/step\n",
      "Test accuracy: 0.9883999824523926\n",
      "Time elapsed:  271.871666431427\n"
     ]
    }
   ],
   "source": [
    "# Load and preprocess the dataset\n",
    "\n",
    "(train_images, train_labels), (test_images, test_labels) = mnist.load_data()\n",
    "train_images = train_images.reshape((60000, 28, 28, 1))\n",
    "train_images = train_images / 255.0\n",
    "test_images = test_images.reshape((10000, 28, 28, 1))\n",
    "test_images = test_images / 255.0\n",
    "\n",
    "# Define the CNN architecture\n",
    "model = tf.keras.models.Sequential([\n",
    "    tf.keras.layers.Conv2D(32, (3, 3), activation='relu', input_shape=(28, 28, 1), name='conv2d_1'),\n",
    "    tf.keras.layers.Conv2D(32, (3, 3), activation='relu', name='conv2d_2'),\n",
    "    tf.keras.layers.Conv2D(32, (3, 3), activation='relu', name='conv2d_3'),\n",
    "    tf.keras.layers.Flatten(name='flatten'),\n",
    "    # tf.keras.layers.Dense(128, activation='relu', name='dense_1'),\n",
    "    tf.keras.layers.Dense(10, activation='softmax', name='output')\n",
    "])\n",
    "\n",
    "# Compile the model\n",
    "model.compile(optimizer='Adam',\n",
    "              loss='sparse_categorical_crossentropy',\n",
    "              metrics=['accuracy'])\n",
    "\n",
    "# Train the model and display the activations after each epoch\n",
    "start_time = time.time()\n",
    "history = model.fit(train_images, train_labels, epochs=5, validation_data=(test_images, test_labels))\n",
    "end_time = time.time()\n",
    "\n",
    "# # Get the layer outputs and names\n",
    "# layer_names = ['conv2d_1', 'max_pooling2d_1', 'conv2d_2', 'max_pooling2d_2', 'conv2d_3']\n",
    "# layer_outputs = [layer.output for layer in model.layers if layer.name in layer_names]\n",
    "# activation_model = tf.keras.models.Model(inputs=model.input, outputs=layer_outputs)\n",
    "\n",
    "# # Get the activation outputs for the test images\n",
    "# activations = activation_model.predict(test_images)\n",
    "\n",
    "# Display the activation outputs of the convolutional layers as images on a grid\n",
    "test_loss, test_acc = model.evaluate(test_images, test_labels, verbose=2)\n",
    "print('Test accuracy:', test_acc)\n",
    "print('Time elapsed: ', end_time - start_time)\n"
   ]
  },
  {
   "cell_type": "code",
   "execution_count": 6,
   "metadata": {},
   "outputs": [
    {
     "name": "stdout",
     "output_type": "stream",
     "text": [
      "Epoch 1/5\n",
      "1875/1875 [==============================] - 25s 13ms/step - loss: 0.3248 - accuracy: 0.9166 - val_loss: 0.1774 - val_accuracy: 0.9511\n",
      "Epoch 2/5\n",
      "1875/1875 [==============================] - 28s 15ms/step - loss: 0.1602 - accuracy: 0.9573 - val_loss: 0.1343 - val_accuracy: 0.9630\n",
      "Epoch 3/5\n",
      "1875/1875 [==============================] - 28s 15ms/step - loss: 0.1210 - accuracy: 0.9678 - val_loss: 0.1077 - val_accuracy: 0.9704\n",
      "Epoch 4/5\n",
      "1875/1875 [==============================] - 28s 15ms/step - loss: 0.0978 - accuracy: 0.9744 - val_loss: 0.0982 - val_accuracy: 0.9735\n",
      "Epoch 5/5\n",
      "1875/1875 [==============================] - 29s 15ms/step - loss: 0.0832 - accuracy: 0.9784 - val_loss: 0.0892 - val_accuracy: 0.9751\n",
      "313/313 - 3s - loss: 0.0892 - accuracy: 0.9751 - 3s/epoch - 10ms/step\n",
      "Test accuracy: 0.9750999808311462\n",
      "Time elapsed:  137.19018459320068\n"
     ]
    }
   ],
   "source": [
    "# Load and preprocess the dataset\n",
    "mnist = tf.keras.datasets.mnist\n",
    "(train_images, train_labels), (test_images, test_labels) = mnist.load_data()\n",
    "train_images = train_images.reshape((60000, 28, 28, 1))\n",
    "train_images = train_images / 255.0\n",
    "test_images = test_images.reshape((10000, 28, 28, 1))\n",
    "test_images = test_images / 255.0\n",
    "\n",
    "# Define the CNN architecture\n",
    "model = tf.keras.models.Sequential([\n",
    "    tf.keras.layers.Conv2D(32, (3, 3), activation='relu', input_shape=(28, 28, 1), name='conv2d_1', trainable=False),\n",
    "    tf.keras.layers.Conv2D(32, (3, 3), activation='relu', name='conv2d_2', trainable=False),\n",
    "    tf.keras.layers.Conv2D(32, (3, 3), activation='relu', name='conv2d_3', trainable=False),\n",
    "    tf.keras.layers.Flatten(name='flatten'),\n",
    "    # tf.keras.layers.Dense(128, activation='relu', name='dense_1'),\n",
    "    tf.keras.layers.Dense(10, activation='softmax', name='output')\n",
    "])\n",
    "\n",
    "# Compile the model\n",
    "model.compile(optimizer='Adam',\n",
    "              loss='sparse_categorical_crossentropy',\n",
    "              metrics=['accuracy'])\n",
    "\n",
    "# Train the model and display the activations after each epoch\n",
    "start_time = time.time()\n",
    "history = model.fit(train_images, train_labels, epochs=5, validation_data=(test_images, test_labels))\n",
    "end_time = time.time()\n",
    "\n",
    "# # Get the layer outputs and names\n",
    "# layer_names = ['conv2d_1', 'max_pooling2d_1', 'conv2d_2', 'max_pooling2d_2', 'conv2d_3']\n",
    "# layer_outputs = [layer.output for layer in model.layers if layer.name in layer_names]\n",
    "# activation_model = tf.keras.models.Model(inputs=model.input, outputs=layer_outputs)\n",
    "\n",
    "# # Get the activation outputs for the test images\n",
    "# activations = activation_model.predict(test_images)\n",
    "\n",
    "# Display the activation outputs of the convolutional layers as images on a grid\n",
    "test_loss, test_acc = model.evaluate(test_images, test_labels, verbose=2)\n",
    "print('Test accuracy:', test_acc)\n",
    "print('Time elapsed: ', end_time - start_time)\n"
   ]
  },
  {
   "cell_type": "code",
   "execution_count": 6,
   "metadata": {},
   "outputs": [
    {
     "name": "stdout",
     "output_type": "stream",
     "text": [
      "Epoch 1/5\n",
      "1875/1875 [==============================] - 2s 895us/step - loss: 0.4669 - accuracy: 0.8779 - val_loss: 0.3098 - val_accuracy: 0.9159\n",
      "Epoch 2/5\n",
      "1875/1875 [==============================] - 2s 923us/step - loss: 0.3042 - accuracy: 0.9145 - val_loss: 0.2816 - val_accuracy: 0.9194\n",
      "Epoch 3/5\n",
      "1875/1875 [==============================] - 2s 913us/step - loss: 0.2835 - accuracy: 0.9203 - val_loss: 0.2734 - val_accuracy: 0.9239\n",
      "Epoch 4/5\n",
      "1875/1875 [==============================] - 2s 925us/step - loss: 0.2727 - accuracy: 0.9236 - val_loss: 0.2722 - val_accuracy: 0.9251\n",
      "Epoch 5/5\n",
      "1875/1875 [==============================] - 2s 922us/step - loss: 0.2667 - accuracy: 0.9255 - val_loss: 0.2689 - val_accuracy: 0.9274\n",
      "313/313 - 0s - loss: 0.2689 - accuracy: 0.9274 - 207ms/epoch - 662us/step\n",
      "Test accuracy: 0.9273999929428101\n",
      "Time elapsed:  8.900867223739624\n"
     ]
    }
   ],
   "source": [
    "(train_images, train_labels), (test_images, test_labels) = mnist.load_data()\n",
    "train_images = train_images / 255.0\n",
    "test_images = test_images / 255.0\n",
    "\n",
    "# Define the dense-only architecture\n",
    "model = tf.keras.models.Sequential([\n",
    "    tf.keras.layers.Flatten(name='flatten',  input_shape=(28, 28, 1)),\n",
    "    # tf.keras.layers.Dense(128, activation='relu', name='dense_1'),\n",
    "    tf.keras.layers.Dense(10, activation='softmax', name='output')\n",
    "])\n",
    "\n",
    "# Compile the model\n",
    "model.compile(optimizer='Adam',\n",
    "              loss='sparse_categorical_crossentropy',\n",
    "              metrics=['accuracy'])\n",
    "\n",
    "# Train the model and display the activations after each epoch\n",
    "start_time = time.time()\n",
    "history = model.fit(train_images, train_labels, epochs=5, validation_data=(test_images, test_labels))\n",
    "end_time = time.time()\n",
    "\n",
    "# # Get the layer outputs and names\n",
    "# layer_names = ['conv2d_1', 'max_pooling2d_1', 'conv2d_2', 'max_pooling2d_2', 'conv2d_3']\n",
    "# layer_outputs = [layer.output for layer in model.layers if layer.name in layer_names]\n",
    "# activation_model = tf.keras.models.Model(inputs=model.input, outputs=layer_outputs)\n",
    "\n",
    "# # Get the activation outputs for the test images\n",
    "# activations = activation_model.predict(test_images)\n",
    "\n",
    "# Display the activation outputs of the convolutional layers as images on a grid\n",
    "test_loss, test_acc = model.evaluate(test_images, test_labels, verbose=2)\n",
    "print('Test accuracy:', test_acc)\n",
    "print('Time elapsed: ', end_time - start_time)\n"
   ]
  }
 ],
 "metadata": {
  "kernelspec": {
   "display_name": "Python 3.10.2 64-bit",
   "language": "python",
   "name": "python3"
  },
  "language_info": {
   "codemirror_mode": {
    "name": "ipython",
    "version": 3
   },
   "file_extension": ".py",
   "mimetype": "text/x-python",
   "name": "python",
   "nbconvert_exporter": "python",
   "pygments_lexer": "ipython3",
   "version": "3.10.2"
  },
  "orig_nbformat": 4,
  "vscode": {
   "interpreter": {
    "hash": "369f2c481f4da34e4445cda3fffd2e751bd1c4d706f27375911949ba6bb62e1c"
   }
  }
 },
 "nbformat": 4,
 "nbformat_minor": 2
}
