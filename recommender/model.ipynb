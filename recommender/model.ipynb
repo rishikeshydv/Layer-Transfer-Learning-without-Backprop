{
  "cells": [
    {
      "cell_type": "markdown",
      "metadata": {
        "id": "_6tWtC7vp5ql"
      },
      "source": [
        "Here, we will be building a DANN."
      ]
    },
    {
      "cell_type": "code",
      "execution_count": 2,
      "metadata": {
        "id": "3-Jq4yTzp5qm"
      },
      "outputs": [],
      "source": [
        "#importing modules\n",
        "import tensorflow as tf\n",
        "from tensorflow.keras import datasets, layers, models, Model\n",
        "import time\n",
        "import matplotlib.pyplot as plt\n",
        "import numpy as np\n",
        "import keras as K\n",
        "from tensorflow import keras\n",
        "from sklearn.model_selection import train_test_split\n",
        "from keras.layers import Dense\n",
        "import pandas as pd\n",
        "\n",
        "from keras.models import Sequential\n",
        "from keras.layers import Embedding, Conv1D, GlobalMaxPooling1D, Dense\n",
        "from sklearn.preprocessing import LabelEncoder\n",
        "from keras.preprocessing.text import Tokenizer\n",
        "from keras.preprocessing.sequence import pad_sequences\n",
        "from keras.utils import to_categorical\n"
      ]
    },
    {
      "cell_type": "code",
      "execution_count": 3,
      "metadata": {
        "id": "JhxNMoPHp5qn"
      },
      "outputs": [],
      "source": [
        "\n",
        "import ssl\n",
        "ssl._create_default_https_context = ssl._create_unverified_context"
      ]
    },
    {
      "cell_type": "markdown",
      "metadata": {
        "id": "r_NPOYPvp5qn"
      },
      "source": [
        "Preprocessing Target Domain Dataset"
      ]
    },
    {
      "cell_type": "code",
      "execution_count": 4,
      "metadata": {
        "colab": {
          "base_uri": "https://localhost:8080/",
          "height": 417
        },
        "id": "sDsh3DtMp5qn",
        "outputId": "79e89759-1705-4067-a3be-6c07172e1d12"
      },
      "outputs": [
        {
          "name": "stdout",
          "output_type": "stream",
          "text": [
            "             q                         queryTime  rank  \\\n",
            "0  dish recipe  2019-03-30 02:55:42.169989+00:00     1   \n",
            "1  dish recipe  2019-03-30 02:55:42.169989+00:00     2   \n",
            "2  dish recipe  2019-03-30 02:55:42.169989+00:00     3   \n",
            "3  dish recipe  2019-03-30 02:55:42.169989+00:00     4   \n",
            "4  dish recipe  2019-03-30 02:55:42.169989+00:00     5   \n",
            "\n",
            "                                               title  \\\n",
            "0                             7 Easy Chicken Dinners   \n",
            "1  KING of VEGETABLE Recipe | SAMBAR Recipe with ...   \n",
            "2  ALOO Manchurian Recipe How to make aloo manchu...   \n",
            "3  सूजी का इतना टेस्टी और आसान नाश्ता की आप रोज़ ...   \n",
            "4  5 मिनट में बनाये कुरकुरे आलू स्नैक्स | Aloo Sn...   \n",
            "\n",
            "                                         description  \\\n",
            "0  Customize & buy the Tasty Cookbook here: http:...   \n",
            "1  Today we cooking one of the most popular veg r...   \n",
            "2  ldli Manchurian Recipe https://youtu.be/wx7Mx9...   \n",
            "3  Hello Friend's ….Aaj Main Aapko Quick & Easy B...   \n",
            "4  If you liked the video give it a thumbs up :) ...   \n",
            "\n",
            "                publishedAt             channelTitle  totalResults  \\\n",
            "0  2016-12-04T00:00:02.000Z                    Tasty       1000000   \n",
            "1  2019-03-26T15:50:35.000Z  Village Cooking Channel       1000000   \n",
            "2  2018-07-03T08:47:49.000Z          Foodies Hub CBR       1000000   \n",
            "3  2018-05-26T06:26:01.000Z         hemanshi's world       1000000   \n",
            "4  2017-05-23T15:20:50.000Z           Easy Home Tips       1000000   \n",
            "\n",
            "            kind                 channelId  ...  \\\n",
            "0  youtube#video  UCJFp8uSYCjXOMnkUyb3CQ3Q  ...   \n",
            "1  youtube#video  UCk3JZr7eS3pg5AGEvBdEvFg  ...   \n",
            "2  youtube#video  UCvO0ndRuwO8Prftc8rUCWIg  ...   \n",
            "3  youtube#video  UChDCj6lUL8qlZCdDeflNAwQ  ...   \n",
            "4  youtube#video  UCaKt8dvEIPnEHWSbLYhzrxg  ...   \n",
            "\n",
            "                                   channel.localized  \\\n",
            "0  {'title': 'Tasty', 'description': 'Food that\\'...   \n",
            "1  {'title': 'Village Cooking Channel', 'descript...   \n",
            "2  {'title': 'Foodies Hub CBR', 'description': 'H...   \n",
            "3  {'title': \"hemanshi's world\", 'description': '...   \n",
            "4  {'title': 'Easy Home Tips', 'description': 'We...   \n",
            "\n",
            "        channel.publishedAt  \\\n",
            "0  2016-01-22T23:05:31.000Z   \n",
            "1  2018-04-25T16:38:11.000Z   \n",
            "2  2016-10-03T02:55:57.000Z   \n",
            "3  2015-05-28T09:20:16.000Z   \n",
            "4  2016-09-13T07:44:33.000Z   \n",
            "\n",
            "                                  channel.thumbnails            channel.title  \\\n",
            "0  {'default': {'url': 'https://yt3.ggpht.com/a-/...                    Tasty   \n",
            "1  {'default': {'url': 'https://yt3.ggpht.com/a-/...  Village Cooking Channel   \n",
            "2  {'default': {'url': 'https://yt3.ggpht.com/a-/...          Foodies Hub CBR   \n",
            "3  {'default': {'url': 'https://yt3.ggpht.com/a-/...         hemanshi's world   \n",
            "4  {'default': {'url': 'https://yt3.ggpht.com/a-/...           Easy Home Tips   \n",
            "\n",
            "  channel.commentCount  channel.hiddenSubscriberCount channel.subscriberCount  \\\n",
            "0                    0                          False                13574044   \n",
            "1                    0                          False                  428301   \n",
            "2                    0                          False                  208140   \n",
            "3                    0                          False                  647768   \n",
            "4                    0                          False                 1783688   \n",
            "\n",
            "   channel.videoCount channel.viewCount  \\\n",
            "0                2832        2566200434   \n",
            "1                  73          51403646   \n",
            "2                 281          17710976   \n",
            "3                 504          52020675   \n",
            "4                 450         214856790   \n",
            "\n",
            "                            channel.relatedPlaylists  \n",
            "0  {'likes': 'LLJFp8uSYCjXOMnkUyb3CQ3Q', 'uploads...  \n",
            "1  {'uploads': 'UUk3JZr7eS3pg5AGEvBdEvFg', 'watch...  \n",
            "2  {'uploads': 'UUvO0ndRuwO8Prftc8rUCWIg', 'watch...  \n",
            "3  {'uploads': 'UUhDCj6lUL8qlZCdDeflNAwQ', 'watch...  \n",
            "4  {'uploads': 'UUaKt8dvEIPnEHWSbLYhzrxg', 'watch...  \n",
            "\n",
            "[5 rows x 90 columns]\n"
          ]
        }
      ],
      "source": [
        "# Replace 'your_file_path.csv' with the actual path to your CSV file\n",
        "file_path = 'datasets/target/recipes_serp_youtube_data.csv'\n",
        "\n",
        "# Read the CSV file into a Pandas DataFrame\n",
        "df_target = pd.read_csv(file_path)\n",
        "\n",
        "# Display the first few rows of the DataFrame to check the data\n",
        "print(df_target.head())"
      ]
    },
    {
      "cell_type": "code",
      "execution_count": 4,
      "metadata": {
        "id": "HPaPLFAQp5qn",
        "outputId": "ab39fe42-216d-4f02-d05c-6660e881da0c"
      },
      "outputs": [
        {
          "data": {
            "text/plain": [
              "Index(['q', 'queryTime', 'rank', 'title', 'description', 'publishedAt',\n",
              "       'channelTitle', 'totalResults', 'kind', 'channelId', 'default.height',\n",
              "       'default.url', 'default.width', 'high.height', 'high.url', 'high.width',\n",
              "       'liveBroadcastContent', 'medium.height', 'medium.url', 'medium.width',\n",
              "       'nextPageToken', 'playlistId', 'resultsPerPage', 'thumbnails',\n",
              "       'videoId', 'video.contentDetails', 'video.etag', 'video.id',\n",
              "       'video.kind', 'video.localizations', 'video.player',\n",
              "       'video.recordingDetails', 'video.snippet', 'video.statistics',\n",
              "       'video.status', 'video.topicDetails', 'video.categoryId',\n",
              "       'video.channelId', 'video.channelTitle', 'video.defaultAudioLanguage',\n",
              "       'video.defaultLanguage', 'video.description',\n",
              "       'video.liveBroadcastContent', 'video.localized', 'video.publishedAt',\n",
              "       'video.tags', 'video.thumbnails', 'video.title',\n",
              "       'video.relevantTopicIds', 'video.topicCategories', 'video.topicIds',\n",
              "       'video.commentCount', 'video.dislikeCount', 'video.favoriteCount',\n",
              "       'video.likeCount', 'video.viewCount', 'video.embeddable',\n",
              "       'video.license', 'video.privacyStatus', 'video.publicStatsViewable',\n",
              "       'video.uploadStatus', 'video.caption', 'video.definition',\n",
              "       'video.dimension', 'video.duration', 'video.licensedContent',\n",
              "       'video.projection', 'video.regionRestriction',\n",
              "       'video.liveStreamingDetails', 'video.contentRating',\n",
              "       'channel.contentDetails', 'channel.etag', 'channel.id', 'channel.kind',\n",
              "       'channel.snippet', 'channel.statistics', 'channel.country',\n",
              "       'channel.customUrl', 'channel.defaultLanguage', 'channel.description',\n",
              "       'channel.localized', 'channel.publishedAt', 'channel.thumbnails',\n",
              "       'channel.title', 'channel.commentCount',\n",
              "       'channel.hiddenSubscriberCount', 'channel.subscriberCount',\n",
              "       'channel.videoCount', 'channel.viewCount', 'channel.relatedPlaylists'],\n",
              "      dtype='object')"
            ]
          },
          "execution_count": 4,
          "metadata": {},
          "output_type": "execute_result"
        }
      ],
      "source": [
        "df_target.columns"
      ]
    },
    {
      "cell_type": "code",
      "execution_count": 5,
      "metadata": {
        "id": "wtidfk4Qp5qo"
      },
      "outputs": [],
      "source": [
        "#here we will only be using 'title' and 'video.tags' for our purpose\n",
        "#if you want to do DANN, use 'description' column as well so that the recipe & description are relevant to have similar features\n",
        "#so we will be dropping the remaining columns\n",
        "df_target = df_target.drop(columns=['q', 'queryTime', 'description','rank', 'publishedAt', 'channelTitle', 'totalResults', 'kind', 'channelId', 'default.height', 'default.url', 'default.width', 'high.height', 'high.url', 'high.width', 'liveBroadcastContent', 'medium.height', 'medium.url', 'medium.width', 'nextPageToken', 'playlistId', 'resultsPerPage', 'thumbnails', 'videoId', 'video.contentDetails', 'video.etag', 'video.id', 'video.kind', 'video.localizations', 'video.player', 'video.recordingDetails', 'video.snippet', 'video.statistics', 'video.status', 'video.topicDetails', 'video.categoryId', 'video.channelId', 'video.channelTitle', 'video.defaultAudioLanguage', 'video.defaultLanguage', 'video.description', 'video.liveBroadcastContent', 'video.localized', 'video.publishedAt', 'video.thumbnails', 'video.title', 'video.relevantTopicIds', 'video.topicCategories', 'video.topicIds', 'video.commentCount', 'video.dislikeCount', 'video.favoriteCount', 'video.likeCount', 'video.viewCount', 'video.embeddable', 'video.license', 'video.privacyStatus', 'video.publicStatsViewable', 'video.uploadStatus', 'video.caption', 'video.definition', 'video.dimension', 'video.duration', 'video.licensedContent', 'video.projection', 'video.regionRestriction', 'video.liveStreamingDetails', 'video.contentRating', 'channel.contentDetails', 'channel.etag', 'channel.id', 'channel.kind', 'channel.snippet', 'channel.statistics', 'channel.country', 'channel.customUrl', 'channel.defaultLanguage', 'channel.description', 'channel.localized', 'channel.publishedAt', 'channel.thumbnails', 'channel.title', 'channel.commentCount', 'channel.hiddenSubscriberCount', 'channel.subscriberCount', 'channel.videoCount', 'channel.viewCount', 'channel.relatedPlaylists'])"
      ]
    },
    {
      "cell_type": "code",
      "execution_count": 6,
      "metadata": {
        "id": "wnBmYU4Up5qo",
        "outputId": "697cb4cf-293f-46ad-f3bd-806d943070f5"
      },
      "outputs": [
        {
          "data": {
            "text/plain": [
              "Index(['title', 'video.tags'], dtype='object')"
            ]
          },
          "execution_count": 6,
          "metadata": {},
          "output_type": "execute_result"
        }
      ],
      "source": [
        "df_target.columns"
      ]
    },
    {
      "cell_type": "code",
      "execution_count": 6,
      "metadata": {
        "id": "gocdtANQp5qo"
      },
      "outputs": [],
      "source": [
        "# Assuming df['video.tags'] is your text data\n",
        "df_target['video.tags'].fillna('', inplace=True)  # Replace NaN values with an empty string\n"
      ]
    },
    {
      "cell_type": "code",
      "execution_count": 8,
      "metadata": {
        "id": "vFYCQf8jp5qo",
        "outputId": "14a88f12-f3ca-456c-f7ee-a95cdea68f45"
      },
      "outputs": [
        {
          "data": {
            "text/plain": [
              "str"
            ]
          },
          "execution_count": 8,
          "metadata": {},
          "output_type": "execute_result"
        }
      ],
      "source": [
        "type(df_target['video.tags'][0])"
      ]
    },
    {
      "cell_type": "code",
      "execution_count": 7,
      "metadata": {
        "id": "ag3xz-eNp5qo"
      },
      "outputs": [],
      "source": [
        "#here we are creating a labels for target domain because the dataset does not have labels\n",
        "#1/3 part of the labels to 'appetizers'. another 1/3 part to 'dinner' and the last 1/3 part to 'desserts'\n",
        "\n",
        "total_size = len(df_target)\n",
        "category_size = total_size // 3\n",
        "df_target['labels'] = None\n",
        "df_target.loc[:category_size - 1, 'labels'] = 'Appetizers'\n",
        "df_target.loc[category_size:2*category_size - 1, 'labels'] = 'Dinner'\n",
        "df_target.loc[2*category_size:total_size - 1, 'labels'] = 'Desserts'"
      ]
    },
    {
      "cell_type": "code",
      "execution_count": 10,
      "metadata": {
        "id": "a76akzBJp5qo",
        "outputId": "91303b02-fa5d-424e-9398-10bd93fc29ae"
      },
      "outputs": [
        {
          "data": {
            "text/plain": [
              "<bound method NDFrame.head of                                                   title  \\\n",
              "0                                7 Easy Chicken Dinners   \n",
              "1     KING of VEGETABLE Recipe | SAMBAR Recipe with ...   \n",
              "2     ALOO Manchurian Recipe How to make aloo manchu...   \n",
              "3     सूजी का इतना टेस्टी और आसान नाश्ता की आप रोज़ ...   \n",
              "4     5 मिनट में बनाये कुरकुरे आलू स्नैक्स | Aloo Sn...   \n",
              "...                                                 ...   \n",
              "1450                                    How to make pho   \n",
              "1451  Easy PHO 3 Ways! Beef, Chicken, Veggie (Vietna...   \n",
              "1452                                  Masterchef sadza.   \n",
              "1453  মিষ্টি দই বানানোর সহজ রেসিপি || How to make Sw...   \n",
              "1454  ১ ঘন্টায় চুলায় তৈরী বগুড়ার ঐতিহ্যবাহী মিষ্ট...   \n",
              "\n",
              "                                             video.tags      labels  \n",
              "0     ['chicken', 'dinner', 'tasty', 'buzzfeed', 'qu...  Appetizers  \n",
              "1     ['vegetable', 'vegetable recipe', 'sambar reci...  Appetizers  \n",
              "2                                                        Appetizers  \n",
              "3     ['Dahi wali bread', 'suji ka nashta', 'suji ka...  Appetizers  \n",
              "4     ['aloo', 'aloo snacks', 'potato', 'food', 'rec...  Appetizers  \n",
              "...                                                 ...         ...  \n",
              "1450  ['how', 'to', 'make', 'pho', 'vietnamese', 'fo...    Desserts  \n",
              "1451  ['easy chicken pho recipe how to make chicken ...    Desserts  \n",
              "1452                ['zimbabwean', 'sadza', 'cooking.']    Desserts  \n",
              "1453  ['দই বানানোর পদ্ধতি', 'দই না জমার কারন', 'মিষ্...    Desserts  \n",
              "1454  ['Dahi', 'mishti doi', 'doi make in oven', 'sw...    Desserts  \n",
              "\n",
              "[1455 rows x 3 columns]>"
            ]
          },
          "execution_count": 10,
          "metadata": {},
          "output_type": "execute_result"
        }
      ],
      "source": [
        "df_target.head"
      ]
    },
    {
      "cell_type": "code",
      "execution_count": 8,
      "metadata": {
        "id": "91Jecxbhp5qo"
      },
      "outputs": [],
      "source": [
        "#shuffling the dataframe\n",
        "df_target = df_target.sample(frac=1, random_state=42)"
      ]
    },
    {
      "cell_type": "code",
      "execution_count": 13,
      "metadata": {
        "id": "pUSRwsaop5qo",
        "outputId": "5be87565-5d44-4ec4-c5ba-24a26c19dde8"
      },
      "outputs": [
        {
          "data": {
            "text/plain": [
              "<bound method NDFrame.head of                                                   title  \\\n",
              "497   Cooking &amp; Tasting Pork Belly Curry In My V...   \n",
              "1261                            How to Make a Braai Pie   \n",
              "411   Beef &amp; Guinness Stew - St. Patrick&#39;s D...   \n",
              "1046                  How to Make a Perfect Ratatouille   \n",
              "1033    How to make an Authentic bowl of VIETNAMESE PHO   \n",
              "...                                                 ...   \n",
              "1095                  Handle It - The Universal Poutine   \n",
              "1130  Super Simple Succotash -- Ridiculousy Easy &am...   \n",
              "1294  Jamaican Saltfish Fritters Recipe 2016 | Recip...   \n",
              "860   Authentic Spanish Seafood Paella Recipe - Cola...   \n",
              "1126          Ful Mudammas (Fuul) Ful Mudammas فول مدمس   \n",
              "\n",
              "                                             video.tags      labels  \n",
              "497   ['pork recipe', 'pork', 'pork belly', 'cooking...      Dinner  \n",
              "1261  ['Cooking (Interest)', 'How-to (Website Catego...    Desserts  \n",
              "411   ['Beef', 'Stew', 'Guinness', \"St. Patrick's Da...  Appetizers  \n",
              "1046  ['recipe', 'tasty', 'simple', 'easy', 'fast', ...    Desserts  \n",
              "1033  ['vietnamese pho recipe', 'how to cook vietnam...    Desserts  \n",
              "...                                                 ...         ...  \n",
              "1095  ['how to cook bacon', 'how to', 'cook bacon', ...    Desserts  \n",
              "1130  ['Chefs at Home', 'Succotash', 'Easy Side Dish...    Desserts  \n",
              "1294  ['Chef', 'Ricardo', 'Cooking', 'Caribbean', 'f...    Desserts  \n",
              "860   ['authentic', 'spanish', 'seafood', 'paella', ...      Dinner  \n",
              "1126  ['Quraac', 'Broad Beans', 'Healthy', 'وصفة', '...    Desserts  \n",
              "\n",
              "[1455 rows x 3 columns]>"
            ]
          },
          "execution_count": 13,
          "metadata": {},
          "output_type": "execute_result"
        }
      ],
      "source": [
        "df_target.head"
      ]
    },
    {
      "cell_type": "markdown",
      "metadata": {
        "id": "GKIq57pup5qp"
      },
      "source": [
        "Preprocessing the auxiliary dataset"
      ]
    },
    {
      "cell_type": "code",
      "execution_count": 9,
      "metadata": {
        "id": "t03gKsXMp5qp",
        "outputId": "cc4f2ad5-8372-4584-fc8c-ef0ae845c0a0"
      },
      "outputs": [
        {
          "name": "stdout",
          "output_type": "stream",
          "text": [
            "   Unnamed: 0                                              Title  \\\n",
            "0           0  Miso-Butter Roast Chicken With Acorn Squash Pa...   \n",
            "1           1                    Crispy Salt and Pepper Potatoes   \n",
            "2           2                        Thanksgiving Mac and Cheese   \n",
            "3           3                 Italian Sausage and Bread Stuffing   \n",
            "4           4                                       Newton's Law   \n",
            "\n",
            "                                         Ingredients  \\\n",
            "0  ['1 (3½–4-lb.) whole chicken', '2¾ tsp. kosher...   \n",
            "1  ['2 large egg whites', '1 pound new potatoes (...   \n",
            "2  ['1 cup evaporated milk', '1 cup whole milk', ...   \n",
            "3  ['1 (¾- to 1-pound) round Italian loaf, cut in...   \n",
            "4  ['1 teaspoon dark brown sugar', '1 teaspoon ho...   \n",
            "\n",
            "                                        Instructions  \\\n",
            "0  Pat chicken dry with paper towels, season all ...   \n",
            "1  Preheat oven to 400°F and line a rimmed baking...   \n",
            "2  Place a rack in middle of oven; preheat to 400...   \n",
            "3  Preheat oven to 350°F with rack in middle. Gen...   \n",
            "4  Stir together brown sugar and hot water in a c...   \n",
            "\n",
            "                                          Image_Name  \\\n",
            "0  miso-butter-roast-chicken-acorn-squash-panzanella   \n",
            "1         crispy-salt-and-pepper-potatoes-dan-kluger   \n",
            "2         thanksgiving-mac-and-cheese-erick-williams   \n",
            "3          italian-sausage-and-bread-stuffing-240559   \n",
            "4                 newtons-law-apple-bourbon-cocktail   \n",
            "\n",
            "                                 Cleaned_Ingredients  \n",
            "0  ['1 (3½–4-lb.) whole chicken', '2¾ tsp. kosher...  \n",
            "1  ['2 large egg whites', '1 pound new potatoes (...  \n",
            "2  ['1 cup evaporated milk', '1 cup whole milk', ...  \n",
            "3  ['1 (¾- to 1-pound) round Italian loaf, cut in...  \n",
            "4  ['1 teaspoon dark brown sugar', '1 teaspoon ho...  \n"
          ]
        }
      ],
      "source": [
        "# Replace 'your_file_path.csv' with the actual path to your CSV file\n",
        "file_path = 'datasets/source/kaggle_food.csv'\n",
        "\n",
        "# Read the CSV file into a Pandas DataFrame\n",
        "df_source = pd.read_csv(file_path)\n",
        "\n",
        "# Display the first few rows of the DataFrame to check the data\n",
        "print(df_source.head())\n"
      ]
    },
    {
      "cell_type": "code",
      "execution_count": 15,
      "metadata": {
        "id": "qxmMKdOFp5qp",
        "outputId": "e9f22f3d-b9a7-4edc-b731-2face7e3a2d1"
      },
      "outputs": [
        {
          "data": {
            "text/plain": [
              "Index(['Unnamed: 0', 'Title', 'Ingredients', 'Instructions', 'Image_Name',\n",
              "       'Cleaned_Ingredients'],\n",
              "      dtype='object')"
            ]
          },
          "execution_count": 15,
          "metadata": {},
          "output_type": "execute_result"
        }
      ],
      "source": [
        "df_source.columns"
      ]
    },
    {
      "cell_type": "code",
      "execution_count": 10,
      "metadata": {
        "id": "gnX_hMXGp5qp"
      },
      "outputs": [],
      "source": [
        "#here we will only be using 'Ingredients' for our purpose\n",
        "#so we will be dropping the remaining columns\n",
        "df_source = df_source.drop(columns=['Unnamed: 0', 'Ingredients', 'Image_Name',\n",
        "       'Cleaned_Ingredients','Title'])"
      ]
    },
    {
      "cell_type": "code",
      "execution_count": 11,
      "metadata": {},
      "outputs": [],
      "source": [
        "# Assuming df['Instructions'] is your text data\n",
        "df_source['Instructions'].fillna('', inplace=True)  # Replace NaN values with an empty string\n"
      ]
    },
    {
      "cell_type": "markdown",
      "metadata": {},
      "source": [
        "Here, we will just be using 'Instructions' column to build a topic space"
      ]
    },
    {
      "cell_type": "code",
      "execution_count": 12,
      "metadata": {},
      "outputs": [
        {
          "name": "stderr",
          "output_type": "stream",
          "text": [
            "[nltk_data] Downloading package punkt to\n",
            "[nltk_data]     /Users/rishikeshyadav/nltk_data...\n",
            "[nltk_data]   Package punkt is already up-to-date!\n",
            "[nltk_data] Downloading package stopwords to\n",
            "[nltk_data]     /Users/rishikeshyadav/nltk_data...\n",
            "[nltk_data]   Package stopwords is already up-to-date!\n"
          ]
        }
      ],
      "source": [
        "import nltk\n",
        "from nltk.corpus import stopwords\n",
        "from nltk.tokenize import word_tokenize\n",
        "\n",
        "nltk.download('punkt')\n",
        "nltk.download('stopwords')\n",
        "\n",
        "def create_topic_space(recipe_text):\n",
        "    # Tokenize the text\n",
        "    words = word_tokenize(recipe_text.lower())  # Convert to lowercase for consistency\n",
        "\n",
        "    # Remove stopwords\n",
        "    stop_words = set(stopwords.words('english'))\n",
        "    filtered_words = [word for word in words if word.isalnum() and word not in stop_words]\n",
        "\n",
        "    # Define the number of main words to extract\n",
        "    num_main_words = 7\n",
        "\n",
        "    # Get the most common words as main words\n",
        "    word_freq = nltk.FreqDist(filtered_words)\n",
        "    main_words = [word for word, _ in word_freq.most_common(num_main_words)]\n",
        "\n",
        "    return main_words"
      ]
    },
    {
      "cell_type": "code",
      "execution_count": 13,
      "metadata": {},
      "outputs": [],
      "source": [
        "# Create topic space\n",
        "df_source['topic_space'] = None\n",
        "for i,recipe in enumerate(df_source['Instructions']):\n",
        "    topic_space = create_topic_space(recipe)\n",
        "    df_source['topic_space'][i] = topic_space"
      ]
    },
    {
      "cell_type": "code",
      "execution_count": 14,
      "metadata": {},
      "outputs": [],
      "source": [
        "# Assuming df['topic_space'] is your text data\n",
        "df_source['topic_space'].fillna('', inplace=True)  # Replace NaN values with an empty string"
      ]
    },
    {
      "cell_type": "code",
      "execution_count": 15,
      "metadata": {},
      "outputs": [
        {
          "data": {
            "text/html": [
              "<div>\n",
              "<style scoped>\n",
              "    .dataframe tbody tr th:only-of-type {\n",
              "        vertical-align: middle;\n",
              "    }\n",
              "\n",
              "    .dataframe tbody tr th {\n",
              "        vertical-align: top;\n",
              "    }\n",
              "\n",
              "    .dataframe thead th {\n",
              "        text-align: right;\n",
              "    }\n",
              "</style>\n",
              "<table border=\"1\" class=\"dataframe\">\n",
              "  <thead>\n",
              "    <tr style=\"text-align: right;\">\n",
              "      <th></th>\n",
              "      <th>Instructions</th>\n",
              "      <th>topic_space</th>\n",
              "      <th>labels</th>\n",
              "    </tr>\n",
              "  </thead>\n",
              "  <tbody>\n",
              "    <tr>\n",
              "      <th>0</th>\n",
              "      <td>Pat chicken dry with paper towels, season all ...</td>\n",
              "      <td>[chicken, minutes, squash, butter, season, sal...</td>\n",
              "      <td>X</td>\n",
              "    </tr>\n",
              "    <tr>\n",
              "      <th>1</th>\n",
              "      <td>Preheat oven to 400°F and line a rimmed baking...</td>\n",
              "      <td>[potatoes, whites, bowl, baking, sheet, egg, t...</td>\n",
              "      <td>X</td>\n",
              "    </tr>\n",
              "    <tr>\n",
              "      <th>2</th>\n",
              "      <td>Place a rack in middle of oven; preheat to 400...</td>\n",
              "      <td>[macaroni, cheddar, cheese, remaining, bring, ...</td>\n",
              "      <td>X</td>\n",
              "    </tr>\n",
              "    <tr>\n",
              "      <th>3</th>\n",
              "      <td>Preheat oven to 350°F with rack in middle. Gen...</td>\n",
              "      <td>[stuffing, minutes, baking, turkey, heat, oven...</td>\n",
              "      <td>X</td>\n",
              "    </tr>\n",
              "    <tr>\n",
              "      <th>4</th>\n",
              "      <td>Stir together brown sugar and hot water in a c...</td>\n",
              "      <td>[stir, together, brown, sugar, hot, water, coc...</td>\n",
              "      <td>X</td>\n",
              "    </tr>\n",
              "    <tr>\n",
              "      <th>...</th>\n",
              "      <td>...</td>\n",
              "      <td>...</td>\n",
              "      <td>...</td>\n",
              "    </tr>\n",
              "    <tr>\n",
              "      <th>13496</th>\n",
              "      <td>Preheat the oven to 350°F. Into a bowl sift to...</td>\n",
              "      <td>[bowl, together, powder, batter, oven, flour, ...</td>\n",
              "      <td>X</td>\n",
              "    </tr>\n",
              "    <tr>\n",
              "      <th>13497</th>\n",
              "      <td>Preheat oven to 475°F.\\nHalve lemons and scoop...</td>\n",
              "      <td>[oil, squash, flesh, peel, toss, 1, cups]</td>\n",
              "      <td>X</td>\n",
              "    </tr>\n",
              "    <tr>\n",
              "      <th>13498</th>\n",
              "      <td>If using katsuo bushi flakes from package, moi...</td>\n",
              "      <td>[water, heat, cook, dry, rice, minutes, katsuo]</td>\n",
              "      <td>X</td>\n",
              "    </tr>\n",
              "    <tr>\n",
              "      <th>13499</th>\n",
              "      <td>Melt 1 tablespoon butter in a 12-inch heavy sk...</td>\n",
              "      <td>[phyllo, butter, 1, minutes, cool, teaspoon, s...</td>\n",
              "      <td>X</td>\n",
              "    </tr>\n",
              "    <tr>\n",
              "      <th>13500</th>\n",
              "      <td>Lay 4 chiles on their sides on racks of gas bu...</td>\n",
              "      <td>[chiles, heat, minutes, sauce, remaining, 4, c...</td>\n",
              "      <td>X</td>\n",
              "    </tr>\n",
              "  </tbody>\n",
              "</table>\n",
              "<p>13501 rows × 3 columns</p>\n",
              "</div>"
            ],
            "text/plain": [
              "                                            Instructions  \\\n",
              "0      Pat chicken dry with paper towels, season all ...   \n",
              "1      Preheat oven to 400°F and line a rimmed baking...   \n",
              "2      Place a rack in middle of oven; preheat to 400...   \n",
              "3      Preheat oven to 350°F with rack in middle. Gen...   \n",
              "4      Stir together brown sugar and hot water in a c...   \n",
              "...                                                  ...   \n",
              "13496  Preheat the oven to 350°F. Into a bowl sift to...   \n",
              "13497  Preheat oven to 475°F.\\nHalve lemons and scoop...   \n",
              "13498  If using katsuo bushi flakes from package, moi...   \n",
              "13499  Melt 1 tablespoon butter in a 12-inch heavy sk...   \n",
              "13500  Lay 4 chiles on their sides on racks of gas bu...   \n",
              "\n",
              "                                             topic_space labels  \n",
              "0      [chicken, minutes, squash, butter, season, sal...      X  \n",
              "1      [potatoes, whites, bowl, baking, sheet, egg, t...      X  \n",
              "2      [macaroni, cheddar, cheese, remaining, bring, ...      X  \n",
              "3      [stuffing, minutes, baking, turkey, heat, oven...      X  \n",
              "4      [stir, together, brown, sugar, hot, water, coc...      X  \n",
              "...                                                  ...    ...  \n",
              "13496  [bowl, together, powder, batter, oven, flour, ...      X  \n",
              "13497          [oil, squash, flesh, peel, toss, 1, cups]      X  \n",
              "13498    [water, heat, cook, dry, rice, minutes, katsuo]      X  \n",
              "13499  [phyllo, butter, 1, minutes, cool, teaspoon, s...      X  \n",
              "13500  [chiles, heat, minutes, sauce, remaining, 4, c...      X  \n",
              "\n",
              "[13501 rows x 3 columns]"
            ]
          },
          "execution_count": 15,
          "metadata": {},
          "output_type": "execute_result"
        }
      ],
      "source": [
        "# Define a function to generate dummy labels\n",
        "def generate_dummy_labels(num_samples):\n",
        "    dummy_labels = [\"X\"] * num_samples\n",
        "    df_source['labels'] = dummy_labels\n",
        "    return df_source\n",
        "\n",
        "num_samples = len(df_source)\n",
        "\n",
        "# Generate dummy labels for EMNIST\n",
        "generate_dummy_labels(num_samples)"
      ]
    },
    {
      "cell_type": "code",
      "execution_count": 21,
      "metadata": {},
      "outputs": [],
      "source": [
        "# Prepare domain labels\n",
        "domain_label_source = np.zeros((df_source['topic_space'].shape[0], 1))  # Source domain label is 0\n",
        "domain_label_target = np.ones((df_target[\"video.tags\"].shape[0], 1))   # Target domain label is 1"
      ]
    },
    {
      "cell_type": "markdown",
      "metadata": {},
      "source": [
        "Here, we will be combining two datasets for DANN. This allows the training over common features"
      ]
    },
    {
      "cell_type": "code",
      "execution_count": 22,
      "metadata": {},
      "outputs": [],
      "source": [
        "# Concatenate source and target data\n",
        "x_combined = df_target['video.tags'] + df_source['topic_space']\n",
        "y_combined = df_target['labels'] + df_source['labels']\n",
        "domain_labels_combined = np.vstack((domain_label_source, domain_label_target))"
      ]
    },
    {
      "cell_type": "code",
      "execution_count": 23,
      "metadata": {},
      "outputs": [
        {
          "name": "stdout",
          "output_type": "stream",
          "text": [
            "13501\n"
          ]
        }
      ],
      "source": [
        "#examining the number of elements in x_combined and y_combined\n",
        "if len(x_combined) == len(y_combined):\n",
        "    print(len(x_combined))"
      ]
    },
    {
      "cell_type": "code",
      "execution_count": 24,
      "metadata": {},
      "outputs": [
        {
          "name": "stdout",
          "output_type": "stream",
          "text": [
            "14956\n"
          ]
        }
      ],
      "source": [
        "#determining the size of domain labels combined\n",
        "print(len(domain_labels_combined))"
      ]
    },
    {
      "cell_type": "code",
      "execution_count": 25,
      "metadata": {},
      "outputs": [
        {
          "name": "stdout",
          "output_type": "stream",
          "text": [
            "13501\n"
          ]
        }
      ],
      "source": [
        "#since the size of domain labels is more than x_combined/y_combined, we will have the domain_labels_combined of the same size\n",
        "domain_labels_combined = domain_labels_combined[:13501]\n",
        "print(len(domain_labels_combined))"
      ]
    },
    {
      "cell_type": "code",
      "execution_count": 26,
      "metadata": {},
      "outputs": [],
      "source": [
        "# Assuming x_combined is your text data\n",
        "x_combined.fillna('', inplace=True)  # Replace NaN values with an empty string\n",
        "\n",
        "# Assuming y_combined is your text data\n",
        "y_combined.fillna('', inplace=True)  # Replace NaN values with an empty string\n"
      ]
    },
    {
      "cell_type": "markdown",
      "metadata": {},
      "source": [
        "***Graph Based framework and spectral learning through eigen vectors in laplacian matrix***\n",
        "\n",
        "\n",
        "\n",
        "To implement a graph-based framework and spectral learning in your code, we'll make use of the NetworkX library for graph operations and NumPy for linear algebra operations. The approach involves constructing a graph, computing the Laplacian matrix, performing eigen decomposition, and utilizing the eigenvectors for feature representation."
      ]
    },
    {
      "cell_type": "markdown",
      "metadata": {},
      "source": [
        "\n",
        "Jaccard similarity is a measure of similarity between two sets. It is defined as the size of the intersection of the sets divided by the size of the union of the sets. The Jaccard similarity ranges from 0 to 1, where 0 indicates no similarity (no common elements) and 1 indicates complete similarity (all elements are common). "
      ]
    },
    {
      "cell_type": "code",
      "execution_count": 27,
      "metadata": {},
      "outputs": [],
      "source": [
        "import networkx as nx\n",
        "from scipy.linalg import fractional_matrix_power\n",
        "\n",
        "\n",
        "# Constructing a Graph-Based Framework\n",
        "corpus = x_combined.apply(lambda x: set(x.split()))  # Convert each tag set to a set\n",
        "\n",
        "# Build graph from corpus using Jaccard similarity\n",
        "G = nx.Graph()\n",
        "for i, tags_i in enumerate(corpus):\n",
        "    G.add_node(i, tags=tags_i)  # Node represents a video with its tags\n",
        "    for j, tags_j in enumerate(corpus):\n",
        "        if i != j:\n",
        "            intersection_size = len(tags_i.intersection(tags_j))\n",
        "            union_size = len(tags_i.union(tags_j))\n",
        "            if union_size > 0:\n",
        "                jaccard_similarity = intersection_size / union_size\n",
        "                if jaccard_similarity > 0.2:  # Adjust the threshold as needed\n",
        "                    G.add_edge(i, j, weight=jaccard_similarity)"
      ]
    },
    {
      "cell_type": "markdown",
      "metadata": {},
      "source": [
        "Here, we will be plotting the graph"
      ]
    },
    {
      "cell_type": "code",
      "execution_count": 28,
      "metadata": {},
      "outputs": [
        {
          "data": {
            "image/png": "[encoded data removed]",
            "text/plain": [
              "<Figure size 640x480 with 1 Axes>"
            ]
          },
          "metadata": {},
          "output_type": "display_data"
        }
      ],
      "source": [
        "pos = nx.spring_layout(G)  # Positioning nodes using spring layout algorithm\n",
        "\n",
        "# Plotting nodes\n",
        "nx.draw_networkx_nodes(G, pos, node_color='skyblue', node_size=50)\n",
        "\n",
        "# Plotting edges\n",
        "nx.draw_networkx_edges(G, pos, edge_color='gray', alpha=0.5)\n",
        "\n",
        "# Displaying labels (optional)\n",
        "nx.draw_networkx_labels(G, pos, font_size=8, font_color='black')\n",
        "\n",
        "# Display the plot\n",
        "plt.title(\"Graph Visualization\")\n",
        "plt.show()\n"
      ]
    },
    {
      "cell_type": "code",
      "execution_count": 29,
      "metadata": {},
      "outputs": [],
      "source": [
        "# Laplacian matrix\n",
        "L = nx.laplacian_matrix(G).toarray()\n",
        "\n",
        "# Spectral Learning and Eigen Feature Representations\n",
        "\n",
        "# Eigen decomposition\n",
        "eigenvalues, eigenvectors = np.linalg.eigh(L)\n",
        "\n",
        "# Sort eigenvalues and corresponding eigenvectors\n",
        "sorted_indices = np.argsort(eigenvalues)\n",
        "eigenvalues = eigenvalues[sorted_indices]\n",
        "eigenvectors = eigenvectors[:, sorted_indices]\n",
        "\n",
        "# Select dominant eigenvectors (adjust the number as needed)\n",
        "global num_eigenvectors\n",
        "num_eigenvectors = 10\n",
        "dominant_eigenvectors = eigenvectors[:, :num_eigenvectors]\n",
        "\n",
        "# Eigen Feature Representations\n",
        "global eigen_feature_representations\n",
        "eigen_feature_representations =fractional_matrix_power(L, -0.5) @ dominant_eigenvectors\n",
        "\n"
      ]
    },
    {
      "cell_type": "markdown",
      "metadata": {},
      "source": [
        "Here, we will be tokenizing the sentences."
      ]
    },
    {
      "cell_type": "code",
      "execution_count": 30,
      "metadata": {},
      "outputs": [],
      "source": [
        "from sklearn.preprocessing import LabelEncoder\n",
        "from keras.preprocessing.text import Tokenizer\n",
        "from keras.preprocessing.sequence import pad_sequences\n",
        "from keras.utils import to_categorical\n",
        "\n",
        "#defining the parameters\n",
        "num_classes = 1\n",
        "embedding_dim = 100\n",
        "\n",
        "# Assuming df['video.tags'] is your text data, we  tokenize the input dataset into tokens for the CNN model\n",
        "#Tokenizer Initialization and Fitting:\n",
        "tokenizer = Tokenizer()\n",
        "tokenizer.fit_on_texts(x_combined)\n",
        "\n",
        "#Vocabulary Size and Maximum Sequence Length Calculation:\n",
        "vocab_size = len(tokenizer.word_index) + 1\n",
        "max_sequence_length = max(x_combined.apply(lambda x: len(x.split())))\n",
        "\n",
        "#Texts to Sequences:\n",
        "sequences = tokenizer.texts_to_sequences(x_combined)\n",
        "\n",
        "#Padding Sequences\n",
        "data = pad_sequences(sequences, maxlen=max_sequence_length)\n"
      ]
    },
    {
      "cell_type": "code",
      "execution_count": 31,
      "metadata": {
        "id": "FeWyjw7Np5qp"
      },
      "outputs": [],
      "source": [
        "\n",
        "# Assuming 'text' is your input data and 'label' is your target variable\n",
        "X = data   #data\n",
        "y = y_combined.values           #labels\n",
        "\n",
        "# Convert labels to numerical format using LabelEncoder\n",
        "label_encoder = LabelEncoder()\n",
        "y = label_encoder.fit_transform(y)\n",
        "\n",
        "# Split the data into training and testing sets\n",
        "X_train, X_test, y_train, y_test = train_test_split(X, y, test_size=0.2, random_state=42)"
      ]
    },
    {
      "cell_type": "code",
      "execution_count": 32,
      "metadata": {},
      "outputs": [],
      "source": [
        "# Integrate with Cross-Domain Transfer Learning\n",
        "\n",
        "# Concatenate eigen feature representations with existing data\n",
        "X_train_with_graph = np.hstack((X_train, eigen_feature_representations[:len(X_train)]))\n",
        "X_test_with_graph = np.hstack((X_test, eigen_feature_representations[len(X_train):]))"
      ]
    },
    {
      "cell_type": "markdown",
      "metadata": {},
      "source": [
        "*******************************************************************************************************************************"
      ]
    },
    {
      "cell_type": "markdown",
      "metadata": {},
      "source": [
        "*******************************************************************************************************************************"
      ]
    },
    {
      "cell_type": "code",
      "execution_count": 194,
      "metadata": {},
      "outputs": [],
      "source": [
        "#building a basic CNN without DANN\n",
        "# Define the model\n",
        "model = Sequential()\n",
        "\n",
        "# Embedding layer: Converts words into dense vectors of fixed size\n",
        "model.add(Embedding(input_dim=vocab_size, output_dim=embedding_dim, input_length=max_sequence_length))\n",
        "\n",
        "# Convolutional layer with max pooling\n",
        "model.add(Conv1D(filters=128, kernel_size=5, activation='relu'))\n",
        "model.add(GlobalMaxPooling1D())\n",
        "\n",
        "# Fully connected layers for classification\n",
        "model.add(Dense(units=64, activation='relu'))\n",
        "model.add(Dense(units=num_classes, activation='softmax'))\n"
      ]
    },
    {
      "cell_type": "code",
      "execution_count": 195,
      "metadata": {},
      "outputs": [],
      "source": [
        "\n",
        "# Compile the model\n",
        "model.compile(optimizer='adam', loss='categorical_crossentropy', metrics=['accuracy'])"
      ]
    },
    {
      "cell_type": "code",
      "execution_count": 199,
      "metadata": {},
      "outputs": [
        {
          "name": "stdout",
          "output_type": "stream",
          "text": [
            "338/338 [==============================] - 9s 28ms/step - loss: 0.0000e+00 - accuracy: 0.0346 - val_loss: 0.0000e+00 - val_accuracy: 0.0411\n"
          ]
        }
      ],
      "source": [
        "# Train the model and display the activations after each epoch\n",
        "start_time = time.time()\n",
        "history = model.fit(X_train, y_train, epochs=1, validation_data=(X_test, y_test))\n",
        "end_time = time.time()"
      ]
    },
    {
      "cell_type": "code",
      "execution_count": 200,
      "metadata": {},
      "outputs": [
        {
          "name": "stdout",
          "output_type": "stream",
          "text": [
            "85/85 - 1s - loss: 0.0000e+00 - accuracy: 0.0411 - 778ms/epoch - 9ms/step\n",
            "Test accuracy: 0.04109589010477066\n",
            "Time elapsed:  9.461171865463257\n"
          ]
        }
      ],
      "source": [
        "test_loss, test_acc = model.evaluate(X_test, y_test, verbose=2)\n",
        "print('Test accuracy:', test_acc)\n",
        "print('Time elapsed: ', end_time - start_time)"
      ]
    },
    {
      "cell_type": "markdown",
      "metadata": {},
      "source": [
        "*******************************************************************************************************************************"
      ]
    },
    {
      "cell_type": "markdown",
      "metadata": {},
      "source": [
        "*******************************************************************************************************************************"
      ]
    },
    {
      "cell_type": "code",
      "execution_count": null,
      "metadata": {},
      "outputs": [],
      "source": [
        "#Applying DANN"
      ]
    },
    {
      "cell_type": "code",
      "execution_count": 183,
      "metadata": {
        "id": "L0FXwMlGp5qq"
      },
      "outputs": [],
      "source": [
        "# Define the Feature Extractor\n",
        "def build_feature_extractor(vocab_size,embedding_dim,max_sequence_length):\n",
        "    model = models.Sequential([\n",
        "        layers.Embedding(input_dim=vocab_size, output_dim=embedding_dim, input_length=max_sequence_length),\n",
        "        layers.Conv1D(filters=128, kernel_size=5, activation='relu'),\n",
        "        layers.GlobalMaxPooling1D()\n",
        "    ])\n",
        "    return model"
      ]
    },
    {
      "cell_type": "code",
      "execution_count": 184,
      "metadata": {
        "id": "VqxvfId8p5qq"
      },
      "outputs": [],
      "source": [
        "# Define the Label Predictor\n",
        "def build_label_predictor(num_classes):\n",
        "    model = models.Sequential([\n",
        "        Dense(units=num_classes, activation='softmax',name='output')\n",
        "    ])\n",
        "    return model"
      ]
    },
    {
      "cell_type": "code",
      "execution_count": 185,
      "metadata": {
        "id": "6Nz6Foe2p5qq"
      },
      "outputs": [],
      "source": [
        "# Define the Domain Predictor\n",
        "def build_domain_predictor():\n",
        "    model = models.Sequential([\n",
        "        layers.Dense(64,activation='relu',name='dense_1'),\n",
        "        layers.Dense(1,activation='sigmoid',name='dense_2')\n",
        "    ])\n",
        "    return model"
      ]
    },
    {
      "cell_type": "code",
      "execution_count": 186,
      "metadata": {
        "id": "wCFah8uBp5qq"
      },
      "outputs": [],
      "source": [
        "# Build the complete DANN model\n",
        "def build_dann(vocab_size,embedding_dim,max_sequence_length, num_classes,num_eigenvectors):\n",
        "    feature_extractor = build_feature_extractor(vocab_size,embedding_dim,max_sequence_length)\n",
        "    label_predictor = build_label_predictor(num_classes)\n",
        "    domain_predictor = build_domain_predictor()\n",
        "\n",
        "    # Define inputs\n",
        "    input_data = layers.Input(shape=(max_sequence_length + num_eigenvectors,))\n",
        "    label = layers.Input(shape=(num_classes,))\n",
        "    domain_label = layers.Input(shape=(1,))\n",
        "\n",
        "    # Feature extractor output\n",
        "    feature_output = feature_extractor(input_data)\n",
        "\n",
        "    # Label prediction branch\n",
        "    label_output = label_predictor(feature_output)\n",
        "\n",
        "    # Domain prediction branch\n",
        "    domain_output = domain_predictor(feature_output)\n",
        "\n",
        "    dann_model = models.Model(inputs=[input_data, label, domain_label],\n",
        "                              outputs=[label_output, domain_output])\n",
        "\n",
        "    return dann_model"
      ]
    },
    {
      "cell_type": "code",
      "execution_count": 187,
      "metadata": {
        "id": "MJ3Cpz5Wp5qq"
      },
      "outputs": [],
      "source": [
        "# Define loss functions\n",
        "def label_loss(y_true, y_pred):\n",
        "    return tf.keras.losses.categorical_crossentropy(y_true, y_pred)\n",
        "\n",
        "def domain_loss(y_true, y_pred):\n",
        "    return tf.keras.losses.binary_crossentropy(y_true, y_pred)"
      ]
    },
    {
      "cell_type": "code",
      "execution_count": 188,
      "metadata": {
        "id": "Bf-DKIu8p5qr"
      },
      "outputs": [],
      "source": [
        "# Build and compile the DANN model\n",
        "dann_model = build_dann(vocab_size,embedding_dim,max_sequence_length, num_classes,num_eigenvectors)\n",
        "\n",
        "dann_model.compile(optimizer='Adam',\n",
        "                   loss=[label_loss, domain_loss],\n",
        "                   loss_weights=[1.0,0.1])"
      ]
    },
    {
      "cell_type": "code",
      "execution_count": 189,
      "metadata": {},
      "outputs": [
        {
          "data": {
            "text/plain": [
              "(13501,)"
            ]
          },
          "execution_count": 189,
          "metadata": {},
          "output_type": "execute_result"
        }
      ],
      "source": [
        "x_combined.shape"
      ]
    },
    {
      "cell_type": "code",
      "execution_count": 158,
      "metadata": {},
      "outputs": [
        {
          "ename": "ValueError",
          "evalue": "invalid literal for int() with base 10: 'AppetizersX'",
          "output_type": "error",
          "traceback": [
            "\u001b[0;31m---------------------------------------------------------------------------\u001b[0m",
            "\u001b[0;31mValueError\u001b[0m                                Traceback (most recent call last)",
            "Cell \u001b[0;32mIn[158], line 4\u001b[0m\n\u001b[1;32m      1\u001b[0m \u001b[38;5;66;03m# One-hot encode the train labels\u001b[39;00m\n\u001b[1;32m      2\u001b[0m \u001b[38;5;66;03m#shape of x_combined.shape is (13501,) initially despite having 3 classes\u001b[39;00m\n\u001b[1;32m      3\u001b[0m \u001b[38;5;66;03m# it means that it contains class labels as integers rather than being one-hot encoded.\u001b[39;00m\n\u001b[0;32m----> 4\u001b[0m y_combined \u001b[38;5;241m=\u001b[39m \u001b[43mtf\u001b[49m\u001b[38;5;241;43m.\u001b[39;49m\u001b[43mkeras\u001b[49m\u001b[38;5;241;43m.\u001b[39;49m\u001b[43mutils\u001b[49m\u001b[38;5;241;43m.\u001b[39;49m\u001b[43mto_categorical\u001b[49m\u001b[43m(\u001b[49m\u001b[43my_combined\u001b[49m\u001b[43m,\u001b[49m\u001b[43m \u001b[49m\u001b[38;5;241;43m2\u001b[39;49m\u001b[43m)\u001b[49m \n",
            "File \u001b[0;32m/Library/Frameworks/Python.framework/Versions/3.10/lib/python3.10/site-packages/keras/src/utils/np_utils.py:62\u001b[0m, in \u001b[0;36mto_categorical\u001b[0;34m(y, num_classes, dtype)\u001b[0m\n\u001b[1;32m     23\u001b[0m \u001b[39m@keras_export\u001b[39m(\u001b[39m\"\u001b[39m\u001b[39mkeras.utils.to_categorical\u001b[39m\u001b[39m\"\u001b[39m)\n\u001b[1;32m     24\u001b[0m \u001b[39mdef\u001b[39;00m \u001b[39mto_categorical\u001b[39m(y, num_classes\u001b[39m=\u001b[39m\u001b[39mNone\u001b[39;00m, dtype\u001b[39m=\u001b[39m\u001b[39m\"\u001b[39m\u001b[39mfloat32\u001b[39m\u001b[39m\"\u001b[39m):\n\u001b[1;32m     25\u001b[0m \u001b[39m    \u001b[39m\u001b[39m\"\"\"Converts a class vector (integers) to binary class matrix.\u001b[39;00m\n\u001b[1;32m     26\u001b[0m \n\u001b[1;32m     27\u001b[0m \u001b[39m    E.g. for use with `categorical_crossentropy`.\u001b[39;00m\n\u001b[0;32m   (...)\u001b[0m\n\u001b[1;32m     60\u001b[0m \u001b[39m    [0. 0. 0. 0.]\u001b[39;00m\n\u001b[1;32m     61\u001b[0m \u001b[39m    \"\"\"\u001b[39;00m\n\u001b[0;32m---> 62\u001b[0m     y \u001b[39m=\u001b[39m np\u001b[39m.\u001b[39;49marray(y, dtype\u001b[39m=\u001b[39;49m\u001b[39m\"\u001b[39;49m\u001b[39mint\u001b[39;49m\u001b[39m\"\u001b[39;49m)\n\u001b[1;32m     63\u001b[0m     input_shape \u001b[39m=\u001b[39m y\u001b[39m.\u001b[39mshape\n\u001b[1;32m     65\u001b[0m     \u001b[39m# Shrink the last dimension if the shape is (..., 1).\u001b[39;00m\n",
            "File \u001b[0;32m/Library/Frameworks/Python.framework/Versions/3.10/lib/python3.10/site-packages/pandas/core/series.py:893\u001b[0m, in \u001b[0;36mSeries.__array__\u001b[0;34m(self, dtype)\u001b[0m\n\u001b[1;32m    846\u001b[0m \u001b[39mdef\u001b[39;00m \u001b[39m__array__\u001b[39m(\u001b[39mself\u001b[39m, dtype: npt\u001b[39m.\u001b[39mDTypeLike \u001b[39m|\u001b[39m \u001b[39mNone\u001b[39;00m \u001b[39m=\u001b[39m \u001b[39mNone\u001b[39;00m) \u001b[39m-\u001b[39m\u001b[39m>\u001b[39m np\u001b[39m.\u001b[39mndarray:\n\u001b[1;32m    847\u001b[0m \u001b[39m    \u001b[39m\u001b[39m\"\"\"\u001b[39;00m\n\u001b[1;32m    848\u001b[0m \u001b[39m    Return the values as a NumPy array.\u001b[39;00m\n\u001b[1;32m    849\u001b[0m \n\u001b[0;32m   (...)\u001b[0m\n\u001b[1;32m    891\u001b[0m \u001b[39m          dtype='datetime64[ns]')\u001b[39;00m\n\u001b[1;32m    892\u001b[0m \u001b[39m    \"\"\"\u001b[39;00m\n\u001b[0;32m--> 893\u001b[0m     \u001b[39mreturn\u001b[39;00m np\u001b[39m.\u001b[39;49masarray(\u001b[39mself\u001b[39;49m\u001b[39m.\u001b[39;49m_values, dtype)\n",
            "\u001b[0;31mValueError\u001b[0m: invalid literal for int() with base 10: 'AppetizersX'"
          ]
        }
      ],
      "source": [
        "# One-hot encode the train labels\n",
        "#shape of x_combined.shape is (13501,) initially despite having 3 classes\n",
        "# it means that it contains class labels as integers rather than being one-hot encoded.\n",
        "y_combined = tf.keras.utils.to_categorical(y_combined, 2) "
      ]
    },
    {
      "cell_type": "code",
      "execution_count": 190,
      "metadata": {
        "id": "pF9-nB66p5qr"
      },
      "outputs": [
        {
          "ename": "ValueError",
          "evalue": "in user code:\n\n    File \"/Library/Frameworks/Python.framework/Versions/3.10/lib/python3.10/site-packages/keras/src/engine/training.py\", line 1338, in train_function  *\n        return step_function(self, iterator)\n    File \"/Library/Frameworks/Python.framework/Versions/3.10/lib/python3.10/site-packages/keras/src/engine/training.py\", line 1322, in step_function  **\n        outputs = model.distribute_strategy.run(run_step, args=(data,))\n    File \"/Library/Frameworks/Python.framework/Versions/3.10/lib/python3.10/site-packages/keras/src/engine/training.py\", line 1303, in run_step  **\n        outputs = model.train_step(data)\n    File \"/Library/Frameworks/Python.framework/Versions/3.10/lib/python3.10/site-packages/keras/src/engine/training.py\", line 1080, in train_step\n        y_pred = self(x, training=True)\n    File \"/Library/Frameworks/Python.framework/Versions/3.10/lib/python3.10/site-packages/keras/src/utils/traceback_utils.py\", line 70, in error_handler\n        raise e.with_traceback(filtered_tb) from None\n\n    ValueError: Exception encountered when calling layer 'conv1d_2' (type Conv1D).\n    \n    Negative dimension size caused by subtracting 5 from 1 for '{{node model_2/sequential_6/conv1d_2/Conv1D}} = Conv2D[T=DT_FLOAT, data_format=\"NHWC\", dilations=[1, 1, 1, 1], explicit_paddings=[], padding=\"VALID\", strides=[1, 1, 1, 1], use_cudnn_on_gpu=true](model_2/sequential_6/conv1d_2/Conv1D/ExpandDims, model_2/sequential_6/conv1d_2/Conv1D/ExpandDims_1)' with input shapes: [?,1,1,100], [1,5,100,128].\n    \n    Call arguments received by layer 'conv1d_2' (type Conv1D):\n      • inputs=tf.Tensor(shape=(None, 1, 100), dtype=float32)\n",
          "output_type": "error",
          "traceback": [
            "\u001b[0;31m---------------------------------------------------------------------------\u001b[0m",
            "\u001b[0;31mValueError\u001b[0m                                Traceback (most recent call last)",
            "Cell \u001b[0;32mIn[190], line 5\u001b[0m\n\u001b[1;32m      1\u001b[0m \u001b[38;5;66;03m# Train the DANN\u001b[39;00m\n\u001b[1;32m      3\u001b[0m start_time \u001b[38;5;241m=\u001b[39m time\u001b[38;5;241m.\u001b[39mtime()\n\u001b[0;32m----> 5\u001b[0m \u001b[43mdann_model\u001b[49m\u001b[38;5;241;43m.\u001b[39;49m\u001b[43mfit\u001b[49m\u001b[43m(\u001b[49m\u001b[43m[\u001b[49m\u001b[43mx_combined\u001b[49m\u001b[43m,\u001b[49m\u001b[43my_combined\u001b[49m\u001b[43m,\u001b[49m\u001b[43mdomain_labels_combined\u001b[49m\u001b[43m]\u001b[49m\u001b[43m,\u001b[49m\n\u001b[1;32m      6\u001b[0m \u001b[43m               \u001b[49m\u001b[43m[\u001b[49m\u001b[43my_combined\u001b[49m\u001b[43m,\u001b[49m\u001b[43mdomain_labels_combined\u001b[49m\u001b[43m]\u001b[49m\u001b[43m,\u001b[49m\n\u001b[1;32m      7\u001b[0m \u001b[43m               \u001b[49m\u001b[43mepochs\u001b[49m\u001b[38;5;241;43m=\u001b[39;49m\u001b[38;5;241;43m1\u001b[39;49m\u001b[43m)\u001b[49m\n\u001b[1;32m      9\u001b[0m end_time \u001b[38;5;241m=\u001b[39m time\u001b[38;5;241m.\u001b[39mtime()\n",
            "File \u001b[0;32m/Library/Frameworks/Python.framework/Versions/3.10/lib/python3.10/site-packages/keras/src/utils/traceback_utils.py:70\u001b[0m, in \u001b[0;36mfilter_traceback.<locals>.error_handler\u001b[0;34m(*args, **kwargs)\u001b[0m\n\u001b[1;32m     67\u001b[0m     filtered_tb \u001b[39m=\u001b[39m _process_traceback_frames(e\u001b[39m.\u001b[39m__traceback__)\n\u001b[1;32m     68\u001b[0m     \u001b[39m# To get the full stack trace, call:\u001b[39;00m\n\u001b[1;32m     69\u001b[0m     \u001b[39m# `tf.debugging.disable_traceback_filtering()`\u001b[39;00m\n\u001b[0;32m---> 70\u001b[0m     \u001b[39mraise\u001b[39;00m e\u001b[39m.\u001b[39mwith_traceback(filtered_tb) \u001b[39mfrom\u001b[39;00m \u001b[39mNone\u001b[39m\n\u001b[1;32m     71\u001b[0m \u001b[39mfinally\u001b[39;00m:\n\u001b[1;32m     72\u001b[0m     \u001b[39mdel\u001b[39;00m filtered_tb\n",
            "File \u001b[0;32m/var/folders/b8/466710_d78q31z8wgrvw2cc00000gn/T/__autograph_generated_filexkf941t4.py:15\u001b[0m, in \u001b[0;36mouter_factory.<locals>.inner_factory.<locals>.tf__train_function\u001b[0;34m(iterator)\u001b[0m\n\u001b[1;32m     13\u001b[0m \u001b[39mtry\u001b[39;00m:\n\u001b[1;32m     14\u001b[0m     do_return \u001b[39m=\u001b[39m \u001b[39mTrue\u001b[39;00m\n\u001b[0;32m---> 15\u001b[0m     retval_ \u001b[39m=\u001b[39m ag__\u001b[39m.\u001b[39mconverted_call(ag__\u001b[39m.\u001b[39mld(step_function), (ag__\u001b[39m.\u001b[39mld(\u001b[39mself\u001b[39m), ag__\u001b[39m.\u001b[39mld(iterator)), \u001b[39mNone\u001b[39;00m, fscope)\n\u001b[1;32m     16\u001b[0m \u001b[39mexcept\u001b[39;00m:\n\u001b[1;32m     17\u001b[0m     do_return \u001b[39m=\u001b[39m \u001b[39mFalse\u001b[39;00m\n",
            "\u001b[0;31mValueError\u001b[0m: in user code:\n\n    File \"/Library/Frameworks/Python.framework/Versions/3.10/lib/python3.10/site-packages/keras/src/engine/training.py\", line 1338, in train_function  *\n        return step_function(self, iterator)\n    File \"/Library/Frameworks/Python.framework/Versions/3.10/lib/python3.10/site-packages/keras/src/engine/training.py\", line 1322, in step_function  **\n        outputs = model.distribute_strategy.run(run_step, args=(data,))\n    File \"/Library/Frameworks/Python.framework/Versions/3.10/lib/python3.10/site-packages/keras/src/engine/training.py\", line 1303, in run_step  **\n        outputs = model.train_step(data)\n    File \"/Library/Frameworks/Python.framework/Versions/3.10/lib/python3.10/site-packages/keras/src/engine/training.py\", line 1080, in train_step\n        y_pred = self(x, training=True)\n    File \"/Library/Frameworks/Python.framework/Versions/3.10/lib/python3.10/site-packages/keras/src/utils/traceback_utils.py\", line 70, in error_handler\n        raise e.with_traceback(filtered_tb) from None\n\n    ValueError: Exception encountered when calling layer 'conv1d_2' (type Conv1D).\n    \n    Negative dimension size caused by subtracting 5 from 1 for '{{node model_2/sequential_6/conv1d_2/Conv1D}} = Conv2D[T=DT_FLOAT, data_format=\"NHWC\", dilations=[1, 1, 1, 1], explicit_paddings=[], padding=\"VALID\", strides=[1, 1, 1, 1], use_cudnn_on_gpu=true](model_2/sequential_6/conv1d_2/Conv1D/ExpandDims, model_2/sequential_6/conv1d_2/Conv1D/ExpandDims_1)' with input shapes: [?,1,1,100], [1,5,100,128].\n    \n    Call arguments received by layer 'conv1d_2' (type Conv1D):\n      • inputs=tf.Tensor(shape=(None, 1, 100), dtype=float32)\n"
          ]
        }
      ],
      "source": [
        "# Train the DANN\n",
        "\n",
        "start_time = time.time()\n",
        "\n",
        "dann_model.fit([X_train_with_graph, y_train, domain_labels_combined[:len(X_train)]],\n",
        "                          [y_train, domain_labels_combined[:len(X_train)]],\n",
        "                          epochs=1)\n",
        "\n",
        "end_time = time.time()"
      ]
    }
  ],
  "metadata": {
    "colab": {
      "provenance": []
    },
    "kernelspec": {
      "display_name": "Python 3.10.7 64-bit",
      "language": "python",
      "name": "python3"
    },
    "language_info": {
      "codemirror_mode": {
        "name": "ipython",
        "version": 3
      },
      "file_extension": ".py",
      "mimetype": "text/x-python",
      "name": "python",
      "nbconvert_exporter": "python",
      "pygments_lexer": "ipython3",
      "version": "3.10.7"
    },
    "orig_nbformat": 4,
    "vscode": {
      "interpreter": {
        "hash": "aee8b7b246df8f9039afb4144a1f6fd8d2ca17a180786b69acc140d282b71a49"
      }
    }
  },
  "nbformat": 4,
  "nbformat_minor": 0
}
