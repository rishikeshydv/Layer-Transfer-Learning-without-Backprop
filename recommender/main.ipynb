{
 "cells": [
  {
   "cell_type": "markdown",
   "metadata": {},
   "source": [
    "Here, we will be building a DANN."
   ]
  },
  {
   "cell_type": "code",
   "execution_count": 91,
   "metadata": {},
   "outputs": [],
   "source": [
    "#importing modules\n",
    "import tensorflow as tf\n",
    "from tensorflow.keras import datasets, layers, models, Model\n",
    "import time\n",
    "import matplotlib.pyplot as plt\n",
    "import numpy as np\n",
    "import keras as K\n",
    "from tensorflow import keras\n",
    "from sklearn.model_selection import train_test_split\n",
    "from keras.layers import Dense\n"
   ]
  },
  {
   "cell_type": "code",
   "execution_count": 92,
   "metadata": {},
   "outputs": [],
   "source": [
    "\n",
    "import ssl\n",
    "ssl._create_default_https_context = ssl._create_unverified_context"
   ]
  },
  {
   "cell_type": "markdown",
   "metadata": {},
   "source": [
    "Preprocessing Source Domain Datasets"
   ]
  },
  {
   "cell_type": "code",
   "execution_count": 93,
   "metadata": {},
   "outputs": [
    {
     "name": "stdout",
     "output_type": "stream",
     "text": [
      "   Unnamed: 0                                              Title  \\\n",
      "0           0  Miso-Butter Roast Chicken With Acorn Squash Pa...   \n",
      "1           1                    Crispy Salt and Pepper Potatoes   \n",
      "2           2                        Thanksgiving Mac and Cheese   \n",
      "3           3                 Italian Sausage and Bread Stuffing   \n",
      "4           4                                       Newton's Law   \n",
      "\n",
      "                                         Ingredients  \\\n",
      "0  ['1 (3½–4-lb.) whole chicken', '2¾ tsp. kosher...   \n",
      "1  ['2 large egg whites', '1 pound new potatoes (...   \n",
      "2  ['1 cup evaporated milk', '1 cup whole milk', ...   \n",
      "3  ['1 (¾- to 1-pound) round Italian loaf, cut in...   \n",
      "4  ['1 teaspoon dark brown sugar', '1 teaspoon ho...   \n",
      "\n",
      "                                        Instructions  \\\n",
      "0  Pat chicken dry with paper towels, season all ...   \n",
      "1  Preheat oven to 400°F and line a rimmed baking...   \n",
      "2  Place a rack in middle of oven; preheat to 400...   \n",
      "3  Preheat oven to 350°F with rack in middle. Gen...   \n",
      "4  Stir together brown sugar and hot water in a c...   \n",
      "\n",
      "                                          Image_Name  \\\n",
      "0  miso-butter-roast-chicken-acorn-squash-panzanella   \n",
      "1         crispy-salt-and-pepper-potatoes-dan-kluger   \n",
      "2         thanksgiving-mac-and-cheese-erick-williams   \n",
      "3          italian-sausage-and-bread-stuffing-240559   \n",
      "4                 newtons-law-apple-bourbon-cocktail   \n",
      "\n",
      "                                 Cleaned_Ingredients  \n",
      "0  ['1 (3½–4-lb.) whole chicken', '2¾ tsp. kosher...  \n",
      "1  ['2 large egg whites', '1 pound new potatoes (...  \n",
      "2  ['1 cup evaporated milk', '1 cup whole milk', ...  \n",
      "3  ['1 (¾- to 1-pound) round Italian loaf, cut in...  \n",
      "4  ['1 teaspoon dark brown sugar', '1 teaspoon ho...  \n"
     ]
    }
   ],
   "source": [
    "#looking into data and its columns\n",
    "import pandas as pd\n",
    "\n",
    "# Replace 'your_file_path.csv' with the actual path to your CSV file\n",
    "file_path = 'datasets/source/kaggle_food.csv'\n",
    "\n",
    "# Read the CSV file into a Pandas DataFrame\n",
    "df = pd.read_csv(file_path)\n",
    "\n",
    "# Display the first few rows of the DataFrame to check the data\n",
    "print(df.head())\n"
   ]
  },
  {
   "cell_type": "code",
   "execution_count": 94,
   "metadata": {},
   "outputs": [],
   "source": [
    "#here we will only be using 'Title' and 'Ingredients' for our purpose\n",
    "#so we will be dropping the remaining columns\n",
    "df = df.drop(columns=['Unnamed: 0', 'Ingredients', 'Image_Name',\n",
    "       'Cleaned_Ingredients'])"
   ]
  },
  {
   "cell_type": "code",
   "execution_count": 95,
   "metadata": {},
   "outputs": [],
   "source": [
    "#here we are creating a fake labels for temporary test\n",
    "#1/3 part of the labels to 'appetizers'. another 1/3 part to 'dinner' and the last 1/3 part to 'desserts'\n",
    "\n",
    "total_size = len(df)\n",
    "category_size = total_size // 3\n",
    "\n",
    "df.loc[:category_size - 1, 'Title'] = 'Appetizers'\n",
    "df.loc[category_size:2*category_size - 1, 'Title'] = 'Dinner'\n",
    "df.loc[2*category_size:total_size - 1, 'Title'] = 'Desserts'"
   ]
  },
  {
   "cell_type": "code",
   "execution_count": 96,
   "metadata": {},
   "outputs": [],
   "source": [
    "#shuffling the dataframe\n",
    "df = df.sample(frac=1, random_state=42)\n",
    "\n",
    "# Assuming df['Instructions'] is your text data\n",
    "df['Instructions'].fillna('', inplace=True)  # Replace NaN values with an empty string\n"
   ]
  },
  {
   "cell_type": "code",
   "execution_count": 97,
   "metadata": {},
   "outputs": [],
   "source": [
    "from sklearn.preprocessing import LabelEncoder\n",
    "from keras.preprocessing.text import Tokenizer\n",
    "from keras.preprocessing.sequence import pad_sequences\n",
    "from keras.utils import to_categorical\n",
    "\n",
    "#defining the parameters\n",
    "num_classes = 1\n",
    "embedding_dim = 100\n",
    "\n",
    "# Assuming df['Instructions'] is your text data, we  tokenize the input dataset into tokens for the CNN model\n",
    "#Tokenizer Initialization and Fitting:\n",
    "tokenizer = Tokenizer()\n",
    "tokenizer.fit_on_texts(df['Instructions'])\n",
    "\n",
    "#Vocabulary Size and Maximum Sequence Length Calculation:\n",
    "vocab_size = len(tokenizer.word_index) + 1\n",
    "max_sequence_length = max(df['Instructions'].apply(lambda x: len(x.split())))\n",
    "\n",
    "#Texts to Sequences:\n",
    "sequences = tokenizer.texts_to_sequences(df['Instructions'])\n",
    "\n",
    "#Padding Sequences\n",
    "data = pad_sequences(sequences, maxlen=max_sequence_length)\n"
   ]
  },
  {
   "cell_type": "code",
   "execution_count": 98,
   "metadata": {},
   "outputs": [],
   "source": [
    "# Assuming 'text' is your input data and 'label' is your target variable\n",
    "X = data   #data\n",
    "y = df['Title'].values           #labels \n",
    "\n",
    "# Convert labels to numerical format using LabelEncoder\n",
    "label_encoder = LabelEncoder()\n",
    "y = label_encoder.fit_transform(y)\n",
    "\n",
    "# Split the data into training and testing sets\n",
    "X_train_source, X_test_source, y_train_source, y_test_source = train_test_split(X, y, test_size=0.2, random_state=42)\n"
   ]
  },
  {
   "cell_type": "markdown",
   "metadata": {},
   "source": [
    "Preprocessing Target Domain Dataset"
   ]
  },
  {
   "cell_type": "code",
   "execution_count": 99,
   "metadata": {},
   "outputs": [
    {
     "name": "stdout",
     "output_type": "stream",
     "text": [
      "             q                         queryTime  rank  \\\n",
      "0  dish recipe  2019-03-30 02:55:42.169989+00:00     1   \n",
      "1  dish recipe  2019-03-30 02:55:42.169989+00:00     2   \n",
      "2  dish recipe  2019-03-30 02:55:42.169989+00:00     3   \n",
      "3  dish recipe  2019-03-30 02:55:42.169989+00:00     4   \n",
      "4  dish recipe  2019-03-30 02:55:42.169989+00:00     5   \n",
      "\n",
      "                                               title  \\\n",
      "0                             7 Easy Chicken Dinners   \n",
      "1  KING of VEGETABLE Recipe | SAMBAR Recipe with ...   \n",
      "2  ALOO Manchurian Recipe How to make aloo manchu...   \n",
      "3  सूजी का इतना टेस्टी और आसान नाश्ता की आप रोज़ ...   \n",
      "4  5 मिनट में बनाये कुरकुरे आलू स्नैक्स | Aloo Sn...   \n",
      "\n",
      "                                         description  \\\n",
      "0  Customize & buy the Tasty Cookbook here: http:...   \n",
      "1  Today we cooking one of the most popular veg r...   \n",
      "2  ldli Manchurian Recipe https://youtu.be/wx7Mx9...   \n",
      "3  Hello Friend's ….Aaj Main Aapko Quick & Easy B...   \n",
      "4  If you liked the video give it a thumbs up :) ...   \n",
      "\n",
      "                publishedAt             channelTitle  totalResults  \\\n",
      "0  2016-12-04T00:00:02.000Z                    Tasty       1000000   \n",
      "1  2019-03-26T15:50:35.000Z  Village Cooking Channel       1000000   \n",
      "2  2018-07-03T08:47:49.000Z          Foodies Hub CBR       1000000   \n",
      "3  2018-05-26T06:26:01.000Z         hemanshi's world       1000000   \n",
      "4  2017-05-23T15:20:50.000Z           Easy Home Tips       1000000   \n",
      "\n",
      "            kind                 channelId  ...  \\\n",
      "0  youtube#video  UCJFp8uSYCjXOMnkUyb3CQ3Q  ...   \n",
      "1  youtube#video  UCk3JZr7eS3pg5AGEvBdEvFg  ...   \n",
      "2  youtube#video  UCvO0ndRuwO8Prftc8rUCWIg  ...   \n",
      "3  youtube#video  UChDCj6lUL8qlZCdDeflNAwQ  ...   \n",
      "4  youtube#video  UCaKt8dvEIPnEHWSbLYhzrxg  ...   \n",
      "\n",
      "                                   channel.localized  \\\n",
      "0  {'title': 'Tasty', 'description': 'Food that\\'...   \n",
      "1  {'title': 'Village Cooking Channel', 'descript...   \n",
      "2  {'title': 'Foodies Hub CBR', 'description': 'H...   \n",
      "3  {'title': \"hemanshi's world\", 'description': '...   \n",
      "4  {'title': 'Easy Home Tips', 'description': 'We...   \n",
      "\n",
      "        channel.publishedAt  \\\n",
      "0  2016-01-22T23:05:31.000Z   \n",
      "1  2018-04-25T16:38:11.000Z   \n",
      "2  2016-10-03T02:55:57.000Z   \n",
      "3  2015-05-28T09:20:16.000Z   \n",
      "4  2016-09-13T07:44:33.000Z   \n",
      "\n",
      "                                  channel.thumbnails            channel.title  \\\n",
      "0  {'default': {'url': 'https://yt3.ggpht.com/a-/...                    Tasty   \n",
      "1  {'default': {'url': 'https://yt3.ggpht.com/a-/...  Village Cooking Channel   \n",
      "2  {'default': {'url': 'https://yt3.ggpht.com/a-/...          Foodies Hub CBR   \n",
      "3  {'default': {'url': 'https://yt3.ggpht.com/a-/...         hemanshi's world   \n",
      "4  {'default': {'url': 'https://yt3.ggpht.com/a-/...           Easy Home Tips   \n",
      "\n",
      "  channel.commentCount  channel.hiddenSubscriberCount channel.subscriberCount  \\\n",
      "0                    0                          False                13574044   \n",
      "1                    0                          False                  428301   \n",
      "2                    0                          False                  208140   \n",
      "3                    0                          False                  647768   \n",
      "4                    0                          False                 1783688   \n",
      "\n",
      "   channel.videoCount channel.viewCount  \\\n",
      "0                2832        2566200434   \n",
      "1                  73          51403646   \n",
      "2                 281          17710976   \n",
      "3                 504          52020675   \n",
      "4                 450         214856790   \n",
      "\n",
      "                            channel.relatedPlaylists  \n",
      "0  {'likes': 'LLJFp8uSYCjXOMnkUyb3CQ3Q', 'uploads...  \n",
      "1  {'uploads': 'UUk3JZr7eS3pg5AGEvBdEvFg', 'watch...  \n",
      "2  {'uploads': 'UUvO0ndRuwO8Prftc8rUCWIg', 'watch...  \n",
      "3  {'uploads': 'UUhDCj6lUL8qlZCdDeflNAwQ', 'watch...  \n",
      "4  {'uploads': 'UUaKt8dvEIPnEHWSbLYhzrxg', 'watch...  \n",
      "\n",
      "[5 rows x 90 columns]\n"
     ]
    }
   ],
   "source": [
    "# Replace 'your_file_path.csv' with the actual path to your CSV file\n",
    "file_path = 'datasets/target/recipes_serp_youtube_data.csv'\n",
    "\n",
    "# Read the CSV file into a Pandas DataFrame\n",
    "df = pd.read_csv(file_path)\n",
    "\n",
    "# Display the first few rows of the DataFrame to check the data\n",
    "print(df.head())"
   ]
  },
  {
   "cell_type": "code",
   "execution_count": 100,
   "metadata": {},
   "outputs": [
    {
     "data": {
      "text/plain": [
       "Index(['q', 'queryTime', 'rank', 'title', 'description', 'publishedAt',\n",
       "       'channelTitle', 'totalResults', 'kind', 'channelId', 'default.height',\n",
       "       'default.url', 'default.width', 'high.height', 'high.url', 'high.width',\n",
       "       'liveBroadcastContent', 'medium.height', 'medium.url', 'medium.width',\n",
       "       'nextPageToken', 'playlistId', 'resultsPerPage', 'thumbnails',\n",
       "       'videoId', 'video.contentDetails', 'video.etag', 'video.id',\n",
       "       'video.kind', 'video.localizations', 'video.player',\n",
       "       'video.recordingDetails', 'video.snippet', 'video.statistics',\n",
       "       'video.status', 'video.topicDetails', 'video.categoryId',\n",
       "       'video.channelId', 'video.channelTitle', 'video.defaultAudioLanguage',\n",
       "       'video.defaultLanguage', 'video.description',\n",
       "       'video.liveBroadcastContent', 'video.localized', 'video.publishedAt',\n",
       "       'video.tags', 'video.thumbnails', 'video.title',\n",
       "       'video.relevantTopicIds', 'video.topicCategories', 'video.topicIds',\n",
       "       'video.commentCount', 'video.dislikeCount', 'video.favoriteCount',\n",
       "       'video.likeCount', 'video.viewCount', 'video.embeddable',\n",
       "       'video.license', 'video.privacyStatus', 'video.publicStatsViewable',\n",
       "       'video.uploadStatus', 'video.caption', 'video.definition',\n",
       "       'video.dimension', 'video.duration', 'video.licensedContent',\n",
       "       'video.projection', 'video.regionRestriction',\n",
       "       'video.liveStreamingDetails', 'video.contentRating',\n",
       "       'channel.contentDetails', 'channel.etag', 'channel.id', 'channel.kind',\n",
       "       'channel.snippet', 'channel.statistics', 'channel.country',\n",
       "       'channel.customUrl', 'channel.defaultLanguage', 'channel.description',\n",
       "       'channel.localized', 'channel.publishedAt', 'channel.thumbnails',\n",
       "       'channel.title', 'channel.commentCount',\n",
       "       'channel.hiddenSubscriberCount', 'channel.subscriberCount',\n",
       "       'channel.videoCount', 'channel.viewCount', 'channel.relatedPlaylists'],\n",
       "      dtype='object')"
      ]
     },
     "execution_count": 100,
     "metadata": {},
     "output_type": "execute_result"
    }
   ],
   "source": [
    "df.columns"
   ]
  },
  {
   "cell_type": "code",
   "execution_count": 101,
   "metadata": {},
   "outputs": [],
   "source": [
    "#here we will only be using 'title' and 'description' for our purpose\n",
    "#so we will be dropping the remaining columns\n",
    "df = df.drop(columns=['q', 'queryTime', 'rank', 'publishedAt', 'channelTitle', 'totalResults', 'kind', 'channelId', 'default.height', 'default.url', 'default.width', 'high.height', 'high.url', 'high.width', 'liveBroadcastContent', 'medium.height', 'medium.url', 'medium.width', 'nextPageToken', 'playlistId', 'resultsPerPage', 'thumbnails', 'videoId', 'video.contentDetails', 'video.etag', 'video.id', 'video.kind', 'video.localizations', 'video.player', 'video.recordingDetails', 'video.snippet', 'video.statistics', 'video.status', 'video.topicDetails', 'video.categoryId', 'video.channelId', 'video.channelTitle', 'video.defaultAudioLanguage', 'video.defaultLanguage', 'video.description', 'video.liveBroadcastContent', 'video.localized', 'video.publishedAt','video.tags', 'video.thumbnails', 'video.title', 'video.relevantTopicIds', 'video.topicCategories', 'video.topicIds', 'video.commentCount', 'video.dislikeCount', 'video.favoriteCount', 'video.likeCount', 'video.viewCount', 'video.embeddable', 'video.license', 'video.privacyStatus', 'video.publicStatsViewable', 'video.uploadStatus', 'video.caption', 'video.definition', 'video.dimension', 'video.duration', 'video.licensedContent', 'video.projection', 'video.regionRestriction', 'video.liveStreamingDetails', 'video.contentRating', 'channel.contentDetails', 'channel.etag', 'channel.id', 'channel.kind', 'channel.snippet', 'channel.statistics', 'channel.country', 'channel.customUrl', 'channel.defaultLanguage', 'channel.description', 'channel.localized', 'channel.publishedAt', 'channel.thumbnails', 'channel.title', 'channel.commentCount', 'channel.hiddenSubscriberCount', 'channel.subscriberCount', 'channel.videoCount', 'channel.viewCount', 'channel.relatedPlaylists'])"
   ]
  },
  {
   "cell_type": "code",
   "execution_count": 102,
   "metadata": {},
   "outputs": [
    {
     "data": {
      "text/plain": [
       "Index(['title', 'description'], dtype='object')"
      ]
     },
     "execution_count": 102,
     "metadata": {},
     "output_type": "execute_result"
    }
   ],
   "source": [
    "df.columns"
   ]
  },
  {
   "cell_type": "code",
   "execution_count": 103,
   "metadata": {},
   "outputs": [],
   "source": [
    "# Assuming df['Instructions'] is your text data\n",
    "df['description'].fillna('', inplace=True)  # Replace NaN values with an empty string\n"
   ]
  },
  {
   "cell_type": "code",
   "execution_count": 104,
   "metadata": {},
   "outputs": [],
   "source": [
    "from sklearn.preprocessing import LabelEncoder\n",
    "from keras.preprocessing.text import Tokenizer\n",
    "from keras.preprocessing.sequence import pad_sequences\n",
    "from keras.utils import to_categorical\n",
    "\n",
    "#defining the parameters\n",
    "num_classes = 1\n",
    "embedding_dim = 100\n",
    "\n",
    "# Assuming df['Instructions'] is your text data, we  tokenize the input dataset into tokens for the CNN model\n",
    "#Tokenizer Initialization and Fitting:\n",
    "tokenizer = Tokenizer()\n",
    "tokenizer.fit_on_texts(df['description'])\n",
    "\n",
    "#Vocabulary Size and Maximum Sequence Length Calculation:\n",
    "vocab_size = len(tokenizer.word_index) + 1\n",
    "max_sequence_length = max(df['description'].apply(lambda x: len(x.split())))\n",
    "\n",
    "#Texts to Sequences:\n",
    "sequences = tokenizer.texts_to_sequences(df['description'])\n",
    "\n",
    "#Padding Sequences\n",
    "data = pad_sequences(sequences, maxlen=max_sequence_length)\n"
   ]
  },
  {
   "cell_type": "code",
   "execution_count": 105,
   "metadata": {},
   "outputs": [],
   "source": [
    "\n",
    "# Assuming 'text' is your input data and 'label' is your target variable\n",
    "X = data   #data\n",
    "y = df['title'].values           #labels \n",
    "\n",
    "# Convert labels to numerical format using LabelEncoder\n",
    "label_encoder = LabelEncoder()\n",
    "y = label_encoder.fit_transform(y)\n",
    "\n",
    "# Split the data into training and testing sets\n",
    "X_train_target, X_test_target, y_train_target, y_test_target = train_test_split(X, y, test_size=0.2, random_state=42)\n"
   ]
  },
  {
   "cell_type": "code",
   "execution_count": 106,
   "metadata": {},
   "outputs": [],
   "source": [
    "# Prepare domain labels\n",
    "domain_label_source = np.zeros((X_train_source.shape[0], 1))  # Source domain label is 0\n",
    "domain_label_target = np.ones((X_train_target.shape[0], 1))   # Target domain label is 1"
   ]
  },
  {
   "cell_type": "code",
   "execution_count": 107,
   "metadata": {},
   "outputs": [
    {
     "ename": "ValueError",
     "evalue": "all the input array dimensions for the concatenation axis must match exactly, but along dimension 1, the array at index 0 has size 2587 and the array at index 1 has size 49",
     "output_type": "error",
     "traceback": [
      "\u001b[0;31m---------------------------------------------------------------------------\u001b[0m",
      "\u001b[0;31mValueError\u001b[0m                                Traceback (most recent call last)",
      "Cell \u001b[0;32mIn[107], line 2\u001b[0m\n\u001b[1;32m      1\u001b[0m \u001b[38;5;66;03m# Concatenate source and target data\u001b[39;00m\n\u001b[0;32m----> 2\u001b[0m X_combined \u001b[38;5;241m=\u001b[39m \u001b[43mnp\u001b[49m\u001b[38;5;241;43m.\u001b[39;49m\u001b[43mconcatenate\u001b[49m\u001b[43m(\u001b[49m\u001b[43m[\u001b[49m\u001b[43mX_train_source\u001b[49m\u001b[43m,\u001b[49m\u001b[43m \u001b[49m\u001b[43mX_train_target\u001b[49m\u001b[43m]\u001b[49m\u001b[43m,\u001b[49m\u001b[43m \u001b[49m\u001b[43maxis\u001b[49m\u001b[38;5;241;43m=\u001b[39;49m\u001b[38;5;241;43m0\u001b[39;49m\u001b[43m)\u001b[49m\n\u001b[1;32m      3\u001b[0m y_combined \u001b[38;5;241m=\u001b[39m np\u001b[38;5;241m.\u001b[39mconcatenate([y_train_source, np\u001b[38;5;241m.\u001b[39mzeros((y_train_source\u001b[38;5;241m.\u001b[39mshape))], axis\u001b[38;5;241m=\u001b[39m\u001b[38;5;241m0\u001b[39m) \u001b[38;5;66;03m# Labels for target domain can be ignored\u001b[39;00m\n\u001b[1;32m      4\u001b[0m domain_labels_combined \u001b[38;5;241m=\u001b[39m np\u001b[38;5;241m.\u001b[39mvstack((domain_label_source, domain_label_target))\n",
      "File \u001b[0;32m<__array_function__ internals>:180\u001b[0m, in \u001b[0;36mconcatenate\u001b[0;34m(*args, **kwargs)\u001b[0m\n",
      "\u001b[0;31mValueError\u001b[0m: all the input array dimensions for the concatenation axis must match exactly, but along dimension 1, the array at index 0 has size 2587 and the array at index 1 has size 49"
     ]
    }
   ],
   "source": [
    "# Concatenate source and target data\n",
    "X_combined = np.concatenate([X_train_source, X_train_target], axis=0)\n",
    "y_combined = np.concatenate([y_train_source, np.zeros((y_train_source.shape))], axis=0) # Labels for target domain can be ignored\n",
    "domain_labels_combined = np.vstack((domain_label_source, domain_label_target))"
   ]
  },
  {
   "cell_type": "code",
   "execution_count": null,
   "metadata": {},
   "outputs": [],
   "source": [
    "# Define the Feature Extractor\n",
    "def build_feature_extractor(vocab_size,embedding_dim,max_sequence_length):\n",
    "    model = models.Sequential([\n",
    "        layers.Embedding(input_dim=vocab_size, output_dim=embedding_dim, input_length=max_sequence_length),\n",
    "        layers.Conv1D(filters=128, kernel_size=5, activation='relu'),\n",
    "        layers.GlobalMaxPooling1D()\n",
    "    ])\n",
    "    return model"
   ]
  },
  {
   "cell_type": "code",
   "execution_count": null,
   "metadata": {},
   "outputs": [],
   "source": [
    "# Define the Label Predictor\n",
    "def build_label_predictor(num_classes):\n",
    "    model = models.Sequential([\n",
    "        Dense(units=num_classes, activation='softmax',name='output')\n",
    "    ])\n",
    "    return model"
   ]
  },
  {
   "cell_type": "code",
   "execution_count": null,
   "metadata": {},
   "outputs": [],
   "source": [
    "# Define the Domain Predictor\n",
    "def build_domain_predictor():\n",
    "    model = models.Sequential([\n",
    "        layers.Dense(64,activation='relu',name='dense_1'),\n",
    "        layers.Dense(1,activation='sigmoid',name='dense_2')\n",
    "    ])\n",
    "    return model"
   ]
  },
  {
   "cell_type": "code",
   "execution_count": null,
   "metadata": {},
   "outputs": [],
   "source": [
    "# Build the complete DANN model\n",
    "def build_dann(vocab_size,embedding_dim,max_sequence_length, num_classes):\n",
    "    feature_extractor = build_feature_extractor(vocab_size,embedding_dim,max_sequence_length)\n",
    "    label_predictor = build_label_predictor(num_classes)\n",
    "    domain_predictor = build_domain_predictor()\n",
    "\n",
    "    # Define inputs\n",
    "    input_data = layers.Input(shape=(max_sequence_length,))\n",
    "    label = layers.Input(shape=(num_classes,))\n",
    "    domain_label = layers.Input(shape=(1,))\n",
    "    \n",
    "    # Feature extractor output\n",
    "    feature_output = feature_extractor(input_data)\n",
    "    \n",
    "    # Label prediction branch\n",
    "    label_output = label_predictor(feature_output)\n",
    "    \n",
    "    # Domain prediction branch\n",
    "    domain_output = domain_predictor(feature_output)\n",
    "    \n",
    "    dann_model = models.Model(inputs=[input_data, label, domain_label], \n",
    "                              outputs=[label_output, domain_output])\n",
    "    \n",
    "    return dann_model"
   ]
  },
  {
   "cell_type": "code",
   "execution_count": null,
   "metadata": {},
   "outputs": [],
   "source": [
    "# Define loss functions\n",
    "def label_loss(y_true, y_pred):\n",
    "    return tf.keras.losses.categorical_crossentropy(y_true, y_pred)\n",
    "\n",
    "def domain_loss(y_true, y_pred):\n",
    "    return tf.keras.losses.binary_crossentropy(y_true, y_pred)"
   ]
  },
  {
   "cell_type": "code",
   "execution_count": null,
   "metadata": {},
   "outputs": [],
   "source": [
    "# Build and compile the DANN model\n",
    "dann_model = build_dann(vocab_size,embedding_dim,max_sequence_length, num_classes)\n",
    "\n",
    "dann_model.compile(optimizer='Adam',\n",
    "                   loss=[label_loss, domain_loss],\n",
    "                   loss_weights=[1.0,0.1])"
   ]
  },
  {
   "cell_type": "code",
   "execution_count": null,
   "metadata": {},
   "outputs": [
    {
     "ename": "NameError",
     "evalue": "name 'x_combined' is not defined",
     "output_type": "error",
     "traceback": [
      "\u001b[0;31m---------------------------------------------------------------------------\u001b[0m",
      "\u001b[0;31mNameError\u001b[0m                                 Traceback (most recent call last)",
      "Cell \u001b[0;32mIn[80], line 5\u001b[0m\n\u001b[1;32m      1\u001b[0m \u001b[38;5;66;03m# Train the DANN\u001b[39;00m\n\u001b[1;32m      3\u001b[0m start_time \u001b[38;5;241m=\u001b[39m time\u001b[38;5;241m.\u001b[39mtime()\n\u001b[0;32m----> 5\u001b[0m dann_model\u001b[38;5;241m.\u001b[39mfit([\u001b[43mx_combined\u001b[49m,y_combined,domain_labels_combined], \n\u001b[1;32m      6\u001b[0m                [x_combined,y_combined], \n\u001b[1;32m      7\u001b[0m                epochs\u001b[38;5;241m=\u001b[39m\u001b[38;5;241m1\u001b[39m)\n\u001b[1;32m      9\u001b[0m end_time \u001b[38;5;241m=\u001b[39m time\u001b[38;5;241m.\u001b[39mtime()\n",
      "\u001b[0;31mNameError\u001b[0m: name 'x_combined' is not defined"
     ]
    }
   ],
   "source": [
    "# Train the DANN\n",
    "\n",
    "start_time = time.time()\n",
    "\n",
    "dann_model.fit([x_combined,y_combined,domain_labels_combined], \n",
    "               [x_combined,y_combined], \n",
    "               epochs=1)\n",
    "\n",
    "end_time = time.time()"
   ]
  }
 ],
 "metadata": {
  "language_info": {
   "name": "python"
  },
  "orig_nbformat": 4
 },
 "nbformat": 4,
 "nbformat_minor": 2
}
