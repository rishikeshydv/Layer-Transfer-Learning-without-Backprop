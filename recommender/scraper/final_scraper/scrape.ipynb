{
 "cells": [
  {
   "cell_type": "code",
   "execution_count": 18,
   "metadata": {},
   "outputs": [],
   "source": [
    "# importing packages\n",
    "import requests\n",
    "import pytz\n",
    "from bs4 import BeautifulSoup\n",
    "import datetime\n",
    "import csv\n",
    "\n",
    "#imports for topicSpaceCreator\n",
    "from sklearn.preprocessing import LabelEncoder\n",
    "from keras.preprocessing.text import Tokenizer\n",
    "from keras.preprocessing.sequence import pad_sequences\n",
    "from keras.utils import to_categorical\n",
    "from nltk import pos_tag, word_tokenize\n",
    "import nltk\n",
    "import pandas as pd"
   ]
  },
  {
   "cell_type": "code",
   "execution_count": 2,
   "metadata": {},
   "outputs": [],
   "source": [
    "class individual_stock:\n",
    "\n",
    "    global soup\n",
    "\n",
    "    r = requests.get('https://www.allrecipes.com/gallery/top-new-recipes-2022/')\n",
    "    html = r.content \n",
    "    soup = BeautifulSoup(html,'html.parser')\n",
    "\n",
    "    def __init__(self):\n",
    "        self.p=None\n",
    "\n",
    "    def topicSpaceCreator(self,scrapedRecipe):\n",
    "        nltk.download('averaged_perceptron_tagger')\n",
    "        scrapedRecipeSeries = pd.Series([scrapedRecipe])\n",
    "        topicSpace = scrapedRecipeSeries.apply(lambda x: str([word for word, pos in pos_tag(word_tokenize(x)) if pos.startswith('N')]))\n",
    "        return topicSpace\n",
    "\n",
    "    def recipe(self):\n",
    "        for w in soup.find_all('p', {'class': 'comp mntl-sc-block mntl-sc-block-html'})[:]:\n",
    "            model_input = self.topicSpaceCreator(w.text)\n",
    "                        \n",
    "        return model_input"
   ]
  }
 ],
 "metadata": {
  "kernelspec": {
   "display_name": "Python 3.10.7 64-bit",
   "language": "python",
   "name": "python3"
  },
  "language_info": {
   "codemirror_mode": {
    "name": "ipython",
    "version": 3
   },
   "file_extension": ".py",
   "mimetype": "text/x-python",
   "name": "python",
   "nbconvert_exporter": "python",
   "pygments_lexer": "ipython3",
   "version": "3.10.7"
  },
  "orig_nbformat": 4,
  "vscode": {
   "interpreter": {
    "hash": "aee8b7b246df8f9039afb4144a1f6fd8d2ca17a180786b69acc140d282b71a49"
   }
  }
 },
 "nbformat": 4,
 "nbformat_minor": 2
}
