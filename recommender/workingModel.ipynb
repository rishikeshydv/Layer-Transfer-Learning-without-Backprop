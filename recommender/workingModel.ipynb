{
  "cells": [
    {
      "cell_type": "markdown",
      "metadata": {
        "id": "_6tWtC7vp5ql"
      },
      "source": [
        "Here, we will be building a DANN."
      ]
    },
    {
      "cell_type": "code",
      "execution_count": 100,
      "metadata": {
        "id": "3-Jq4yTzp5qm"
      },
      "outputs": [],
      "source": [
        "#importing modules\n",
        "import tensorflow as tf\n",
        "from tensorflow.keras import datasets, layers, models, Model\n",
        "import time\n",
        "import matplotlib.pyplot as plt\n",
        "import numpy as np\n",
        "import keras as K\n",
        "from tensorflow import keras\n",
        "from sklearn.model_selection import train_test_split\n",
        "from keras.layers import Dense\n",
        "import pandas as pd\n",
        "\n",
        "from keras.models import Sequential\n",
        "from keras.layers import Embedding, Conv1D, GlobalMaxPooling1D, Dense\n",
        "from sklearn.preprocessing import LabelEncoder\n",
        "from keras.preprocessing.text import Tokenizer\n",
        "from keras.preprocessing.sequence import pad_sequences\n",
        "from keras.utils import to_categorical\n",
        "\n",
        "import spacy\n",
        "from sklearn.metrics.pairwise import cosine_similarity\n",
        "\n",
        "import requests\n",
        "import pytz\n",
        "from bs4 import BeautifulSoup\n",
        "import datetime\n",
        "import csv\n"
      ]
    },
    {
      "cell_type": "code",
      "execution_count": 7,
      "metadata": {
        "id": "JhxNMoPHp5qn"
      },
      "outputs": [],
      "source": [
        "\n",
        "import ssl\n",
        "ssl._create_default_https_context = ssl._create_unverified_context"
      ]
    },
    {
      "cell_type": "markdown",
      "metadata": {
        "id": "r_NPOYPvp5qn"
      },
      "source": [
        "Preprocessing Target Domain Dataset"
      ]
    },
    {
      "cell_type": "code",
      "execution_count": 80,
      "metadata": {
        "colab": {
          "base_uri": "https://localhost:8080/",
          "height": 417
        },
        "id": "sDsh3DtMp5qn",
        "outputId": "79e89759-1705-4067-a3be-6c07172e1d12"
      },
      "outputs": [
        {
          "name": "stdout",
          "output_type": "stream",
          "text": [
            "             q                         queryTime  rank  \\\n",
            "0  dish recipe  2019-03-30 02:55:42.169989+00:00     1   \n",
            "1  dish recipe  2019-03-30 02:55:42.169989+00:00     2   \n",
            "2  dish recipe  2019-03-30 02:55:42.169989+00:00     3   \n",
            "3  dish recipe  2019-03-30 02:55:42.169989+00:00     4   \n",
            "4  dish recipe  2019-03-30 02:55:42.169989+00:00     5   \n",
            "\n",
            "                                               title  \\\n",
            "0                             7 Easy Chicken Dinners   \n",
            "1  KING of VEGETABLE Recipe | SAMBAR Recipe with ...   \n",
            "2  ALOO Manchurian Recipe How to make aloo manchu...   \n",
            "3  सूजी का इतना टेस्टी और आसान नाश्ता की आप रोज़ ...   \n",
            "4  5 मिनट में बनाये कुरकुरे आलू स्नैक्स | Aloo Sn...   \n",
            "\n",
            "                                         description  \\\n",
            "0  Customize & buy the Tasty Cookbook here: http:...   \n",
            "1  Today we cooking one of the most popular veg r...   \n",
            "2  ldli Manchurian Recipe https://youtu.be/wx7Mx9...   \n",
            "3  Hello Friend's ….Aaj Main Aapko Quick & Easy B...   \n",
            "4  If you liked the video give it a thumbs up :) ...   \n",
            "\n",
            "                publishedAt             channelTitle  totalResults  \\\n",
            "0  2016-12-04T00:00:02.000Z                    Tasty       1000000   \n",
            "1  2019-03-26T15:50:35.000Z  Village Cooking Channel       1000000   \n",
            "2  2018-07-03T08:47:49.000Z          Foodies Hub CBR       1000000   \n",
            "3  2018-05-26T06:26:01.000Z         hemanshi's world       1000000   \n",
            "4  2017-05-23T15:20:50.000Z           Easy Home Tips       1000000   \n",
            "\n",
            "            kind                 channelId  ...  \\\n",
            "0  youtube#video  UCJFp8uSYCjXOMnkUyb3CQ3Q  ...   \n",
            "1  youtube#video  UCk3JZr7eS3pg5AGEvBdEvFg  ...   \n",
            "2  youtube#video  UCvO0ndRuwO8Prftc8rUCWIg  ...   \n",
            "3  youtube#video  UChDCj6lUL8qlZCdDeflNAwQ  ...   \n",
            "4  youtube#video  UCaKt8dvEIPnEHWSbLYhzrxg  ...   \n",
            "\n",
            "                                   channel.localized  \\\n",
            "0  {'title': 'Tasty', 'description': 'Food that\\'...   \n",
            "1  {'title': 'Village Cooking Channel', 'descript...   \n",
            "2  {'title': 'Foodies Hub CBR', 'description': 'H...   \n",
            "3  {'title': \"hemanshi's world\", 'description': '...   \n",
            "4  {'title': 'Easy Home Tips', 'description': 'We...   \n",
            "\n",
            "        channel.publishedAt  \\\n",
            "0  2016-01-22T23:05:31.000Z   \n",
            "1  2018-04-25T16:38:11.000Z   \n",
            "2  2016-10-03T02:55:57.000Z   \n",
            "3  2015-05-28T09:20:16.000Z   \n",
            "4  2016-09-13T07:44:33.000Z   \n",
            "\n",
            "                                  channel.thumbnails            channel.title  \\\n",
            "0  {'default': {'url': 'https://yt3.ggpht.com/a-/...                    Tasty   \n",
            "1  {'default': {'url': 'https://yt3.ggpht.com/a-/...  Village Cooking Channel   \n",
            "2  {'default': {'url': 'https://yt3.ggpht.com/a-/...          Foodies Hub CBR   \n",
            "3  {'default': {'url': 'https://yt3.ggpht.com/a-/...         hemanshi's world   \n",
            "4  {'default': {'url': 'https://yt3.ggpht.com/a-/...           Easy Home Tips   \n",
            "\n",
            "  channel.commentCount  channel.hiddenSubscriberCount channel.subscriberCount  \\\n",
            "0                    0                          False                13574044   \n",
            "1                    0                          False                  428301   \n",
            "2                    0                          False                  208140   \n",
            "3                    0                          False                  647768   \n",
            "4                    0                          False                 1783688   \n",
            "\n",
            "   channel.videoCount channel.viewCount  \\\n",
            "0                2832        2566200434   \n",
            "1                  73          51403646   \n",
            "2                 281          17710976   \n",
            "3                 504          52020675   \n",
            "4                 450         214856790   \n",
            "\n",
            "                            channel.relatedPlaylists  \n",
            "0  {'likes': 'LLJFp8uSYCjXOMnkUyb3CQ3Q', 'uploads...  \n",
            "1  {'uploads': 'UUk3JZr7eS3pg5AGEvBdEvFg', 'watch...  \n",
            "2  {'uploads': 'UUvO0ndRuwO8Prftc8rUCWIg', 'watch...  \n",
            "3  {'uploads': 'UUhDCj6lUL8qlZCdDeflNAwQ', 'watch...  \n",
            "4  {'uploads': 'UUaKt8dvEIPnEHWSbLYhzrxg', 'watch...  \n",
            "\n",
            "[5 rows x 90 columns]\n"
          ]
        }
      ],
      "source": [
        "# Replace 'your_file_path.csv' with the actual path to your CSV file\n",
        "file_path = 'datasets/target/recipes_serp_youtube_data.csv'\n",
        "\n",
        "# Read the CSV file into a Pandas DataFrame\n",
        "df_target = pd.read_csv(file_path)\n",
        "\n",
        "# Display the first few rows of the DataFrame to check the data\n",
        "print(df_target.head())"
      ]
    },
    {
      "cell_type": "code",
      "execution_count": 79,
      "metadata": {
        "id": "HPaPLFAQp5qn",
        "outputId": "ab39fe42-216d-4f02-d05c-6660e881da0c"
      },
      "outputs": [
        {
          "data": {
            "text/plain": [
              "Index(['title', 'video.tags', 'labels'], dtype='object')"
            ]
          },
          "execution_count": 79,
          "metadata": {},
          "output_type": "execute_result"
        }
      ],
      "source": [
        "df_target.columns"
      ]
    },
    {
      "cell_type": "code",
      "execution_count": 81,
      "metadata": {
        "id": "wtidfk4Qp5qo"
      },
      "outputs": [],
      "source": [
        "#here we will only be using 'title' and 'video.tags' for our purpose\n",
        "#if you want to do DANN, use 'description' column as well so that the recipe & description are relevant to have similar features\n",
        "#so we will be dropping the remaining columns\n",
        "df_target = df_target.drop(columns=['q', 'queryTime', 'description','rank', 'publishedAt', 'channelTitle', 'totalResults', 'kind', 'channelId', 'default.height', 'default.url', 'default.width', 'high.height', 'high.url', 'high.width', 'liveBroadcastContent', 'medium.height', 'medium.url', 'medium.width', 'nextPageToken', 'playlistId', 'resultsPerPage', 'thumbnails', 'videoId', 'video.contentDetails', 'video.etag', 'video.id', 'video.kind', 'video.localizations', 'video.player', 'video.recordingDetails', 'video.snippet', 'video.statistics', 'video.status', 'video.topicDetails', 'video.categoryId', 'video.channelId', 'video.channelTitle', 'video.defaultAudioLanguage', 'video.defaultLanguage', 'video.description', 'video.liveBroadcastContent', 'video.localized', 'video.publishedAt', 'video.thumbnails', 'video.title', 'video.relevantTopicIds', 'video.topicCategories', 'video.topicIds', 'video.commentCount', 'video.dislikeCount', 'video.favoriteCount', 'video.likeCount', 'video.viewCount', 'video.embeddable', 'video.license', 'video.privacyStatus', 'video.publicStatsViewable', 'video.uploadStatus', 'video.caption', 'video.definition', 'video.dimension', 'video.duration', 'video.licensedContent', 'video.projection', 'video.regionRestriction', 'video.liveStreamingDetails', 'video.contentRating', 'channel.contentDetails', 'channel.etag', 'channel.id', 'channel.kind', 'channel.snippet', 'channel.statistics', 'channel.country', 'channel.customUrl', 'channel.defaultLanguage', 'channel.description', 'channel.localized', 'channel.publishedAt', 'channel.thumbnails', 'channel.title', 'channel.commentCount', 'channel.hiddenSubscriberCount', 'channel.subscriberCount', 'channel.videoCount', 'channel.viewCount', 'channel.relatedPlaylists'])"
      ]
    },
    {
      "cell_type": "code",
      "execution_count": 82,
      "metadata": {
        "id": "wnBmYU4Up5qo",
        "outputId": "697cb4cf-293f-46ad-f3bd-806d943070f5"
      },
      "outputs": [
        {
          "data": {
            "text/plain": [
              "Index(['title', 'video.tags'], dtype='object')"
            ]
          },
          "execution_count": 82,
          "metadata": {},
          "output_type": "execute_result"
        }
      ],
      "source": [
        "df_target.columns"
      ]
    },
    {
      "cell_type": "code",
      "execution_count": 83,
      "metadata": {
        "id": "gocdtANQp5qo"
      },
      "outputs": [],
      "source": [
        "# Assuming df['video.tags'] is your text data\n",
        "df_target['video.tags'].fillna('', inplace=True)  # Replace NaN values with an empty string\n"
      ]
    },
    {
      "cell_type": "code",
      "execution_count": 53,
      "metadata": {
        "id": "vFYCQf8jp5qo",
        "outputId": "14a88f12-f3ca-456c-f7ee-a95cdea68f45"
      },
      "outputs": [
        {
          "data": {
            "text/plain": [
              "str"
            ]
          },
          "execution_count": 53,
          "metadata": {},
          "output_type": "execute_result"
        }
      ],
      "source": [
        "type(df_target['video.tags'][0])"
      ]
    },
    {
      "cell_type": "code",
      "execution_count": 54,
      "metadata": {},
      "outputs": [
        {
          "data": {
            "text/plain": [
              "<bound method NDFrame.head of                                                   title  \\\n",
              "497   Cooking &amp; Tasting Pork Belly Curry In My V...   \n",
              "1261                            How to Make a Braai Pie   \n",
              "411   Beef &amp; Guinness Stew - St. Patrick&#39;s D...   \n",
              "1046                  How to Make a Perfect Ratatouille   \n",
              "1033    How to make an Authentic bowl of VIETNAMESE PHO   \n",
              "...                                                 ...   \n",
              "1095                  Handle It - The Universal Poutine   \n",
              "1130  Super Simple Succotash -- Ridiculousy Easy &am...   \n",
              "1294  Jamaican Saltfish Fritters Recipe 2016 | Recip...   \n",
              "860   Authentic Spanish Seafood Paella Recipe - Cola...   \n",
              "1126          Ful Mudammas (Fuul) Ful Mudammas فول مدمس   \n",
              "\n",
              "                                             video.tags      labels  \n",
              "497   ['pork recipe', 'pork', 'pork belly', 'cooking...      Dinner  \n",
              "1261  ['Cooking (Interest)', 'How-to (Website Catego...    Desserts  \n",
              "411   ['Beef', 'Stew', 'Guinness', \"St. Patrick's Da...  Appetizers  \n",
              "1046  ['recipe', 'tasty', 'simple', 'easy', 'fast', ...    Desserts  \n",
              "1033  ['vietnamese pho recipe', 'how to cook vietnam...    Desserts  \n",
              "...                                                 ...         ...  \n",
              "1095  ['how to cook bacon', 'how to', 'cook bacon', ...    Desserts  \n",
              "1130  ['Chefs at Home', 'Succotash', 'Easy Side Dish...    Desserts  \n",
              "1294  ['Chef', 'Ricardo', 'Cooking', 'Caribbean', 'f...    Desserts  \n",
              "860   ['authentic', 'spanish', 'seafood', 'paella', ...      Dinner  \n",
              "1126  ['Quraac', 'Broad Beans', 'Healthy', 'وصفة', '...    Desserts  \n",
              "\n",
              "[1455 rows x 3 columns]>"
            ]
          },
          "execution_count": 54,
          "metadata": {},
          "output_type": "execute_result"
        }
      ],
      "source": [
        "df_target.head"
      ]
    },
    {
      "cell_type": "markdown",
      "metadata": {
        "id": "GKIq57pup5qp"
      },
      "source": [
        "Preprocessing the auxiliary dataset"
      ]
    },
    {
      "cell_type": "code",
      "execution_count": 60,
      "metadata": {
        "id": "t03gKsXMp5qp",
        "outputId": "cc4f2ad5-8372-4584-fc8c-ef0ae845c0a0"
      },
      "outputs": [
        {
          "name": "stdout",
          "output_type": "stream",
          "text": [
            "   Unnamed: 0                                              Title  \\\n",
            "0           0  Miso-Butter Roast Chicken With Acorn Squash Pa...   \n",
            "1           1                    Crispy Salt and Pepper Potatoes   \n",
            "2           2                        Thanksgiving Mac and Cheese   \n",
            "3           3                 Italian Sausage and Bread Stuffing   \n",
            "4           4                                       Newton's Law   \n",
            "\n",
            "                                         Ingredients  \\\n",
            "0  ['1 (3½–4-lb.) whole chicken', '2¾ tsp. kosher...   \n",
            "1  ['2 large egg whites', '1 pound new potatoes (...   \n",
            "2  ['1 cup evaporated milk', '1 cup whole milk', ...   \n",
            "3  ['1 (¾- to 1-pound) round Italian loaf, cut in...   \n",
            "4  ['1 teaspoon dark brown sugar', '1 teaspoon ho...   \n",
            "\n",
            "                                        Instructions  \\\n",
            "0  Pat chicken dry with paper towels, season all ...   \n",
            "1  Preheat oven to 400°F and line a rimmed baking...   \n",
            "2  Place a rack in middle of oven; preheat to 400...   \n",
            "3  Preheat oven to 350°F with rack in middle. Gen...   \n",
            "4  Stir together brown sugar and hot water in a c...   \n",
            "\n",
            "                                          Image_Name  \\\n",
            "0  miso-butter-roast-chicken-acorn-squash-panzanella   \n",
            "1         crispy-salt-and-pepper-potatoes-dan-kluger   \n",
            "2         thanksgiving-mac-and-cheese-erick-williams   \n",
            "3          italian-sausage-and-bread-stuffing-240559   \n",
            "4                 newtons-law-apple-bourbon-cocktail   \n",
            "\n",
            "                                 Cleaned_Ingredients  \n",
            "0  ['1 (3½–4-lb.) whole chicken', '2¾ tsp. kosher...  \n",
            "1  ['2 large egg whites', '1 pound new potatoes (...  \n",
            "2  ['1 cup evaporated milk', '1 cup whole milk', ...  \n",
            "3  ['1 (¾- to 1-pound) round Italian loaf, cut in...  \n",
            "4  ['1 teaspoon dark brown sugar', '1 teaspoon ho...  \n"
          ]
        }
      ],
      "source": [
        "# Replace 'your_file_path.csv' with the actual path to your CSV file\n",
        "file_path = 'datasets/source/kaggle_food.csv'\n",
        "\n",
        "# Read the CSV file into a Pandas DataFrame\n",
        "df_source = pd.read_csv(file_path)\n",
        "\n",
        "# Display the first few rows of the DataFrame to check the data\n",
        "print(df_source.head())\n"
      ]
    },
    {
      "cell_type": "code",
      "execution_count": 63,
      "metadata": {
        "id": "qxmMKdOFp5qp",
        "outputId": "e9f22f3d-b9a7-4edc-b731-2face7e3a2d1"
      },
      "outputs": [
        {
          "data": {
            "text/plain": [
              "Index(['Title', 'Instructions'], dtype='object')"
            ]
          },
          "execution_count": 63,
          "metadata": {},
          "output_type": "execute_result"
        }
      ],
      "source": [
        "df_source.columns"
      ]
    },
    {
      "cell_type": "code",
      "execution_count": 62,
      "metadata": {
        "id": "gnX_hMXGp5qp"
      },
      "outputs": [],
      "source": [
        "#here we will only be using 'Ingredients' for our purpose\n",
        "#so we will be dropping the remaining columns\n",
        "df_source = df_source.drop(columns=['Unnamed: 0', 'Ingredients', 'Image_Name','Cleaned_Ingredients'])"
      ]
    },
    {
      "cell_type": "code",
      "execution_count": 70,
      "metadata": {},
      "outputs": [],
      "source": [
        "# Assuming df['Instructions'] is your text data\n",
        "df_source['Instructions'].fillna('', inplace=True)  # Replace NaN values with an empty string\n",
        "\n",
        "#creating a random label for auxiliary dataset because the labels for auxiliary data doesn't matter in cross domain transfer learning using a DANN model\n",
        "#since we are just transferring the common/similar features\n",
        "for i in range(len(df_source['Title'])):\n",
        "    df_source.loc[i, 'Title'] = 'X'"
      ]
    },
    {
      "cell_type": "code",
      "execution_count": 71,
      "metadata": {},
      "outputs": [
        {
          "data": {
            "text/plain": [
              "0        X\n",
              "1        X\n",
              "2        X\n",
              "3        X\n",
              "4        X\n",
              "        ..\n",
              "13496    X\n",
              "13497    X\n",
              "13498    X\n",
              "13499    X\n",
              "13500    X\n",
              "Name: Title, Length: 13501, dtype: object"
            ]
          },
          "execution_count": 71,
          "metadata": {},
          "output_type": "execute_result"
        }
      ],
      "source": [
        "df_source['Title']"
      ]
    },
    {
      "cell_type": "markdown",
      "metadata": {},
      "source": [
        "Here, we will just be using 'Instructions' column to build a topic space"
      ]
    },
    {
      "cell_type": "code",
      "execution_count": 22,
      "metadata": {},
      "outputs": [
        {
          "name": "stderr",
          "output_type": "stream",
          "text": [
            "[nltk_data] Downloading package punkt to\n",
            "[nltk_data]     /Users/rishikeshyadav/nltk_data...\n",
            "[nltk_data]   Package punkt is already up-to-date!\n",
            "[nltk_data] Downloading package stopwords to\n",
            "[nltk_data]     /Users/rishikeshyadav/nltk_data...\n",
            "[nltk_data]   Package stopwords is already up-to-date!\n"
          ]
        }
      ],
      "source": [
        "import nltk\n",
        "from nltk.corpus import stopwords\n",
        "from nltk.tokenize import word_tokenize\n",
        "\n",
        "nltk.download('punkt')\n",
        "nltk.download('stopwords')\n",
        "\n",
        "def create_topic_space(recipe_text):\n",
        "    # Tokenize the text\n",
        "    words = word_tokenize(recipe_text.lower())  # Convert to lowercase for consistency\n",
        "\n",
        "    # Remove stopwords\n",
        "    stop_words = set(stopwords.words('english'))\n",
        "    filtered_words = [word for word in words if word.isalnum() and word not in stop_words]\n",
        "\n",
        "    # Define the number of main words to extract\n",
        "    num_main_words = 7\n",
        "\n",
        "    # Get the most common words as main words\n",
        "    word_freq = nltk.FreqDist(filtered_words)\n",
        "    main_words = [word for word, _ in word_freq.most_common(num_main_words)]\n",
        "\n",
        "    return main_words"
      ]
    },
    {
      "cell_type": "code",
      "execution_count": 72,
      "metadata": {},
      "outputs": [],
      "source": [
        "# Create topic space\n",
        "df_source['topic_space'] = None\n",
        "for i,recipe in enumerate(df_source['Instructions']):\n",
        "    topic_space = str(create_topic_space(recipe))\n",
        "    df_source['topic_space'][i] = topic_space"
      ]
    },
    {
      "cell_type": "code",
      "execution_count": 73,
      "metadata": {},
      "outputs": [],
      "source": [
        "# Assuming df['topic_space'] is your text data\n",
        "df_source['topic_space'].fillna('', inplace=True)  # Replace NaN values with an empty string"
      ]
    },
    {
      "cell_type": "code",
      "execution_count": 77,
      "metadata": {},
      "outputs": [
        {
          "data": {
            "text/plain": [
              "Index(['Title', 'topic_space'], dtype='object')"
            ]
          },
          "execution_count": 77,
          "metadata": {},
          "output_type": "execute_result"
        }
      ],
      "source": [
        "df_source.columns"
      ]
    },
    {
      "cell_type": "markdown",
      "metadata": {},
      "source": [
        "Now, we will drop instructions from df_source since 'topic-space' is all what we need"
      ]
    },
    {
      "cell_type": "code",
      "execution_count": 76,
      "metadata": {},
      "outputs": [],
      "source": [
        "df_source = df_source.drop(columns=['Instructions'])"
      ]
    },
    {
      "cell_type": "code",
      "execution_count": 78,
      "metadata": {},
      "outputs": [],
      "source": [
        "# Prepare domain labels\n",
        "domain_label_source = np.zeros((df_source['topic_space'].shape[0], 1))  # Source domain label is 0\n",
        "domain_label_target = np.ones((df_target[\"video.tags\"].shape[0], 1))   # Target domain label is 1"
      ]
    },
    {
      "cell_type": "markdown",
      "metadata": {},
      "source": [
        "Here, we will be combining two datasets for DANN. This allows the training over common features"
      ]
    },
    {
      "cell_type": "code",
      "execution_count": 84,
      "metadata": {},
      "outputs": [],
      "source": [
        "# Concatenate source and target data\n",
        "x_combined = df_target['video.tags'] + df_source['topic_space']\n",
        "y_combined = df_target['title'] + df_source['Title']\n",
        "domain_labels_combined = np.vstack((domain_label_source, domain_label_target))"
      ]
    },
    {
      "cell_type": "code",
      "execution_count": 85,
      "metadata": {},
      "outputs": [
        {
          "name": "stdout",
          "output_type": "stream",
          "text": [
            "13501\n"
          ]
        }
      ],
      "source": [
        "#examining the number of elements in x_combined and y_combined\n",
        "if len(x_combined) == len(y_combined):\n",
        "    print(len(x_combined))"
      ]
    },
    {
      "cell_type": "code",
      "execution_count": 86,
      "metadata": {},
      "outputs": [
        {
          "name": "stdout",
          "output_type": "stream",
          "text": [
            "14956\n"
          ]
        }
      ],
      "source": [
        "#determining the size of domain labels combined\n",
        "print(len(domain_labels_combined))"
      ]
    },
    {
      "cell_type": "code",
      "execution_count": 87,
      "metadata": {},
      "outputs": [
        {
          "name": "stdout",
          "output_type": "stream",
          "text": [
            "13501\n"
          ]
        }
      ],
      "source": [
        "#since the size of domain labels is more than x_combined/y_combined, we will have the domain_labels_combined of the same size\n",
        "domain_labels_combined = domain_labels_combined[:13501]\n",
        "print(len(domain_labels_combined))"
      ]
    },
    {
      "cell_type": "code",
      "execution_count": 88,
      "metadata": {},
      "outputs": [],
      "source": [
        "# Assuming x_combined is your text data\n",
        "x_combined.fillna('', inplace=True)  # Replace NaN values with an empty string\n",
        "\n",
        "# Assuming y_combined is your text data\n",
        "y_combined.fillna('', inplace=True)  # Replace NaN values with an empty string\n"
      ]
    },
    {
      "cell_type": "markdown",
      "metadata": {},
      "source": [
        "***Graph Based framework and spectral learning through eigen vectors in laplacian matrix***\n",
        "\n",
        "\n",
        "\n",
        "To implement a graph-based framework and spectral learning in your code, we'll make use of the NetworkX library for graph operations and NumPy for linear algebra operations. The approach involves constructing a graph, computing the Laplacian matrix, performing eigen decomposition, and utilizing the eigenvectors for feature representation."
      ]
    },
    {
      "cell_type": "markdown",
      "metadata": {},
      "source": [
        "\n",
        "Jaccard similarity is a measure of similarity between two sets. It is defined as the size of the intersection of the sets divided by the size of the union of the sets. The Jaccard similarity ranges from 0 to 1, where 0 indicates no similarity (no common elements) and 1 indicates complete similarity (all elements are common). "
      ]
    },
    {
      "cell_type": "code",
      "execution_count": 89,
      "metadata": {},
      "outputs": [],
      "source": [
        "import networkx as nx\n",
        "from scipy.linalg import fractional_matrix_power\n",
        "\n",
        "\n",
        "# Constructing a Graph-Based Framework\n",
        "corpus = x_combined.apply(lambda x: set(x.split()))  # Convert each tag set to a set\n",
        "\n",
        "# Build graph from corpus using Jaccard similarity\n",
        "G = nx.Graph()\n",
        "for i, tags_i in enumerate(corpus):\n",
        "    G.add_node(i, tags=tags_i)  # Node represents a video with its tags\n",
        "    for j, tags_j in enumerate(corpus):\n",
        "        if i != j:\n",
        "            intersection_size = len(tags_i.intersection(tags_j))\n",
        "            union_size = len(tags_i.union(tags_j))\n",
        "            if union_size > 0:\n",
        "                jaccard_similarity = intersection_size / union_size\n",
        "                if jaccard_similarity > 0.2:  # Adjust the threshold as needed\n",
        "                    G.add_edge(i, j, weight=jaccard_similarity)"
      ]
    },
    {
      "cell_type": "markdown",
      "metadata": {},
      "source": [
        "Here, we will be plotting the graph"
      ]
    },
    {
      "cell_type": "code",
      "execution_count": 90,
      "metadata": {},
      "outputs": [
        {
          "data": {
            "image/png": "[encoded data removed]",
            "text/plain": [
              "<Figure size 640x480 with 1 Axes>"
            ]
          },
          "metadata": {},
          "output_type": "display_data"
        }
      ],
      "source": [
        "pos = nx.spring_layout(G)  # Positioning nodes using spring layout algorithm\n",
        "\n",
        "# Plotting nodes\n",
        "nx.draw_networkx_nodes(G, pos, node_color='skyblue', node_size=50)\n",
        "\n",
        "# Plotting edges\n",
        "nx.draw_networkx_edges(G, pos, edge_color='gray', alpha=0.5)\n",
        "\n",
        "# Displaying labels (optional)\n",
        "nx.draw_networkx_labels(G, pos, font_size=8, font_color='black')\n",
        "\n",
        "# Display the plot\n",
        "plt.title(\"Graph Visualization\")\n",
        "plt.show()\n"
      ]
    },
    {
      "cell_type": "code",
      "execution_count": 91,
      "metadata": {},
      "outputs": [],
      "source": [
        "# Laplacian matrix\n",
        "L = nx.laplacian_matrix(G).toarray()\n",
        "\n",
        "# Spectral Learning and Eigen Feature Representations\n",
        "\n",
        "# Eigen decomposition\n",
        "eigenvalues, eigenvectors = np.linalg.eigh(L)\n",
        "\n",
        "# Sort eigenvalues and corresponding eigenvectors\n",
        "sorted_indices = np.argsort(eigenvalues)\n",
        "eigenvalues = eigenvalues[sorted_indices]\n",
        "eigenvectors = eigenvectors[:, sorted_indices]\n",
        "\n",
        "# Select dominant eigenvectors (adjust the number as needed)\n",
        "global num_eigenvectors\n",
        "num_eigenvectors = 10\n",
        "dominant_eigenvectors = eigenvectors[:, :num_eigenvectors]\n",
        "\n",
        "# Eigen Feature Representations\n",
        "global eigen_feature_representations\n",
        "eigen_feature_representations =fractional_matrix_power(L, -0.5) @ dominant_eigenvectors\n",
        "\n"
      ]
    },
    {
      "cell_type": "markdown",
      "metadata": {},
      "source": [
        "Here, we will be tokenizing the sentences."
      ]
    },
    {
      "cell_type": "code",
      "execution_count": 35,
      "metadata": {},
      "outputs": [],
      "source": [
        "from sklearn.preprocessing import LabelEncoder\n",
        "from keras.preprocessing.text import Tokenizer\n",
        "from keras.preprocessing.sequence import pad_sequences\n",
        "from keras.utils import to_categorical\n",
        "\n",
        "#defining the parameters\n",
        "num_classes = 3\n",
        "embedding_dim = 100\n",
        "num_domains = 2  # Number of domains for domain prediction\n",
        "\n",
        "# Assuming df['video.tags'] is your text data, we  tokenize the input dataset into tokens for the CNN model\n",
        "#Tokenizer Initialization and Fitting:\n",
        "tokenizer = Tokenizer()\n",
        "tokenizer.fit_on_texts(x_combined)\n",
        "\n",
        "#Vocabulary Size and Maximum Sequence Length Calculation:\n",
        "vocab_size = len(tokenizer.word_index) + 1\n",
        "max_sequence_length = max(x_combined.apply(lambda x: len(x.split())))\n",
        "\n",
        "#Texts to Sequences:\n",
        "sequences = tokenizer.texts_to_sequences(x_combined)\n",
        "\n",
        "#Padding Sequences\n",
        "data = pad_sequences(sequences, maxlen=max_sequence_length)\n"
      ]
    },
    {
      "cell_type": "code",
      "execution_count": 36,
      "metadata": {
        "id": "FeWyjw7Np5qp"
      },
      "outputs": [],
      "source": [
        "\n",
        "# Assuming 'text' is your input data and 'label' is your target variable\n",
        "X = data   #data\n",
        "y = y_combined.values           #labels\n",
        "\n",
        "# Convert labels to numerical format using LabelEncoder\n",
        "label_encoder = LabelEncoder()\n",
        "y = label_encoder.fit_transform(y)\n",
        "\n",
        "# Split the data into training and testing sets\n",
        "X_train, X_test, y_train, y_test = train_test_split(X, y, test_size=0.2, random_state=42)"
      ]
    },
    {
      "cell_type": "code",
      "execution_count": 37,
      "metadata": {},
      "outputs": [
        {
          "name": "stdout",
          "output_type": "stream",
          "text": [
            "10800\n"
          ]
        }
      ],
      "source": [
        "if len(X_train) == len(y_train):\n",
        "    print(len(X_train))\n"
      ]
    },
    {
      "cell_type": "code",
      "execution_count": 38,
      "metadata": {},
      "outputs": [],
      "source": [
        "# Integrate with Cross-Domain Transfer Learning\n",
        "\n",
        "# Concatenate eigen feature representations with existing data\n",
        "X_train_with_graph = np.hstack((X_train, eigen_feature_representations[:len(X_train)]))\n",
        "X_test_with_graph = np.hstack((X_test, eigen_feature_representations[len(X_train):]))"
      ]
    },
    {
      "cell_type": "code",
      "execution_count": 39,
      "metadata": {},
      "outputs": [
        {
          "data": {
            "text/plain": [
              "10800"
            ]
          },
          "execution_count": 39,
          "metadata": {},
          "output_type": "execute_result"
        }
      ],
      "source": [
        "len(y_train)"
      ]
    },
    {
      "cell_type": "code",
      "execution_count": 40,
      "metadata": {},
      "outputs": [],
      "source": [
        "#Applying DANN"
      ]
    },
    {
      "cell_type": "code",
      "execution_count": 41,
      "metadata": {},
      "outputs": [],
      "source": [
        "# import tensorflow as tf\n",
        "# from tensorflow.keras import layers, models, Input\n",
        "\n",
        "# def build_cnn_model(vocab_size, embedding_dim, max_sequence_length, num_classes, num_eigenvectors):\n",
        "#     # Input layers\n",
        "#     input_text = Input(shape=(max_sequence_length+num_eigenvectors,), name='text_input')\n",
        "#     input_label = Input(shape=(num_classes,), name='label_input')\n",
        "#     input_domain = Input(shape=(1,), name='domain_input')\n",
        "\n",
        "#     # Embedding layer for text input\n",
        "#     embedding_layer = layers.Embedding(input_dim=vocab_size, output_dim=embedding_dim, input_length=max_sequence_length)(input_text)\n",
        "#     conv1d_layer = layers.Conv1D(filters=128, kernel_size=5, activation='relu')(embedding_layer)\n",
        "#     global_max_pooling_layer = layers.GlobalMaxPooling1D()(conv1d_layer)\n",
        "\n",
        "#     # Domain predictor branch\n",
        "#     domain_dense = layers.Dense(64, activation='relu')(global_max_pooling_layer)\n",
        "#     domain_output = layers.Dense(num_domains, activation='softmax', name='domain_output')(domain_dense)\n",
        "\n",
        "#     # Label predictor branch\n",
        "#     label_dense = layers.Dense(64, activation='relu')(global_max_pooling_layer)\n",
        "#     label_output = layers.Dense(num_classes, activation='softmax', name='label_output')(label_dense)\n",
        "\n",
        "#     # Combine the inputs and outputs to create the model\n",
        "#     model = models.Model(inputs=[input_text, input_label, input_domain], outputs=[label_output, domain_output])\n",
        "\n",
        "#     return model\n",
        "\n",
        "# # Assuming you have defined vocab_size, embedding_dim, max_sequence_length, num_classes, num_eigenvectors\n",
        "# model = build_cnn_model(vocab_size, embedding_dim, max_sequence_length, num_classes, num_eigenvectors)\n",
        "\n",
        "# # Compile the model\n",
        "# model.compile(optimizer='Adam',\n",
        "#               loss={'label_output': 'categorical_crossentropy', 'domain_output': 'categorical_crossentropy'},\n",
        "#               loss_weights={'label_output': 1.0, 'domain_output': 0.1})\n",
        "\n",
        "# # Display the model summary\n",
        "# model.summary()\n",
        "\n",
        "# # Assuming your data is properly prepared, train the model\n",
        "# model.fit({'text_input': X_train_with_graph, 'label_input': y_train, 'domain_input': domain_labels_combined[:len(X_train)]},\n",
        "#           {'label_output': y_train, 'domain_output': domain_labels_combined[:len(X_train)]},\n",
        "#           epochs=1)\n"
      ]
    },
    {
      "cell_type": "code",
      "execution_count": 42,
      "metadata": {},
      "outputs": [],
      "source": [
        "def build_feature_extractor(vocab_size, embedding_dim, max_sequence_length):\n",
        "    #input_layer = layers.Input(shape=(max_sequence_length,), name='text_input')\n",
        "    model = models.Sequential([\n",
        "        #layers.Embedding(input_dim=vocab_size, output_dim=embedding_dim, input_length=max_sequence_length)(input_layer),\n",
        "        layers.Embedding(input_dim=vocab_size, output_dim=embedding_dim, input_length=max_sequence_length),\n",
        "        layers.Conv1D(filters=128, kernel_size=5, activation='relu'),\n",
        "        layers.GlobalMaxPooling1D()\n",
        "    ])\n",
        "    return model\n",
        "    #return models.Model(inputs=input_layer, outputs=model(input_layer))\n",
        "    \n",
        "def build_label_predictor(num_classes):\n",
        "    #input_layer = layers.Input(shape=(128,), name='label_input')  # Assuming 128 is the output shape of feature_extractor\n",
        "    model = models.Sequential([\n",
        "        layers.Dense(units=num_classes, activation='softmax', name='output')\n",
        "    ])\n",
        "    return model\n",
        "    #return models.Model(inputs=input_layer, outputs=model(input_layer))\n",
        "    \n",
        "def build_domain_predictor():  # Added self as the first argument\n",
        "    #input_layer = layers.Input(shape=(128,), name='domain_input')  # Assuming 128 is the output shape of feature_extractor\n",
        "    model = models.Sequential([\n",
        "        layers.Dense(64, activation='relu', name='dense_1'),\n",
        "        layers.Dense(1, activation='sigmoid', name='dense_2')\n",
        "    ])\n",
        "    return model\n",
        "    #return models.Model(inputs=input_layer, outputs=model(input_layer))"
      ]
    },
    {
      "cell_type": "code",
      "execution_count": 43,
      "metadata": {},
      "outputs": [],
      "source": [
        "def build_dann(vocab_size, embedding_dim, max_sequence_length, num_classes, num_eigenvectors):\n",
        "    feature_extractor = build_feature_extractor(vocab_size, embedding_dim, max_sequence_length)\n",
        "    label_predictor = build_label_predictor(num_classes)\n",
        "    domain_predictor = build_domain_predictor() \n",
        "    \n",
        "    input_data = layers.Input(shape=(max_sequence_length + num_eigenvectors,))\n",
        "    label = layers.Input(shape=(num_classes,))\n",
        "    domain_label = layers.Input(shape=(1,))\n",
        "\n",
        "\n",
        "    # Feature extractor output\n",
        "    feature_output = feature_extractor(input_data)\n",
        "    \n",
        "    \n",
        "    # Domain prediction branch\n",
        "    domain_output = domain_predictor(feature_output)\n",
        "\n",
        "    # Label prediction branch\n",
        "    label_output = label_predictor(feature_output)\n",
        "\n",
        "\n",
        "    dann_model = models.Model(inputs=[input_data, label, domain_label],\n",
        "                                outputs=[label_output, domain_output])\n",
        "\n",
        "    return dann_model\n"
      ]
    },
    {
      "cell_type": "code",
      "execution_count": 44,
      "metadata": {},
      "outputs": [],
      "source": [
        "# Define loss functions\n",
        "def label_loss(y_true, y_pred):\n",
        "    return tf.keras.losses.categorical_crossentropy(y_true, y_pred)\n",
        "\n",
        "def domain_loss(y_true, y_pred):\n",
        "    return tf.keras.losses.binary_crossentropy(y_true, y_pred)"
      ]
    },
    {
      "cell_type": "code",
      "execution_count": 45,
      "metadata": {},
      "outputs": [],
      "source": [
        "dann_model = build_dann(vocab_size, embedding_dim, max_sequence_length, num_classes, num_eigenvectors)\n",
        "dann_model.compile(optimizer='Adam',\n",
        "                        loss=[label_loss, domain_loss],\n",
        "                          loss_weights=[1.0, 0.1])"
      ]
    },
    {
      "cell_type": "code",
      "execution_count": 48,
      "metadata": {},
      "outputs": [
        {
          "name": "stdout",
          "output_type": "stream",
          "text": [
            "Model: \"model\"\n",
            "__________________________________________________________________________________________________\n",
            " Layer (type)                Output Shape                 Param #   Connected to                  \n",
            "==================================================================================================\n",
            " input_1 (InputLayer)        [(None, 111)]                0         []                            \n",
            "                                                                                                  \n",
            " sequential (Sequential)     (None, 128)                  1303328   ['input_1[0][0]']             \n",
            "                                                                                                  \n",
            " input_2 (InputLayer)        [(None, 3)]                  0         []                            \n",
            "                                                                                                  \n",
            " input_3 (InputLayer)        [(None, 1)]                  0         []                            \n",
            "                                                                                                  \n",
            " sequential_1 (Sequential)   (None, 3)                    387       ['sequential[0][0]']          \n",
            "                                                                                                  \n",
            " sequential_2 (Sequential)   (None, 1)                    8321      ['sequential[0][0]']          \n",
            "                                                                                                  \n",
            "==================================================================================================\n",
            "Total params: 1312036 (5.01 MB)\n",
            "Trainable params: 1312036 (5.01 MB)\n",
            "Non-trainable params: 0 (0.00 Byte)\n",
            "__________________________________________________________________________________________________\n"
          ]
        }
      ],
      "source": [
        "dann_model.summary()"
      ]
    },
    {
      "cell_type": "code",
      "execution_count": 102,
      "metadata": {},
      "outputs": [],
      "source": [
        "# Train the DANN\n",
        "\n",
        "start_time = time.time()\n",
        "\n",
        "dann_model.fit([X_train_with_graph, y_train, domain_labels_combined[:len(X_train)]],\n",
        "                          [y_train, domain_labels_combined[:len(X_train)]],\n",
        "                          epochs=1)\n",
        "\n",
        "end_time = time.time()"
      ]
    },
    {
      "cell_type": "markdown",
      "metadata": {},
      "source": [
        "Here, We make a new column in df_target as 'video.next'. We will feed real time topic-space to our model. If the real-time data has the maximum similarity with one of the element in df_target['video.tags'], we add that topic-space in the same of row of df_target['video.next']"
      ]
    },
    {
      "cell_type": "code",
      "execution_count": 103,
      "metadata": {},
      "outputs": [],
      "source": [
        "# Load the spaCy English model\n",
        "nlp = spacy.load('en_core_web_md')\n",
        "\n",
        "def videoNext(df_target, curr):\n",
        "    # Create a new column 'video.next'\n",
        "    df_target['video.next'] = \"\"\n",
        "\n",
        "    # Iterate through each row in df_target\n",
        "    for i, row in df_target.iterrows():\n",
        "        # Calculate the average word vector for 'video.tags' and 'curr'\n",
        "        tags_avg_vector = np.mean([nlp(word).vector for word in row['video.tags']], axis=0)\n",
        "        curr_avg_vector = np.mean([nlp(word).vector for word in curr], axis=0)\n",
        "\n",
        "        # Calculate cosine similarity between 'video.tags' and 'curr'\n",
        "        similarity = cosine_similarity(tags_avg_vector.reshape(1, -1), curr_avg_vector.reshape(1, -1))[0, 0]\n",
        "\n",
        "        # Find the index of the row with the highest similarity (excluding the current row)\n",
        "        best_match_index = (cosine_similarity(tags_avg_vector.reshape(1, -1),\n",
        "                                              np.vstack(df_target['video.tags'].apply(lambda x: np.mean([nlp(word).vector for word in x], axis=0))))\n",
        "                            .argsort()[-2])\n",
        "\n",
        "        # Update 'video.next' with 'curr' for the row with the most similar 'video.tags'\n",
        "        if i == best_match_index:\n",
        "            df_target.at[i, 'video.next'] = curr\n",
        "\n",
        "    return df_target"
      ]
    },
    {
      "cell_type": "code",
      "execution_count": null,
      "metadata": {},
      "outputs": [],
      "source": [
        "def realtimeRecommend():\n",
        "    r = requests.get('https://www.allrecipes.com/gallery/top-new-recipes-2022/')\n",
        "    html = r.content \n",
        "    soup = BeautifulSoup(html,'html.parser')\n",
        "    \n",
        "    for w in soup.find_all('p', {'class': 'comp mntl-sc-block mntl-sc-block-html'})[:]:\n",
        "        model_input = create_topic_space(w.text)\n",
        "        \n",
        "        # Append the scraped data to the list\n",
        "        # Example usage:\n",
        "        df_target = videoNext(df_target, model_input)\n",
        "                    \n",
        "    return df_target['video.next']"
      ]
    }
  ],
  "metadata": {
    "colab": {
      "provenance": []
    },
    "kernelspec": {
      "display_name": "Python 3.10.7 64-bit",
      "language": "python",
      "name": "python3"
    },
    "language_info": {
      "codemirror_mode": {
        "name": "ipython",
        "version": 3
      },
      "file_extension": ".py",
      "mimetype": "text/x-python",
      "name": "python",
      "nbconvert_exporter": "python",
      "pygments_lexer": "ipython3",
      "version": "3.10.7"
    },
    "orig_nbformat": 4,
    "vscode": {
      "interpreter": {
        "hash": "aee8b7b246df8f9039afb4144a1f6fd8d2ca17a180786b69acc140d282b71a49"
      }
    }
  },
  "nbformat": 4,
  "nbformat_minor": 0
}
