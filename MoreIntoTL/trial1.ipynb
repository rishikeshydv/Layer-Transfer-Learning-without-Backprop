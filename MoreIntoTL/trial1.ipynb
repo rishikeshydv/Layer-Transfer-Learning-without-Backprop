{
  "cells": [
    {
      "cell_type": "code",
      "execution_count": 140,
      "metadata": {
        "id": "rrvt3NUnAYTH"
      },
      "outputs": [],
      "source": [
        "import tensorflow as tf\n",
        "from tensorflow.keras import datasets, layers, models\n",
        "import time\n",
        "import matplotlib.pyplot as plt\n",
        "import numpy as np\n",
        "from tensorflow.keras.preprocessing.image import ImageDataGenerator, img_to_array, load_img"
      ]
    },
    {
      "cell_type": "code",
      "execution_count": 141,
      "metadata": {
        "colab": {
          "base_uri": "https://localhost:8080/"
        },
        "id": "owOXRt4QAYTI",
        "outputId": "9785ce49-747f-4ca2-a461-69ed11c0918e"
      },
      "outputs": [],
      "source": [
        "# Load MNIST dataset\n",
        "(train_images, train_labels), (test_images, test_labels) = datasets.mnist.load_data()"
      ]
    },
    {
      "cell_type": "code",
      "execution_count": 142,
      "metadata": {},
      "outputs": [],
      "source": [
        "train_images = train_images.reshape((60000,28,28,1))\n",
        "train_images = train_images/255.0\n",
        "\n",
        "test_images = test_images.reshape((10000,28,28,1))\n",
        "test_images = test_images/255.0"
      ]
    },
    {
      "cell_type": "markdown",
      "metadata": {
        "id": "rTtBH9-JAYTI"
      },
      "source": [
        "Defining our model"
      ]
    },
    {
      "cell_type": "code",
      "execution_count": 143,
      "metadata": {
        "id": "eBydXIv3AYTJ"
      },
      "outputs": [],
      "source": [
        "# Define the CNN model\n",
        "model = tf.keras.models.Sequential([\n",
        "    tf.keras.layers.Conv2D(32, (3, 3), activation='relu', input_shape=(28, 28, 1), name='conv2d_1'),\n",
        "    tf.keras.layers.Conv2D(64, (3, 3), activation='relu', name='conv2d_2'),\n",
        "    tf.keras.layers.Conv2D(128, (3, 3), activation='relu', name='conv2d_3'),\n",
        "    tf.keras.layers.Flatten(name='flatten'),\n",
        "    tf.keras.layers.Dense(10, activation='softmax', name='output')\n",
        "])"
      ]
    },
    {
      "cell_type": "code",
      "execution_count": 144,
      "metadata": {
        "id": "ENJReVMLAYTJ"
      },
      "outputs": [],
      "source": [
        "# compile the model\n",
        "opt = tf.keras.optimizers.legacy.Adam(learning_rate=0.001)\n",
        "model.compile(optimizer=opt,\n",
        "              loss='sparse_categorical_crossentropy',\n",
        "              metrics=['accuracy'])"
      ]
    },
    {
      "cell_type": "code",
      "execution_count": 145,
      "metadata": {
        "colab": {
          "base_uri": "https://localhost:8080/"
        },
        "id": "gI_jlqhbAYTK",
        "outputId": "84265d3d-f2c0-4532-b4d8-f525a8030fbf"
      },
      "outputs": [
        {
          "name": "stdout",
          "output_type": "stream",
          "text": [
            "1875/1875 [==============================] - 67s 35ms/step - loss: 0.1047 - accuracy: 0.9681 - val_loss: 0.0573 - val_accuracy: 0.9811\n"
          ]
        }
      ],
      "source": [
        "# Train the model and display the activations after each epoch\n",
        "start_time = time.time()\n",
        "model.fit(train_images, train_labels, epochs=1, validation_data=(test_images, test_labels))\n",
        "end_time = time.time()"
      ]
    },
    {
      "cell_type": "code",
      "execution_count": 65,
      "metadata": {
        "colab": {
          "base_uri": "https://localhost:8080/"
        },
        "id": "UC3DWd-ZAYTK",
        "outputId": "8c76a2e6-a254-4eea-f171-a1995bfd3f33"
      },
      "outputs": [
        {
          "name": "stdout",
          "output_type": "stream",
          "text": [
            "313/313 [==============================] - 1s 5ms/step - loss: 0.0611 - accuracy: 0.9795\n",
            "Test accuracy: 0.9794999957084656\n",
            "Time elapsed:  25.316548109054565\n"
          ]
        }
      ],
      "source": [
        "test_loss, test_acc = model.evaluate(test_images, test_labels)\n",
        "print('Test accuracy:', test_acc)\n",
        "print('Time elapsed: ', end_time - start_time)"
      ]
    },
    {
      "cell_type": "code",
      "execution_count": 114,
      "metadata": {},
      "outputs": [
        {
          "name": "stderr",
          "output_type": "stream",
          "text": [
            "/Library/Frameworks/Python.framework/Versions/3.10/lib/python3.10/site-packages/keras/src/engine/training.py:3000: UserWarning: You are saving your model as an HDF5 file via `model.save()`. This file format is considered legacy. We recommend using instead the native Keras format, e.g. `model.save('my_model.keras')`.\n",
            "  saving_api.save_model(\n"
          ]
        }
      ],
      "source": [
        "model.save('model_init.h5')"
      ]
    },
    {
      "cell_type": "code",
      "execution_count": 146,
      "metadata": {},
      "outputs": [],
      "source": [
        "from sklearn.model_selection import train_test_split\n",
        "\n",
        "# Load Fashion MNIST dataset\n",
        "(train_images, train_labels), (test_images, test_labels) = datasets.fashion_mnist.load_data()\n",
        "\n",
        "# Split the training data into a 50:50 train-test split\n",
        "train_images, test_images, train_labels, test_labels = train_test_split(train_images, train_labels, test_size=0.9, random_state=42)"
      ]
    },
    {
      "cell_type": "code",
      "execution_count": 147,
      "metadata": {},
      "outputs": [],
      "source": [
        "train_images = train_images.reshape((6000,28,28,1))\n",
        "train_images = train_images/255.0\n",
        "\n",
        "test_images = test_images.reshape((54000,28,28,1))\n",
        "test_images = test_images/255.0"
      ]
    },
    {
      "cell_type": "code",
      "execution_count": 148,
      "metadata": {},
      "outputs": [
        {
          "name": "stdout",
          "output_type": "stream",
          "text": [
            "188/188 [==============================] - 24s 128ms/step - loss: 0.6810 - accuracy: 0.7627 - val_loss: 0.4485 - val_accuracy: 0.8378\n"
          ]
        }
      ],
      "source": [
        "# Train the model and display the activations after each epoch\n",
        "start_time = time.time()\n",
        "model.fit(train_images, train_labels, epochs=1, validation_data=(test_images, test_labels))\n",
        "end_time = time.time()"
      ]
    },
    {
      "cell_type": "code",
      "execution_count": 149,
      "metadata": {},
      "outputs": [
        {
          "name": "stdout",
          "output_type": "stream",
          "text": [
            "1688/1688 [==============================] - 19s 11ms/step - loss: 0.4485 - accuracy: 0.8378\n",
            "Test accuracy: 0.8378333449363708\n",
            "Time elapsed:  24.062577962875366\n"
          ]
        }
      ],
      "source": [
        "test_loss, test_acc = model.evaluate(test_images, test_labels)\n",
        "print('Test accuracy:', test_acc)\n",
        "print('Time elapsed: ', end_time - start_time)"
      ]
    },
    {
      "cell_type": "code",
      "execution_count": 129,
      "metadata": {},
      "outputs": [],
      "source": [
        "#reusing the saved model\n",
        "import tensorflow as tf\n",
        "from tensorflow import keras\n",
        "\n",
        "loaded_model = keras.models.load_model('model_init.h5')\n"
      ]
    },
    {
      "cell_type": "code",
      "execution_count": 101,
      "metadata": {},
      "outputs": [
        {
          "name": "stdout",
          "output_type": "stream",
          "text": [
            "<keras.src.layers.convolutional.conv2d.Conv2D object at 0x2cbfad4e0>\n",
            "<keras.src.layers.convolutional.conv2d.Conv2D object at 0x2cbfaf3a0>\n",
            "<keras.src.layers.convolutional.conv2d.Conv2D object at 0x2cbfaf7f0>\n",
            "<keras.src.layers.reshaping.flatten.Flatten object at 0x2cbfaf4c0>\n",
            "<keras.src.layers.core.dense.Dense object at 0x2cbfaee90>\n"
          ]
        }
      ],
      "source": [
        "for l in loaded_model.layers:\n",
        "    print(l)"
      ]
    },
    {
      "cell_type": "code",
      "execution_count": 130,
      "metadata": {},
      "outputs": [],
      "source": [
        "#making changes in the layers of the pre-saved model\n",
        "for i in range(2):\n",
        "    loaded_model.pop()\n"
      ]
    },
    {
      "cell_type": "code",
      "execution_count": 131,
      "metadata": {},
      "outputs": [],
      "source": [
        "#adding 3 extra convolutional layers to the model with increased convolutional layer depth\n",
        "#also adding some batch normalization layers to stabilize training and potentially improve accuracy\n",
        "loaded_model.add(tf.keras.layers.Conv2D(128, (3, 3), activation='relu', name='conv2d_4'))\n",
        "loaded_model.add(tf.keras.layers.BatchNormalization(name='batch_norm_4'))\n",
        "loaded_model.add(tf.keras.layers.MaxPooling2D(pool_size=(2, 2)))\n",
        "loaded_model.add(tf.keras.layers.Dropout(0.2))\n",
        "\n",
        "loaded_model.add(tf.keras.layers.Conv2D(128, (3, 3), activation='relu', name='conv2d_5'))\n",
        "loaded_model.add(tf.keras.layers.BatchNormalization(name='batch_norm_5'))\n",
        "loaded_model.add(tf.keras.layers.MaxPooling2D(pool_size=(2, 2)))\n",
        "loaded_model.add(tf.keras.layers.Dropout(0.2))\n",
        "\n",
        "loaded_model.add(tf.keras.layers.Conv2D(256, (3, 3), activation='relu', name='conv2d_6'))\n",
        "loaded_model.add(tf.keras.layers.BatchNormalization(name='batch_norm_6'))\n",
        "loaded_model.add(tf.keras.layers.MaxPooling2D(pool_size=(2, 2)))\n",
        "loaded_model.add(tf.keras.layers.Dropout(0.2))"
      ]
    },
    {
      "cell_type": "code",
      "execution_count": 132,
      "metadata": {},
      "outputs": [],
      "source": [
        "#adding the flatten and dense layers\n",
        "#adding extra dense layer with increased neurons\n",
        "loaded_model.add(model.get_layer('flatten'))\n",
        "#loaded_model.add(tf.keras.layers.Dense(64, activation='relu', name='dense_1'))\n",
        "loaded_model.add(tf.keras.layers.Dense(10, activation='softmax', name='output'))\n",
        "#loaded_model.add(tf.keras.layers.Dense(128, activation='relu', name='dense_2'))\n"
      ]
    },
    {
      "cell_type": "code",
      "execution_count": 133,
      "metadata": {},
      "outputs": [
        {
          "name": "stdout",
          "output_type": "stream",
          "text": [
            "<keras.src.layers.convolutional.conv2d.Conv2D object at 0x30adf79a0>\n",
            "<keras.src.layers.convolutional.conv2d.Conv2D object at 0x30abe6a40>\n",
            "<keras.src.layers.convolutional.conv2d.Conv2D object at 0x30adf6380>\n",
            "<keras.src.layers.convolutional.conv2d.Conv2D object at 0x2cbfe25f0>\n",
            "<keras.src.layers.normalization.batch_normalization.BatchNormalization object at 0x30ae8a890>\n",
            "<keras.src.layers.pooling.max_pooling2d.MaxPooling2D object at 0x30ae88370>\n",
            "<keras.src.layers.regularization.dropout.Dropout object at 0x30abe6aa0>\n",
            "<keras.src.layers.convolutional.conv2d.Conv2D object at 0x2cbfe19f0>\n",
            "<keras.src.layers.normalization.batch_normalization.BatchNormalization object at 0x17f34a950>\n",
            "<keras.src.layers.pooling.max_pooling2d.MaxPooling2D object at 0x30abe7dc0>\n",
            "<keras.src.layers.regularization.dropout.Dropout object at 0x2cbfe0670>\n",
            "<keras.src.layers.convolutional.conv2d.Conv2D object at 0x2fc3e74c0>\n",
            "<keras.src.layers.normalization.batch_normalization.BatchNormalization object at 0x2cbfe0c10>\n",
            "<keras.src.layers.pooling.max_pooling2d.MaxPooling2D object at 0x2cbfe0910>\n",
            "<keras.src.layers.regularization.dropout.Dropout object at 0x2cc0031f0>\n",
            "<keras.src.layers.reshaping.flatten.Flatten object at 0x30abab8e0>\n",
            "<keras.src.layers.core.dense.Dense object at 0x2cbfe2d10>\n"
          ]
        }
      ],
      "source": [
        "for l in loaded_model.layers:\n",
        "    print(l)"
      ]
    },
    {
      "cell_type": "code",
      "execution_count": 134,
      "metadata": {},
      "outputs": [],
      "source": [
        "# compile the model\n",
        "opt = tf.keras.optimizers.legacy.Adam(learning_rate=0.001)\n",
        "loaded_model.compile(optimizer=opt,\n",
        "              loss='sparse_categorical_crossentropy',\n",
        "              metrics=['accuracy'])"
      ]
    },
    {
      "cell_type": "code",
      "execution_count": 135,
      "metadata": {},
      "outputs": [
        {
          "name": "stdout",
          "output_type": "stream",
          "text": [
            "1875/1875 [==============================] - 166s 88ms/step - loss: 0.0897 - accuracy: 0.9733 - val_loss: 0.0286 - val_accuracy: 0.9911\n"
          ]
        }
      ],
      "source": [
        "\n",
        "# Train the model and display the activations after each epoch\n",
        "start_time = time.time()\n",
        "loaded_model.fit(train_images, train_labels, epochs=1, validation_data=(test_images, test_labels))\n",
        "end_time = time.time()\n"
      ]
    },
    {
      "cell_type": "code",
      "execution_count": 138,
      "metadata": {},
      "outputs": [
        {
          "name": "stdout",
          "output_type": "stream",
          "text": [
            "188/188 [==============================] - 58s 306ms/step - loss: 0.8982 - accuracy: 0.7128 - val_loss: 0.5376 - val_accuracy: 0.8037\n"
          ]
        }
      ],
      "source": [
        "# Train the model on F_MNIST\n",
        "#TESTING ON THE TARGET DOMAIN training on 10% of the TARGET DOMAIN\n",
        "start_time = time.time()\n",
        "loaded_model.fit(train_images, train_labels, epochs=1, validation_data=(test_images, test_labels))\n",
        "end_time = time.time()"
      ]
    },
    {
      "cell_type": "code",
      "execution_count": 139,
      "metadata": {},
      "outputs": [
        {
          "name": "stdout",
          "output_type": "stream",
          "text": [
            "1688/1688 [==============================] - 42s 25ms/step - loss: 0.5376 - accuracy: 0.8037\n",
            "Test accuracy: 0.8037222027778625\n",
            "Time elapsed:  57.54733204841614\n"
          ]
        }
      ],
      "source": [
        "test_loss, test_acc = loaded_model.evaluate(test_images, test_labels)\n",
        "print('Test accuracy:', test_acc)\n",
        "print('Time elapsed: ', end_time - start_time)"
      ]
    }
  ],
  "metadata": {
    "colab": {
      "provenance": []
    },
    "kernelspec": {
      "display_name": "Python 3.10.7 64-bit",
      "language": "python",
      "name": "python3"
    },
    "language_info": {
      "codemirror_mode": {
        "name": "ipython",
        "version": 3
      },
      "file_extension": ".py",
      "mimetype": "text/x-python",
      "name": "python",
      "nbconvert_exporter": "python",
      "pygments_lexer": "ipython3",
      "version": "3.10.7"
    },
    "orig_nbformat": 4,
    "vscode": {
      "interpreter": {
        "hash": "aee8b7b246df8f9039afb4144a1f6fd8d2ca17a180786b69acc140d282b71a49"
      }
    }
  },
  "nbformat": 4,
  "nbformat_minor": 0
}
