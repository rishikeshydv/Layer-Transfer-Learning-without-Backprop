{
  "cells": [
    {
      "cell_type": "code",
      "execution_count": 88,
      "metadata": {
        "id": "rrvt3NUnAYTH"
      },
      "outputs": [],
      "source": [
        "import tensorflow as tf\n",
        "from tensorflow.keras import datasets, layers, models\n",
        "import time\n",
        "import matplotlib.pyplot as plt\n",
        "import numpy as np\n",
        "from tensorflow.keras.preprocessing.image import ImageDataGenerator, img_to_array, load_img"
      ]
    },
    {
      "cell_type": "code",
      "execution_count": 49,
      "metadata": {
        "colab": {
          "base_uri": "https://localhost:8080/"
        },
        "id": "owOXRt4QAYTI",
        "outputId": "9785ce49-747f-4ca2-a461-69ed11c0918e"
      },
      "outputs": [],
      "source": [
        "# Load MNIST dataset\n",
        "(train_images, train_labels), (test_images, test_labels) = datasets.mnist.load_data()"
      ]
    },
    {
      "cell_type": "code",
      "execution_count": 50,
      "metadata": {},
      "outputs": [],
      "source": [
        "train_images = train_images.reshape((60000,28,28,1))\n",
        "train_images = train_images/255.0\n",
        "\n",
        "test_images = test_images.reshape((10000,28,28,1))\n",
        "test_images = test_images/255.0"
      ]
    },
    {
      "cell_type": "markdown",
      "metadata": {
        "id": "rTtBH9-JAYTI"
      },
      "source": [
        "Defining our model"
      ]
    },
    {
      "cell_type": "code",
      "execution_count": 51,
      "metadata": {
        "id": "eBydXIv3AYTJ"
      },
      "outputs": [],
      "source": [
        "# Define the CNN model\n",
        "model = tf.keras.models.Sequential([\n",
        "    tf.keras.layers.Conv2D(32, (3, 3), activation='relu', input_shape=(28, 28, 1), name='conv2d_1'),\n",
        "    tf.keras.layers.Conv2D(64, (3, 3), activation='relu', name='conv2d_2'),\n",
        "    tf.keras.layers.Conv2D(128, (3, 3), activation='relu', name='conv2d_3'),\n",
        "    tf.keras.layers.Flatten(name='flatten'),\n",
        "    tf.keras.layers.Dense(10, activation='softmax', name='output')\n",
        "])"
      ]
    },
    {
      "cell_type": "code",
      "execution_count": 52,
      "metadata": {
        "id": "ENJReVMLAYTJ"
      },
      "outputs": [],
      "source": [
        "# compile the model\n",
        "opt = tf.keras.optimizers.legacy.Adam(learning_rate=0.001)\n",
        "model.compile(optimizer=opt,\n",
        "              loss='sparse_categorical_crossentropy',\n",
        "              metrics=['accuracy'])"
      ]
    },
    {
      "cell_type": "code",
      "execution_count": 53,
      "metadata": {
        "colab": {
          "base_uri": "https://localhost:8080/"
        },
        "id": "gI_jlqhbAYTK",
        "outputId": "84265d3d-f2c0-4532-b4d8-f525a8030fbf"
      },
      "outputs": [
        {
          "name": "stdout",
          "output_type": "stream",
          "text": [
            "1875/1875 [==============================] - 69s 37ms/step - loss: 0.1062 - accuracy: 0.9680 - val_loss: 0.0535 - val_accuracy: 0.9824\n"
          ]
        }
      ],
      "source": [
        "# Train the model and display the activations after each epoch\n",
        "start_time = time.time()\n",
        "model.fit(train_images, train_labels, epochs=1, validation_data=(test_images, test_labels))\n",
        "end_time = time.time()"
      ]
    },
    {
      "cell_type": "code",
      "execution_count": 54,
      "metadata": {
        "colab": {
          "base_uri": "https://localhost:8080/"
        },
        "id": "UC3DWd-ZAYTK",
        "outputId": "8c76a2e6-a254-4eea-f171-a1995bfd3f33"
      },
      "outputs": [
        {
          "name": "stdout",
          "output_type": "stream",
          "text": [
            "313/313 [==============================] - 4s 11ms/step - loss: 0.0535 - accuracy: 0.9824\n",
            "Test accuracy: 0.9824000000953674\n",
            "Time elapsed:  69.2872998714447\n"
          ]
        }
      ],
      "source": [
        "test_loss, test_acc = model.evaluate(test_images, test_labels)\n",
        "print('Test accuracy:', test_acc)\n",
        "print('Time elapsed: ', end_time - start_time)"
      ]
    },
    {
      "cell_type": "code",
      "execution_count": 55,
      "metadata": {},
      "outputs": [
        {
          "name": "stderr",
          "output_type": "stream",
          "text": [
            "/Library/Frameworks/Python.framework/Versions/3.10/lib/python3.10/site-packages/keras/src/engine/training.py:3000: UserWarning: You are saving your model as an HDF5 file via `model.save()`. This file format is considered legacy. We recommend using instead the native Keras format, e.g. `model.save('my_model.keras')`.\n",
            "  saving_api.save_model(\n"
          ]
        }
      ],
      "source": [
        "model.save('model_init.h5')"
      ]
    },
    {
      "cell_type": "code",
      "execution_count": 56,
      "metadata": {},
      "outputs": [],
      "source": [
        "from sklearn.model_selection import train_test_split\n",
        "\n",
        "# Load Fashion MNIST dataset\n",
        "(train_images, train_labels), (test_images, test_labels) = datasets.fashion_mnist.load_data()\n",
        "\n",
        "# Split the training data into a 50:50 train-test split\n",
        "train_images, test_images, train_labels, test_labels = train_test_split(train_images, train_labels, test_size=0.9, random_state=42)"
      ]
    },
    {
      "cell_type": "code",
      "execution_count": 57,
      "metadata": {},
      "outputs": [],
      "source": [
        "train_images = train_images.reshape((6000,28,28,1))\n",
        "train_images = train_images/255.0\n",
        "\n",
        "test_images = test_images.reshape((54000,28,28,1))\n",
        "test_images = test_images/255.0"
      ]
    },
    {
      "cell_type": "code",
      "execution_count": 148,
      "metadata": {},
      "outputs": [
        {
          "name": "stdout",
          "output_type": "stream",
          "text": [
            "188/188 [==============================] - 24s 128ms/step - loss: 0.6810 - accuracy: 0.7627 - val_loss: 0.4485 - val_accuracy: 0.8378\n"
          ]
        }
      ],
      "source": [
        "# Train the model and display the activations after each epoch\n",
        "start_time = time.time()\n",
        "model.fit(train_images, train_labels, epochs=1, validation_data=(test_images, test_labels))\n",
        "end_time = time.time()"
      ]
    },
    {
      "cell_type": "code",
      "execution_count": 149,
      "metadata": {},
      "outputs": [
        {
          "name": "stdout",
          "output_type": "stream",
          "text": [
            "1688/1688 [==============================] - 19s 11ms/step - loss: 0.4485 - accuracy: 0.8378\n",
            "Test accuracy: 0.8378333449363708\n",
            "Time elapsed:  24.062577962875366\n"
          ]
        }
      ],
      "source": [
        "test_loss, test_acc = model.evaluate(test_images, test_labels)\n",
        "print('Test accuracy:', test_acc)\n",
        "print('Time elapsed: ', end_time - start_time)"
      ]
    },
    {
      "cell_type": "code",
      "execution_count": 77,
      "metadata": {},
      "outputs": [],
      "source": [
        "#reusing the saved model\n",
        "import tensorflow as tf\n",
        "from tensorflow import keras\n",
        "\n",
        "loaded_model = keras.models.load_model('model_init.h5')\n"
      ]
    },
    {
      "cell_type": "code",
      "execution_count": 78,
      "metadata": {},
      "outputs": [
        {
          "name": "stdout",
          "output_type": "stream",
          "text": [
            "<keras.src.layers.convolutional.conv2d.Conv2D object at 0x2915ee0e0>\n",
            "<keras.src.layers.convolutional.conv2d.Conv2D object at 0x2915eea70>\n",
            "<keras.src.layers.convolutional.conv2d.Conv2D object at 0x291725b40>\n",
            "<keras.src.layers.reshaping.flatten.Flatten object at 0x292813940>\n",
            "<keras.src.layers.core.dense.Dense object at 0x29288f3d0>\n"
          ]
        }
      ],
      "source": [
        "for l in loaded_model.layers:\n",
        "    print(l)\n",
        "    "
      ]
    },
    {
      "cell_type": "code",
      "execution_count": 74,
      "metadata": {},
      "outputs": [],
      "source": [
        "# from tensorflow.keras.layers import Dense,Flatten\n",
        "# from tensorflow.keras import Model"
      ]
    },
    {
      "cell_type": "code",
      "execution_count": 79,
      "metadata": {},
      "outputs": [],
      "source": [
        "#making changes in the layers of the pre-saved model\n",
        "for i in range(2):\n",
        "    loaded_model.pop()\n",
        "\n",
        "#here we are using the same lower layer layers of the initial model but adding a new top fully connected layers\n",
        "#so as to adapt with the new target domain\n",
        "\n",
        "# x = loaded_model.layers[-3].output \n",
        "# x = Flatten()(x)\n",
        "# x = Dense(64,activation='relu',name='dense_1')\n",
        "# predictions = Dense(10, activation = \"softmax\")(x)\n",
        "# final_model = Model(inputs = loaded_model.input, outputs = predictions)"
      ]
    },
    {
      "cell_type": "code",
      "execution_count": 81,
      "metadata": {},
      "outputs": [],
      "source": [
        "# #adding new flatten and dense layers to help the model adapt the target domain\n",
        "loaded_model.add(tf.keras.layers.Flatten(name='flatten'))\n",
        "loaded_model.add(tf.keras.layers.Dense(64, activation='relu', name='dense_1'))\n",
        "loaded_model.add(tf.keras.layers.Dense(10, activation='softmax', name='output'))\n",
        "# #loaded_model.add(tf.keras.layers.Dense(128, activation='relu', name='dense_2'))\n"
      ]
    },
    {
      "cell_type": "code",
      "execution_count": 82,
      "metadata": {},
      "outputs": [
        {
          "name": "stdout",
          "output_type": "stream",
          "text": [
            "<keras.src.layers.convolutional.conv2d.Conv2D object at 0x2915ee0e0>\n",
            "<keras.src.layers.convolutional.conv2d.Conv2D object at 0x2915eea70>\n",
            "<keras.src.layers.convolutional.conv2d.Conv2D object at 0x291725b40>\n",
            "<keras.src.layers.reshaping.flatten.Flatten object at 0x28c8f0fa0>\n",
            "<keras.src.layers.core.dense.Dense object at 0x28c8f1210>\n",
            "<keras.src.layers.core.dense.Dense object at 0x2917277c0>\n"
          ]
        }
      ],
      "source": [
        "for l in loaded_model.layers:\n",
        "    print(l)"
      ]
    },
    {
      "cell_type": "code",
      "execution_count": 84,
      "metadata": {},
      "outputs": [],
      "source": [
        "#here we freeze the convolutional layers so that its weights and biases are not affected\n",
        "#we only want to have the top fully connected adjusted as per the target\n",
        "for layer in loaded_model.layers[:3]:\n",
        "    layer.trainable = False"
      ]
    },
    {
      "cell_type": "code",
      "execution_count": 85,
      "metadata": {},
      "outputs": [],
      "source": [
        "# compile the model\n",
        "opt = tf.keras.optimizers.legacy.Adam(learning_rate=0.001)\n",
        "loaded_model.compile(optimizer=opt,\n",
        "              loss='sparse_categorical_crossentropy',\n",
        "              metrics=['accuracy'])"
      ]
    },
    {
      "cell_type": "code",
      "execution_count": 86,
      "metadata": {},
      "outputs": [
        {
          "name": "stdout",
          "output_type": "stream",
          "text": [
            "188/188 [==============================] - 22s 117ms/step - loss: 0.5878 - accuracy: 0.7958 - val_loss: 0.4564 - val_accuracy: 0.8387\n"
          ]
        }
      ],
      "source": [
        "\n",
        "# Train the model and display the activations after each epoch\n",
        "start_time = time.time()\n",
        "loaded_model.fit(train_images, train_labels, epochs=1, validation_data=(test_images, test_labels))\n",
        "end_time = time.time()\n"
      ]
    },
    {
      "cell_type": "code",
      "execution_count": 87,
      "metadata": {},
      "outputs": [
        {
          "name": "stdout",
          "output_type": "stream",
          "text": [
            "1688/1688 [==============================] - 20s 12ms/step - loss: 0.4564 - accuracy: 0.8387\n",
            "Test accuracy: 0.8386852145195007\n",
            "Time elapsed:  22.023769855499268\n"
          ]
        }
      ],
      "source": [
        "test_loss, test_acc = loaded_model.evaluate(test_images, test_labels)\n",
        "print('Test accuracy:', test_acc)\n",
        "print('Time elapsed: ', end_time - start_time)"
      ]
    }
  ],
  "metadata": {
    "colab": {
      "provenance": []
    },
    "kernelspec": {
      "display_name": "Python 3.10.7 64-bit",
      "language": "python",
      "name": "python3"
    },
    "language_info": {
      "codemirror_mode": {
        "name": "ipython",
        "version": 3
      },
      "file_extension": ".py",
      "mimetype": "text/x-python",
      "name": "python",
      "nbconvert_exporter": "python",
      "pygments_lexer": "ipython3",
      "version": "3.10.7"
    },
    "orig_nbformat": 4,
    "vscode": {
      "interpreter": {
        "hash": "aee8b7b246df8f9039afb4144a1f6fd8d2ca17a180786b69acc140d282b71a49"
      }
    }
  },
  "nbformat": 4,
  "nbformat_minor": 0
}
